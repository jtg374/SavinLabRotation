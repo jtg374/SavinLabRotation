{
 "cells": [
  {
   "cell_type": "code",
   "execution_count": 1,
   "metadata": {},
   "outputs": [],
   "source": [
    "import numpy as np\n",
    "import matplotlib.pyplot as plt\n",
    "from matplotlib import cm\n",
    "from scipy.integrate import solve_ivp\n"
   ]
  },
  {
   "cell_type": "code",
   "execution_count": 2,
   "metadata": {},
   "outputs": [],
   "source": [
    "# T_theta = 125 # ms, theta osicillation period\n",
    "A_STDP = 0.03; s_STDP = 4 # parameters for STDP\n",
    "omega = lambda dx: A_STDP * np.exp(s_STDP*np.cos(dx)) * np.sin(dx) # gabor as STDP rule\n",
    "domega = lambda dx: A_STDP * np.exp(s_STDP*np.cos(dx)) * (np.cos(dx) - s_STDP*np.sin(dx)**2) # derivative of STDP in respect to xi (postsynaptic)\n",
    "# plot STDP and PCF\n",
    "# u = np.arange(-np.pi,np.pi,np.pi/120)\n",
    "# plt.plot(u,omega(u))\n",
    "# plt.plot(u,domega(u))\n",
    "# plt.plot(u,domega(u)*omega(u))"
   ]
  },
  {
   "cell_type": "code",
   "execution_count": 3,
   "metadata": {},
   "outputs": [],
   "source": [
    "def mainode(t,x):\n",
    "    # global variables:\n",
    "    # N is number of neurons\n",
    "    # Wij is the synpatic efficancy from neuron j to i\n",
    "    # sigma2_w is the variance of W\n",
    "    # x_tilde is the recall cue\n",
    "    # k_{prior,noise} is the concentration of prior and \n",
    "    # cue distribution\n",
    "    # x_fire is list of each neuron's list of firing \n",
    "    # phase, dynamically updated at each event\n",
    "    H = np.zeros((N,N))\n",
    "    for j in range(N):\n",
    "        if x_fire[j]: # if neuron j has fired\n",
    "            xj = x_fire[j][-1] # we need the last firing phase\n",
    "            dxij = x-xj # phase difference between neurons\n",
    "            H[:,j] = W[:,j] * domega(dxij) # phase interaction\n",
    "                                           # from neuron j\n",
    "                                           # to neuron i\n",
    "                                           # Hjj is guarenteed\n",
    "                                           # to be 0 because\n",
    "                                           # Wjj is 0\n",
    "    dx_prior    = -k_prior * np.sin(x) \n",
    "    dx_external = -k_noise * np.sin(x-x_tilde)\n",
    "    dx_synapse  = np.sum(H,1)/sigma2_w # sum_j H_{ij}/sigma_w^2\n",
    "    return dx_prior + dx_external + dx_synapse"
   ]
  },
  {
   "cell_type": "code",
   "execution_count": 4,
   "metadata": {},
   "outputs": [],
   "source": [
    "N = 200\t# number of neurons\n",
    "event = [lambda t,x:            # event[i](t,x)\n",
    "        np.sin((x[j]-t)/2)      # equals 0 when firing phase\n",
    "        for j in range(N)]      # of neuron i matches current LFP \n",
    "                                # i.e. (x[i]-t) mod 2pi ==0 \n",
    "for func in event: \n",
    "        func.terminal = True\n"
   ]
  },
  {
   "cell_type": "code",
   "execution_count": 5,
   "metadata": {},
   "outputs": [],
   "source": [
    "N = N\t# number of neurons\n",
    "M = 15\t# number of memories\n",
    "k_prior = 0.5\t# von Mises concentration parameter\n",
    "                # for prior distribution\n",
    "k_noise = 10\t# for cue distribution\n",
    "x_memory = np.random.vonmises(0,k_prior,(N,M)) # every column \n",
    "                                        # is a memory trace\n",
    "x_0 = np.random.vonmises(0,k_prior,N)\n",
    "x_target = x_memory[:,0].copy()            # the first one is \n",
    "                                    # what we want to recall\n",
    "x_noise = np.random.vonmises(0,k_noise,N)   # indepedent random\n",
    "                                # noise to corrupt the cue\n",
    "x_tilde = x_target + x_noise\n",
    "W = np.zeros((N,N))\n",
    "for i in range(N):\n",
    "    for j in range(i): # j<i, Wii = 0\n",
    "        for k in range(M): # the STDP rule is additive\n",
    "            W[i,j] += omega(x_memory[i,k]-x_memory[j,k])\n",
    "            W[j,i] += omega(x_memory[j,k]-x_memory[i,k])\n",
    "W_flatten = [W[i][j] for i in range(N) for j in range(i) ]\n",
    "sigma2_w = np.var(W_flatten)\n",
    "# plt.hist(W_flatten,50)\n",
    "\n",
    "x_fire = [[ ] for j in range(N)] # record firing phase\n"
   ]
  },
  {
   "cell_type": "code",
   "execution_count": 6,
   "metadata": {},
   "outputs": [
    {
     "name": "stdout",
     "output_type": "stream",
     "text": [
      "True\n",
      "True\n"
     ]
    }
   ],
   "source": [
    "print(not np.any(np.diag(W)))\n",
    "i,j = np.random.randint(0,N,2)\n",
    "print(W[i,j] + W[j,i] == 0)"
   ]
  },
  {
   "cell_type": "code",
   "execution_count": 7,
   "metadata": {},
   "outputs": [
    {
     "name": "stdout",
     "output_type": "stream",
     "text": [
      "0.3089137920113165\n",
      "0.007976000276099349\n"
     ]
    }
   ],
   "source": [
    "p=np.argmin(np.mod(x_tilde,2*np.pi))\n",
    "print(x_target[p])\n",
    "print(x_tilde[p])"
   ]
  },
  {
   "cell_type": "code",
   "execution_count": 8,
   "metadata": {},
   "outputs": [
    {
     "name": "stdout",
     "output_type": "stream",
     "text": [
      "A termination event occurred.\n",
      "0.04638772204924749\n",
      "200\n"
     ]
    }
   ],
   "source": [
    "tf = 4*np.pi # end of simulation, unit in LFP phase\n",
    "sol = solve_ivp(mainode,(0,tf),x_0,events=event) # integrate\n",
    "                                # until a neuron fire\n",
    "t = sol.t; tNow = t[-1]         # record time\n",
    "x = sol.y; xNow = x[:,-1]       # state\n",
    "for j,te in enumerate(sol.t_events):\n",
    "        x_fire += list(te)      # update x_fire for calculating H\n",
    "print(sol.message)\n",
    "print(tNow)\n",
    "print(len(xNow))"
   ]
  },
  {
   "cell_type": "code",
   "execution_count": 9,
   "metadata": {},
   "outputs": [
    {
     "data": {
      "text/plain": [
       "[<matplotlib.lines.Line2D at 0x23450825400>]"
      ]
     },
     "execution_count": 12,
     "metadata": {},
     "output_type": "execute_result"
    },
    {
     "data": {
      "image/png": "[encoded data removed]",
      "text/plain": [
       "<Figure size 432x288 with 1 Axes>"
      ]
     },
     "metadata": {},
     "output_type": "display_data"
    }
   ],
   "source": [
    "plt.plot(t,x[p,:])"
   ]
  },
  {
   "cell_type": "code",
   "execution_count": 10,
   "metadata": {},
   "outputs": [
    {
     "name": "stdout",
     "output_type": "stream",
     "text": [
      "A termination event occurred.\n",
      "0.04638772204924749\n"
     ]
    },
    {
     "ename": "ValueError",
     "evalue": "operands could not be broadcast together with shapes (6,) (200,) ",
     "output_type": "error",
     "traceback": [
      "\u001b[1;31m---------------------------------------------------------------------------\u001b[0m",
      "\u001b[1;31mValueError\u001b[0m                                Traceback (most recent call last)",
      "\u001b[1;32m<ipython-input-13-6a7eb63352ab>\u001b[0m in \u001b[0;36m<module>\u001b[1;34m()\u001b[0m\n\u001b[0;32m      1\u001b[0m \u001b[1;31m#%%\u001b[0m\u001b[1;33m\u001b[0m\u001b[1;33m\u001b[0m\u001b[0m\n\u001b[0;32m      2\u001b[0m \u001b[1;32mwhile\u001b[0m \u001b[0mtNow\u001b[0m \u001b[1;33m<=\u001b[0m \u001b[0mtf\u001b[0m\u001b[1;33m:\u001b[0m\u001b[1;33m\u001b[0m\u001b[0m\n\u001b[1;32m----> 3\u001b[1;33m         \u001b[0msol\u001b[0m \u001b[1;33m=\u001b[0m \u001b[0msolve_ivp\u001b[0m\u001b[1;33m(\u001b[0m\u001b[0mmainode\u001b[0m\u001b[1;33m,\u001b[0m\u001b[1;33m(\u001b[0m\u001b[0mtNow\u001b[0m\u001b[1;33m,\u001b[0m\u001b[0mtf\u001b[0m\u001b[1;33m)\u001b[0m\u001b[1;33m,\u001b[0m\u001b[0mxNow\u001b[0m\u001b[1;33m,\u001b[0m\u001b[0mevents\u001b[0m\u001b[1;33m=\u001b[0m\u001b[0mevent\u001b[0m\u001b[1;33m)\u001b[0m\u001b[1;33m\u001b[0m\u001b[0m\n\u001b[0m\u001b[0;32m      4\u001b[0m         \u001b[0mt\u001b[0m \u001b[1;33m=\u001b[0m \u001b[0mnp\u001b[0m\u001b[1;33m.\u001b[0m\u001b[0mappend\u001b[0m\u001b[1;33m(\u001b[0m\u001b[0mt\u001b[0m\u001b[1;33m,\u001b[0m\u001b[0msol\u001b[0m\u001b[1;33m.\u001b[0m\u001b[0mt\u001b[0m\u001b[1;33m)\u001b[0m\u001b[1;33m\u001b[0m\u001b[0m\n\u001b[0;32m      5\u001b[0m         \u001b[0mx\u001b[0m \u001b[1;33m=\u001b[0m \u001b[0mnp\u001b[0m\u001b[1;33m.\u001b[0m\u001b[0mappend\u001b[0m\u001b[1;33m(\u001b[0m\u001b[0mx\u001b[0m\u001b[1;33m,\u001b[0m\u001b[0msol\u001b[0m\u001b[1;33m.\u001b[0m\u001b[0my\u001b[0m\u001b[1;33m,\u001b[0m\u001b[0maxis\u001b[0m\u001b[1;33m=\u001b[0m\u001b[1;36m1\u001b[0m\u001b[1;33m)\u001b[0m\u001b[1;33m\u001b[0m\u001b[0m\n",
      "\u001b[1;32m~\\Anaconda3\\lib\\site-packages\\scipy\\integrate\\_ivp\\ivp.py\u001b[0m in \u001b[0;36msolve_ivp\u001b[1;34m(fun, t_span, y0, method, t_eval, dense_output, events, vectorized, **options)\u001b[0m\n\u001b[0;32m    452\u001b[0m         \u001b[0mmethod\u001b[0m \u001b[1;33m=\u001b[0m \u001b[0mMETHODS\u001b[0m\u001b[1;33m[\u001b[0m\u001b[0mmethod\u001b[0m\u001b[1;33m]\u001b[0m\u001b[1;33m\u001b[0m\u001b[0m\n\u001b[0;32m    453\u001b[0m \u001b[1;33m\u001b[0m\u001b[0m\n\u001b[1;32m--> 454\u001b[1;33m     \u001b[0msolver\u001b[0m \u001b[1;33m=\u001b[0m \u001b[0mmethod\u001b[0m\u001b[1;33m(\u001b[0m\u001b[0mfun\u001b[0m\u001b[1;33m,\u001b[0m \u001b[0mt0\u001b[0m\u001b[1;33m,\u001b[0m \u001b[0my0\u001b[0m\u001b[1;33m,\u001b[0m \u001b[0mtf\u001b[0m\u001b[1;33m,\u001b[0m \u001b[0mvectorized\u001b[0m\u001b[1;33m=\u001b[0m\u001b[0mvectorized\u001b[0m\u001b[1;33m,\u001b[0m \u001b[1;33m**\u001b[0m\u001b[0moptions\u001b[0m\u001b[1;33m)\u001b[0m\u001b[1;33m\u001b[0m\u001b[0m\n\u001b[0m\u001b[0;32m    455\u001b[0m \u001b[1;33m\u001b[0m\u001b[0m\n\u001b[0;32m    456\u001b[0m     \u001b[1;32mif\u001b[0m \u001b[0mt_eval\u001b[0m \u001b[1;32mis\u001b[0m \u001b[1;32mNone\u001b[0m\u001b[1;33m:\u001b[0m\u001b[1;33m\u001b[0m\u001b[0m\n",
      "\u001b[1;32m~\\Anaconda3\\lib\\site-packages\\scipy\\integrate\\_ivp\\rk.py\u001b[0m in \u001b[0;36m__init__\u001b[1;34m(self, fun, t0, y0, t_bound, max_step, rtol, atol, vectorized, **extraneous)\u001b[0m\n\u001b[0;32m     97\u001b[0m         \u001b[0mself\u001b[0m\u001b[1;33m.\u001b[0m\u001b[0mmax_step\u001b[0m \u001b[1;33m=\u001b[0m \u001b[0mvalidate_max_step\u001b[0m\u001b[1;33m(\u001b[0m\u001b[0mmax_step\u001b[0m\u001b[1;33m)\u001b[0m\u001b[1;33m\u001b[0m\u001b[0m\n\u001b[0;32m     98\u001b[0m         \u001b[0mself\u001b[0m\u001b[1;33m.\u001b[0m\u001b[0mrtol\u001b[0m\u001b[1;33m,\u001b[0m \u001b[0mself\u001b[0m\u001b[1;33m.\u001b[0m\u001b[0matol\u001b[0m \u001b[1;33m=\u001b[0m \u001b[0mvalidate_tol\u001b[0m\u001b[1;33m(\u001b[0m\u001b[0mrtol\u001b[0m\u001b[1;33m,\u001b[0m \u001b[0matol\u001b[0m\u001b[1;33m,\u001b[0m \u001b[0mself\u001b[0m\u001b[1;33m.\u001b[0m\u001b[0mn\u001b[0m\u001b[1;33m)\u001b[0m\u001b[1;33m\u001b[0m\u001b[0m\n\u001b[1;32m---> 99\u001b[1;33m         \u001b[0mself\u001b[0m\u001b[1;33m.\u001b[0m\u001b[0mf\u001b[0m \u001b[1;33m=\u001b[0m \u001b[0mself\u001b[0m\u001b[1;33m.\u001b[0m\u001b[0mfun\u001b[0m\u001b[1;33m(\u001b[0m\u001b[0mself\u001b[0m\u001b[1;33m.\u001b[0m\u001b[0mt\u001b[0m\u001b[1;33m,\u001b[0m \u001b[0mself\u001b[0m\u001b[1;33m.\u001b[0m\u001b[0my\u001b[0m\u001b[1;33m)\u001b[0m\u001b[1;33m\u001b[0m\u001b[0m\n\u001b[0m\u001b[0;32m    100\u001b[0m         self.h_abs = select_initial_step(\n\u001b[0;32m    101\u001b[0m             \u001b[0mself\u001b[0m\u001b[1;33m.\u001b[0m\u001b[0mfun\u001b[0m\u001b[1;33m,\u001b[0m \u001b[0mself\u001b[0m\u001b[1;33m.\u001b[0m\u001b[0mt\u001b[0m\u001b[1;33m,\u001b[0m \u001b[0mself\u001b[0m\u001b[1;33m.\u001b[0m\u001b[0my\u001b[0m\u001b[1;33m,\u001b[0m \u001b[0mself\u001b[0m\u001b[1;33m.\u001b[0m\u001b[0mf\u001b[0m\u001b[1;33m,\u001b[0m \u001b[0mself\u001b[0m\u001b[1;33m.\u001b[0m\u001b[0mdirection\u001b[0m\u001b[1;33m,\u001b[0m\u001b[1;33m\u001b[0m\u001b[0m\n",
      "\u001b[1;32m~\\Anaconda3\\lib\\site-packages\\scipy\\integrate\\_ivp\\base.py\u001b[0m in \u001b[0;36mfun\u001b[1;34m(t, y)\u001b[0m\n\u001b[0;32m    137\u001b[0m         \u001b[1;32mdef\u001b[0m \u001b[0mfun\u001b[0m\u001b[1;33m(\u001b[0m\u001b[0mt\u001b[0m\u001b[1;33m,\u001b[0m \u001b[0my\u001b[0m\u001b[1;33m)\u001b[0m\u001b[1;33m:\u001b[0m\u001b[1;33m\u001b[0m\u001b[0m\n\u001b[0;32m    138\u001b[0m             \u001b[0mself\u001b[0m\u001b[1;33m.\u001b[0m\u001b[0mnfev\u001b[0m \u001b[1;33m+=\u001b[0m \u001b[1;36m1\u001b[0m\u001b[1;33m\u001b[0m\u001b[0m\n\u001b[1;32m--> 139\u001b[1;33m             \u001b[1;32mreturn\u001b[0m \u001b[0mself\u001b[0m\u001b[1;33m.\u001b[0m\u001b[0mfun_single\u001b[0m\u001b[1;33m(\u001b[0m\u001b[0mt\u001b[0m\u001b[1;33m,\u001b[0m \u001b[0my\u001b[0m\u001b[1;33m)\u001b[0m\u001b[1;33m\u001b[0m\u001b[0m\n\u001b[0m\u001b[0;32m    140\u001b[0m \u001b[1;33m\u001b[0m\u001b[0m\n\u001b[0;32m    141\u001b[0m         \u001b[0mself\u001b[0m\u001b[1;33m.\u001b[0m\u001b[0mfun\u001b[0m \u001b[1;33m=\u001b[0m \u001b[0mfun\u001b[0m\u001b[1;33m\u001b[0m\u001b[0m\n",
      "\u001b[1;32m~\\Anaconda3\\lib\\site-packages\\scipy\\integrate\\_ivp\\base.py\u001b[0m in \u001b[0;36mfun_wrapped\u001b[1;34m(t, y)\u001b[0m\n\u001b[0;32m     19\u001b[0m \u001b[1;33m\u001b[0m\u001b[0m\n\u001b[0;32m     20\u001b[0m     \u001b[1;32mdef\u001b[0m \u001b[0mfun_wrapped\u001b[0m\u001b[1;33m(\u001b[0m\u001b[0mt\u001b[0m\u001b[1;33m,\u001b[0m \u001b[0my\u001b[0m\u001b[1;33m)\u001b[0m\u001b[1;33m:\u001b[0m\u001b[1;33m\u001b[0m\u001b[0m\n\u001b[1;32m---> 21\u001b[1;33m         \u001b[1;32mreturn\u001b[0m \u001b[0mnp\u001b[0m\u001b[1;33m.\u001b[0m\u001b[0masarray\u001b[0m\u001b[1;33m(\u001b[0m\u001b[0mfun\u001b[0m\u001b[1;33m(\u001b[0m\u001b[0mt\u001b[0m\u001b[1;33m,\u001b[0m \u001b[0my\u001b[0m\u001b[1;33m)\u001b[0m\u001b[1;33m,\u001b[0m \u001b[0mdtype\u001b[0m\u001b[1;33m=\u001b[0m\u001b[0mdtype\u001b[0m\u001b[1;33m)\u001b[0m\u001b[1;33m\u001b[0m\u001b[0m\n\u001b[0m\u001b[0;32m     22\u001b[0m \u001b[1;33m\u001b[0m\u001b[0m\n\u001b[0;32m     23\u001b[0m     \u001b[1;32mreturn\u001b[0m \u001b[0mfun_wrapped\u001b[0m\u001b[1;33m,\u001b[0m \u001b[0my0\u001b[0m\u001b[1;33m\u001b[0m\u001b[0m\n",
      "\u001b[1;32m<ipython-input-6-65dde064900d>\u001b[0m in \u001b[0;36mmainode\u001b[1;34m(t, x)\u001b[0m\n\u001b[0;32m     22\u001b[0m                                            \u001b[1;31m# Wjj is 0\u001b[0m\u001b[1;33m\u001b[0m\u001b[1;33m\u001b[0m\u001b[0m\n\u001b[0;32m     23\u001b[0m     \u001b[0mdx_prior\u001b[0m    \u001b[1;33m=\u001b[0m \u001b[1;33m-\u001b[0m\u001b[0mk_prior\u001b[0m \u001b[1;33m*\u001b[0m \u001b[0mnp\u001b[0m\u001b[1;33m.\u001b[0m\u001b[0msin\u001b[0m\u001b[1;33m(\u001b[0m\u001b[0mx\u001b[0m\u001b[1;33m)\u001b[0m\u001b[1;33m\u001b[0m\u001b[0m\n\u001b[1;32m---> 24\u001b[1;33m     \u001b[0mdx_external\u001b[0m \u001b[1;33m=\u001b[0m \u001b[1;33m-\u001b[0m\u001b[0mk_noise\u001b[0m \u001b[1;33m*\u001b[0m \u001b[0mnp\u001b[0m\u001b[1;33m.\u001b[0m\u001b[0msin\u001b[0m\u001b[1;33m(\u001b[0m\u001b[0mx\u001b[0m\u001b[1;33m-\u001b[0m\u001b[0mx_tilde\u001b[0m\u001b[1;33m)\u001b[0m\u001b[1;33m\u001b[0m\u001b[0m\n\u001b[0m\u001b[0;32m     25\u001b[0m     \u001b[0mdx_synapse\u001b[0m  \u001b[1;33m=\u001b[0m \u001b[0mnp\u001b[0m\u001b[1;33m.\u001b[0m\u001b[0msum\u001b[0m\u001b[1;33m(\u001b[0m\u001b[0mH\u001b[0m\u001b[1;33m,\u001b[0m\u001b[1;36m1\u001b[0m\u001b[1;33m)\u001b[0m\u001b[1;33m/\u001b[0m\u001b[0msigma2_w\u001b[0m \u001b[1;31m# sum_j H_{ij}/sigma_w^2\u001b[0m\u001b[1;33m\u001b[0m\u001b[0m\n\u001b[0;32m     26\u001b[0m     \u001b[1;32mreturn\u001b[0m \u001b[0mdx_prior\u001b[0m \u001b[1;33m+\u001b[0m \u001b[0mdx_external\u001b[0m \u001b[1;33m+\u001b[0m \u001b[0mdx_synapse\u001b[0m\u001b[1;33m\u001b[0m\u001b[0m\n",
      "\u001b[1;31mValueError\u001b[0m: operands could not be broadcast together with shapes (6,) (200,) "
     ]
    }
   ],
   "source": [
    "while tNow <= tf:\n",
    "        sol = solve_ivp(mainode,(tNow,tf),xNow,events=event)\n",
    "        t = np.append(t,sol.t)\n",
    "        x = np.append(x,sol.y,axis=1)\n",
    "        tNow = t[-1]\n",
    "        xNow = x[-1]\n",
    "        for j,te in enumerate(sol.t_events):\n",
    "                x_fire += list(te)  # update x_fire for calculating H\n",
    "        print(sol.message)\n",
    "        print(tNow)\n",
    "        \n",
    "\n",
    "\n",
    "\n"
   ]
  },
  {
   "cell_type": "code",
   "execution_count": 11,
   "metadata": {},
   "outputs": [
    {
     "name": "stdout",
     "output_type": "stream",
     "text": [
      "A termination event occurred.\n",
      "0.04638772204924749\n",
      "200\n"
     ]
    },
    {
     "name": "stderr",
     "output_type": "stream",
     "text": [
      "C:\\Users\\golde\\Anaconda3\\lib\\site-packages\\ipykernel_launcher.py:8: DeprecationWarning: The truth value of an empty array is ambiguous. Returning False, but in future this will result in an error. Use `array.size > 0` to check that an array is not empty.\n",
      "  \n"
     ]
    }
   ],
   "source": [
    "tf = 4*np.pi # end of simulation, unit in LFP phase\n",
    "sol = solve_ivp(mainode,(0,tf),x_0,events=event) # integrate\n",
    "                                # until a neuron fire\n",
    "t = sol.t; tNow = t[-1]         # record time\n",
    "x = sol.y; xNow = x[:,-1]       # state\n",
    "for j,te in enumerate(sol.t_events):\n",
    "        if te:\n",
    "                x_fire[j] += list(te)      # update x_fire for calculating H\n",
    "\n",
    "print(sol.message)\n",
    "print(tNow)\n",
    "print(len(xNow))"
   ]
  },
  {
   "cell_type": "code",
   "execution_count": 12,
   "metadata": {},
   "outputs": [
    {
     "name": "stdout",
     "output_type": "stream",
     "text": [
      "A termination event occurred.\n",
      "0.047130504421116284\n",
      "200\n"
     ]
    }
   ],
   "source": [
    "tf = 4*np.pi # end of simulation, unit in LFP phase\n",
    "sol = solve_ivp(mainode,(0,tf),x_0,events=event) # integrate\n",
    "                                # until a neuron fire\n",
    "t = sol.t; tNow = t[-1]         # record time\n",
    "x = sol.y; xNow = x[:,-1]       # state\n",
    "for j,te in enumerate(sol.t_events):\n",
    "        if te.size>0:\n",
    "                x_fire[j] += list(te)      # update x_fire for calculating H\n",
    "\n",
    "print(sol.message)\n",
    "print(tNow)\n",
    "print(len(xNow))"
   ]
  },
  {
   "cell_type": "code",
   "execution_count": 13,
   "metadata": {},
   "outputs": [
    {
     "data": {
      "text/plain": [
       "[<matplotlib.lines.Line2D at 0x23450944438>]"
      ]
     },
     "execution_count": 16,
     "metadata": {},
     "output_type": "execute_result"
    },
    {
     "data": {
      "image/png": "[encoded data removed]",
      "text/plain": [
       "<Figure size 432x288 with 1 Axes>"
      ]
     },
     "metadata": {},
     "output_type": "display_data"
    }
   ],
   "source": [
    "plt.plot(t,x[p,:])"
   ]
  },
  {
   "cell_type": "code",
   "execution_count": 14,
   "metadata": {},
   "outputs": [
    {
     "name": "stdout",
     "output_type": "stream",
     "text": [
      "A termination event occurred.\n",
      "0.047130504421116284\n"
     ]
    },
    {
     "ename": "ValueError",
     "evalue": "operands could not be broadcast together with shapes (200,) (6,) ",
     "output_type": "error",
     "traceback": [
      "\u001b[1;31m---------------------------------------------------------------------------\u001b[0m",
      "\u001b[1;31mValueError\u001b[0m                                Traceback (most recent call last)",
      "\u001b[1;32m<ipython-input-17-8dc0b1732446>\u001b[0m in \u001b[0;36m<module>\u001b[1;34m()\u001b[0m\n\u001b[0;32m      1\u001b[0m \u001b[1;31m#%%\u001b[0m\u001b[1;33m\u001b[0m\u001b[1;33m\u001b[0m\u001b[0m\n\u001b[0;32m      2\u001b[0m \u001b[1;32mwhile\u001b[0m \u001b[0mtNow\u001b[0m \u001b[1;33m<=\u001b[0m \u001b[0mtf\u001b[0m\u001b[1;33m:\u001b[0m\u001b[1;33m\u001b[0m\u001b[0m\n\u001b[1;32m----> 3\u001b[1;33m         \u001b[0msol\u001b[0m \u001b[1;33m=\u001b[0m \u001b[0msolve_ivp\u001b[0m\u001b[1;33m(\u001b[0m\u001b[0mmainode\u001b[0m\u001b[1;33m,\u001b[0m\u001b[1;33m(\u001b[0m\u001b[0mtNow\u001b[0m\u001b[1;33m,\u001b[0m\u001b[0mtf\u001b[0m\u001b[1;33m)\u001b[0m\u001b[1;33m,\u001b[0m\u001b[0mxNow\u001b[0m\u001b[1;33m,\u001b[0m\u001b[0mevents\u001b[0m\u001b[1;33m=\u001b[0m\u001b[0mevent\u001b[0m\u001b[1;33m)\u001b[0m\u001b[1;33m\u001b[0m\u001b[0m\n\u001b[0m\u001b[0;32m      4\u001b[0m         \u001b[0mt\u001b[0m \u001b[1;33m=\u001b[0m \u001b[0mnp\u001b[0m\u001b[1;33m.\u001b[0m\u001b[0mappend\u001b[0m\u001b[1;33m(\u001b[0m\u001b[0mt\u001b[0m\u001b[1;33m,\u001b[0m\u001b[0msol\u001b[0m\u001b[1;33m.\u001b[0m\u001b[0mt\u001b[0m\u001b[1;33m)\u001b[0m\u001b[1;33m\u001b[0m\u001b[0m\n\u001b[0;32m      5\u001b[0m         \u001b[0mx\u001b[0m \u001b[1;33m=\u001b[0m \u001b[0mnp\u001b[0m\u001b[1;33m.\u001b[0m\u001b[0mappend\u001b[0m\u001b[1;33m(\u001b[0m\u001b[0mx\u001b[0m\u001b[1;33m,\u001b[0m\u001b[0msol\u001b[0m\u001b[1;33m.\u001b[0m\u001b[0my\u001b[0m\u001b[1;33m,\u001b[0m\u001b[0maxis\u001b[0m\u001b[1;33m=\u001b[0m\u001b[1;36m1\u001b[0m\u001b[1;33m)\u001b[0m\u001b[1;33m\u001b[0m\u001b[0m\n",
      "\u001b[1;32m~\\Anaconda3\\lib\\site-packages\\scipy\\integrate\\_ivp\\ivp.py\u001b[0m in \u001b[0;36msolve_ivp\u001b[1;34m(fun, t_span, y0, method, t_eval, dense_output, events, vectorized, **options)\u001b[0m\n\u001b[0;32m    452\u001b[0m         \u001b[0mmethod\u001b[0m \u001b[1;33m=\u001b[0m \u001b[0mMETHODS\u001b[0m\u001b[1;33m[\u001b[0m\u001b[0mmethod\u001b[0m\u001b[1;33m]\u001b[0m\u001b[1;33m\u001b[0m\u001b[0m\n\u001b[0;32m    453\u001b[0m \u001b[1;33m\u001b[0m\u001b[0m\n\u001b[1;32m--> 454\u001b[1;33m     \u001b[0msolver\u001b[0m \u001b[1;33m=\u001b[0m \u001b[0mmethod\u001b[0m\u001b[1;33m(\u001b[0m\u001b[0mfun\u001b[0m\u001b[1;33m,\u001b[0m \u001b[0mt0\u001b[0m\u001b[1;33m,\u001b[0m \u001b[0my0\u001b[0m\u001b[1;33m,\u001b[0m \u001b[0mtf\u001b[0m\u001b[1;33m,\u001b[0m \u001b[0mvectorized\u001b[0m\u001b[1;33m=\u001b[0m\u001b[0mvectorized\u001b[0m\u001b[1;33m,\u001b[0m \u001b[1;33m**\u001b[0m\u001b[0moptions\u001b[0m\u001b[1;33m)\u001b[0m\u001b[1;33m\u001b[0m\u001b[0m\n\u001b[0m\u001b[0;32m    455\u001b[0m \u001b[1;33m\u001b[0m\u001b[0m\n\u001b[0;32m    456\u001b[0m     \u001b[1;32mif\u001b[0m \u001b[0mt_eval\u001b[0m \u001b[1;32mis\u001b[0m \u001b[1;32mNone\u001b[0m\u001b[1;33m:\u001b[0m\u001b[1;33m\u001b[0m\u001b[0m\n",
      "\u001b[1;32m~\\Anaconda3\\lib\\site-packages\\scipy\\integrate\\_ivp\\rk.py\u001b[0m in \u001b[0;36m__init__\u001b[1;34m(self, fun, t0, y0, t_bound, max_step, rtol, atol, vectorized, **extraneous)\u001b[0m\n\u001b[0;32m     97\u001b[0m         \u001b[0mself\u001b[0m\u001b[1;33m.\u001b[0m\u001b[0mmax_step\u001b[0m \u001b[1;33m=\u001b[0m \u001b[0mvalidate_max_step\u001b[0m\u001b[1;33m(\u001b[0m\u001b[0mmax_step\u001b[0m\u001b[1;33m)\u001b[0m\u001b[1;33m\u001b[0m\u001b[0m\n\u001b[0;32m     98\u001b[0m         \u001b[0mself\u001b[0m\u001b[1;33m.\u001b[0m\u001b[0mrtol\u001b[0m\u001b[1;33m,\u001b[0m \u001b[0mself\u001b[0m\u001b[1;33m.\u001b[0m\u001b[0matol\u001b[0m \u001b[1;33m=\u001b[0m \u001b[0mvalidate_tol\u001b[0m\u001b[1;33m(\u001b[0m\u001b[0mrtol\u001b[0m\u001b[1;33m,\u001b[0m \u001b[0matol\u001b[0m\u001b[1;33m,\u001b[0m \u001b[0mself\u001b[0m\u001b[1;33m.\u001b[0m\u001b[0mn\u001b[0m\u001b[1;33m)\u001b[0m\u001b[1;33m\u001b[0m\u001b[0m\n\u001b[1;32m---> 99\u001b[1;33m         \u001b[0mself\u001b[0m\u001b[1;33m.\u001b[0m\u001b[0mf\u001b[0m \u001b[1;33m=\u001b[0m \u001b[0mself\u001b[0m\u001b[1;33m.\u001b[0m\u001b[0mfun\u001b[0m\u001b[1;33m(\u001b[0m\u001b[0mself\u001b[0m\u001b[1;33m.\u001b[0m\u001b[0mt\u001b[0m\u001b[1;33m,\u001b[0m \u001b[0mself\u001b[0m\u001b[1;33m.\u001b[0m\u001b[0my\u001b[0m\u001b[1;33m)\u001b[0m\u001b[1;33m\u001b[0m\u001b[0m\n\u001b[0m\u001b[0;32m    100\u001b[0m         self.h_abs = select_initial_step(\n\u001b[0;32m    101\u001b[0m             \u001b[0mself\u001b[0m\u001b[1;33m.\u001b[0m\u001b[0mfun\u001b[0m\u001b[1;33m,\u001b[0m \u001b[0mself\u001b[0m\u001b[1;33m.\u001b[0m\u001b[0mt\u001b[0m\u001b[1;33m,\u001b[0m \u001b[0mself\u001b[0m\u001b[1;33m.\u001b[0m\u001b[0my\u001b[0m\u001b[1;33m,\u001b[0m \u001b[0mself\u001b[0m\u001b[1;33m.\u001b[0m\u001b[0mf\u001b[0m\u001b[1;33m,\u001b[0m \u001b[0mself\u001b[0m\u001b[1;33m.\u001b[0m\u001b[0mdirection\u001b[0m\u001b[1;33m,\u001b[0m\u001b[1;33m\u001b[0m\u001b[0m\n",
      "\u001b[1;32m~\\Anaconda3\\lib\\site-packages\\scipy\\integrate\\_ivp\\base.py\u001b[0m in \u001b[0;36mfun\u001b[1;34m(t, y)\u001b[0m\n\u001b[0;32m    137\u001b[0m         \u001b[1;32mdef\u001b[0m \u001b[0mfun\u001b[0m\u001b[1;33m(\u001b[0m\u001b[0mt\u001b[0m\u001b[1;33m,\u001b[0m \u001b[0my\u001b[0m\u001b[1;33m)\u001b[0m\u001b[1;33m:\u001b[0m\u001b[1;33m\u001b[0m\u001b[0m\n\u001b[0;32m    138\u001b[0m             \u001b[0mself\u001b[0m\u001b[1;33m.\u001b[0m\u001b[0mnfev\u001b[0m \u001b[1;33m+=\u001b[0m \u001b[1;36m1\u001b[0m\u001b[1;33m\u001b[0m\u001b[0m\n\u001b[1;32m--> 139\u001b[1;33m             \u001b[1;32mreturn\u001b[0m \u001b[0mself\u001b[0m\u001b[1;33m.\u001b[0m\u001b[0mfun_single\u001b[0m\u001b[1;33m(\u001b[0m\u001b[0mt\u001b[0m\u001b[1;33m,\u001b[0m \u001b[0my\u001b[0m\u001b[1;33m)\u001b[0m\u001b[1;33m\u001b[0m\u001b[0m\n\u001b[0m\u001b[0;32m    140\u001b[0m \u001b[1;33m\u001b[0m\u001b[0m\n\u001b[0;32m    141\u001b[0m         \u001b[0mself\u001b[0m\u001b[1;33m.\u001b[0m\u001b[0mfun\u001b[0m \u001b[1;33m=\u001b[0m \u001b[0mfun\u001b[0m\u001b[1;33m\u001b[0m\u001b[0m\n",
      "\u001b[1;32m~\\Anaconda3\\lib\\site-packages\\scipy\\integrate\\_ivp\\base.py\u001b[0m in \u001b[0;36mfun_wrapped\u001b[1;34m(t, y)\u001b[0m\n\u001b[0;32m     19\u001b[0m \u001b[1;33m\u001b[0m\u001b[0m\n\u001b[0;32m     20\u001b[0m     \u001b[1;32mdef\u001b[0m \u001b[0mfun_wrapped\u001b[0m\u001b[1;33m(\u001b[0m\u001b[0mt\u001b[0m\u001b[1;33m,\u001b[0m \u001b[0my\u001b[0m\u001b[1;33m)\u001b[0m\u001b[1;33m:\u001b[0m\u001b[1;33m\u001b[0m\u001b[0m\n\u001b[1;32m---> 21\u001b[1;33m         \u001b[1;32mreturn\u001b[0m \u001b[0mnp\u001b[0m\u001b[1;33m.\u001b[0m\u001b[0masarray\u001b[0m\u001b[1;33m(\u001b[0m\u001b[0mfun\u001b[0m\u001b[1;33m(\u001b[0m\u001b[0mt\u001b[0m\u001b[1;33m,\u001b[0m \u001b[0my\u001b[0m\u001b[1;33m)\u001b[0m\u001b[1;33m,\u001b[0m \u001b[0mdtype\u001b[0m\u001b[1;33m=\u001b[0m\u001b[0mdtype\u001b[0m\u001b[1;33m)\u001b[0m\u001b[1;33m\u001b[0m\u001b[0m\n\u001b[0m\u001b[0;32m     22\u001b[0m \u001b[1;33m\u001b[0m\u001b[0m\n\u001b[0;32m     23\u001b[0m     \u001b[1;32mreturn\u001b[0m \u001b[0mfun_wrapped\u001b[0m\u001b[1;33m,\u001b[0m \u001b[0my0\u001b[0m\u001b[1;33m\u001b[0m\u001b[0m\n",
      "\u001b[1;32m<ipython-input-6-65dde064900d>\u001b[0m in \u001b[0;36mmainode\u001b[1;34m(t, x)\u001b[0m\n\u001b[0;32m     15\u001b[0m             \u001b[0mxj\u001b[0m \u001b[1;33m=\u001b[0m \u001b[0mx_fire\u001b[0m\u001b[1;33m[\u001b[0m\u001b[0mj\u001b[0m\u001b[1;33m]\u001b[0m\u001b[1;33m[\u001b[0m\u001b[1;33m-\u001b[0m\u001b[1;36m1\u001b[0m\u001b[1;33m]\u001b[0m \u001b[1;31m# we need the last firing phase\u001b[0m\u001b[1;33m\u001b[0m\u001b[0m\n\u001b[0;32m     16\u001b[0m             \u001b[0mdxij\u001b[0m \u001b[1;33m=\u001b[0m \u001b[0mx\u001b[0m\u001b[1;33m-\u001b[0m\u001b[0mxj\u001b[0m \u001b[1;31m# phase difference between neurons\u001b[0m\u001b[1;33m\u001b[0m\u001b[0m\n\u001b[1;32m---> 17\u001b[1;33m             \u001b[0mH\u001b[0m\u001b[1;33m[\u001b[0m\u001b[1;33m:\u001b[0m\u001b[1;33m,\u001b[0m\u001b[0mj\u001b[0m\u001b[1;33m]\u001b[0m \u001b[1;33m=\u001b[0m \u001b[0mW\u001b[0m\u001b[1;33m[\u001b[0m\u001b[1;33m:\u001b[0m\u001b[1;33m,\u001b[0m\u001b[0mj\u001b[0m\u001b[1;33m]\u001b[0m \u001b[1;33m*\u001b[0m \u001b[0mdomega\u001b[0m\u001b[1;33m(\u001b[0m\u001b[0mdxij\u001b[0m\u001b[1;33m)\u001b[0m \u001b[1;31m# phase interaction\u001b[0m\u001b[1;33m\u001b[0m\u001b[0m\n\u001b[0m\u001b[0;32m     18\u001b[0m                                            \u001b[1;31m# from neuron j\u001b[0m\u001b[1;33m\u001b[0m\u001b[1;33m\u001b[0m\u001b[0m\n\u001b[0;32m     19\u001b[0m                                            \u001b[1;31m# to neuron i\u001b[0m\u001b[1;33m\u001b[0m\u001b[1;33m\u001b[0m\u001b[0m\n",
      "\u001b[1;31mValueError\u001b[0m: operands could not be broadcast together with shapes (200,) (6,) "
     ]
    }
   ],
   "source": [
    "while tNow <= tf:\n",
    "        sol = solve_ivp(mainode,(tNow,tf),xNow,events=event)\n",
    "        t = np.append(t,sol.t)\n",
    "        x = np.append(x,sol.y,axis=1)\n",
    "        tNow = t[-1]\n",
    "        xNow = x[-1]\n",
    "        for j,te in enumerate(sol.t_events):\n",
    "                x_fire[j] += list(te)  # update x_fire for calculating H\n",
    "        print(sol.message)\n",
    "        print(tNow)\n",
    "        \n",
    "\n",
    "\n",
    "\n"
   ]
  },
  {
   "cell_type": "code",
   "execution_count": 15,
   "metadata": {},
   "outputs": [
    {
     "name": "stdout",
     "output_type": "stream",
     "text": [
      "A termination event occurred.\n",
      "0.047131786008526126\n",
      "200\n"
     ]
    }
   ],
   "source": [
    "tf = 4*np.pi # end of simulation, unit in LFP phase\n",
    "sol = solve_ivp(mainode,(0,tf),x_0,events=event) # integrate\n",
    "                                # until a neuron fire\n",
    "t = sol.t; tNow = t[-1]         # record time\n",
    "x = sol.y; xNow = x[:,-1]       # state\n",
    "for j,te in enumerate(sol.t_events):\n",
    "        if te.size>0:\n",
    "                x_fire[j] += list(te)      # update x_fire for calculating H\n",
    "                event[j].terminal = False\n",
    "print(sol.message)\n",
    "print(tNow)\n",
    "print(len(xNow))"
   ]
  },
  {
   "cell_type": "code",
   "execution_count": 16,
   "metadata": {},
   "outputs": [
    {
     "ename": "AttributeError",
     "evalue": "event",
     "output_type": "error",
     "traceback": [
      "\u001b[1;31m---------------------------------------------------------------------------\u001b[0m",
      "\u001b[1;31mKeyError\u001b[0m                                  Traceback (most recent call last)",
      "\u001b[1;32m~\\Anaconda3\\lib\\site-packages\\scipy\\optimize\\optimize.py\u001b[0m in \u001b[0;36m__getattr__\u001b[1;34m(self, name)\u001b[0m\n\u001b[0;32m    113\u001b[0m         \u001b[1;32mtry\u001b[0m\u001b[1;33m:\u001b[0m\u001b[1;33m\u001b[0m\u001b[0m\n\u001b[1;32m--> 114\u001b[1;33m             \u001b[1;32mreturn\u001b[0m \u001b[0mself\u001b[0m\u001b[1;33m[\u001b[0m\u001b[0mname\u001b[0m\u001b[1;33m]\u001b[0m\u001b[1;33m\u001b[0m\u001b[0m\n\u001b[0m\u001b[0;32m    115\u001b[0m         \u001b[1;32mexcept\u001b[0m \u001b[0mKeyError\u001b[0m\u001b[1;33m:\u001b[0m\u001b[1;33m\u001b[0m\u001b[0m\n",
      "\u001b[1;31mKeyError\u001b[0m: 'event'",
      "\nDuring handling of the above exception, another exception occurred:\n",
      "\u001b[1;31mAttributeError\u001b[0m                            Traceback (most recent call last)",
      "\u001b[1;32m<ipython-input-19-bdf06eba2227>\u001b[0m in \u001b[0;36m<module>\u001b[1;34m()\u001b[0m\n\u001b[0;32m      1\u001b[0m \u001b[1;31m#%%\u001b[0m\u001b[1;33m\u001b[0m\u001b[1;33m\u001b[0m\u001b[0m\n\u001b[0;32m      2\u001b[0m \u001b[0msol\u001b[0m \u001b[1;33m=\u001b[0m \u001b[0msolve_ivp\u001b[0m\u001b[1;33m(\u001b[0m\u001b[0mmainode\u001b[0m\u001b[1;33m,\u001b[0m\u001b[1;33m(\u001b[0m\u001b[0mtNow\u001b[0m\u001b[1;33m,\u001b[0m\u001b[0mtf\u001b[0m\u001b[1;33m)\u001b[0m\u001b[1;33m,\u001b[0m\u001b[0mxNow\u001b[0m\u001b[1;33m,\u001b[0m\u001b[0mevents\u001b[0m\u001b[1;33m=\u001b[0m\u001b[0mevent\u001b[0m\u001b[1;33m)\u001b[0m\u001b[1;33m\u001b[0m\u001b[0m\n\u001b[1;32m----> 3\u001b[1;33m \u001b[0mlen\u001b[0m\u001b[1;33m(\u001b[0m\u001b[0msol\u001b[0m\u001b[1;33m.\u001b[0m\u001b[0mevent\u001b[0m\u001b[1;33m)\u001b[0m\u001b[1;33m\u001b[0m\u001b[0m\n\u001b[0m\u001b[0;32m      4\u001b[0m \u001b[0mt\u001b[0m \u001b[1;33m=\u001b[0m \u001b[0mnp\u001b[0m\u001b[1;33m.\u001b[0m\u001b[0mappend\u001b[0m\u001b[1;33m(\u001b[0m\u001b[0mt\u001b[0m\u001b[1;33m,\u001b[0m\u001b[0msol\u001b[0m\u001b[1;33m.\u001b[0m\u001b[0mt\u001b[0m\u001b[1;33m)\u001b[0m\u001b[1;33m\u001b[0m\u001b[0m\n\u001b[0;32m      5\u001b[0m \u001b[0mx\u001b[0m \u001b[1;33m=\u001b[0m \u001b[0mnp\u001b[0m\u001b[1;33m.\u001b[0m\u001b[0mappend\u001b[0m\u001b[1;33m(\u001b[0m\u001b[0mx\u001b[0m\u001b[1;33m,\u001b[0m\u001b[0msol\u001b[0m\u001b[1;33m.\u001b[0m\u001b[0my\u001b[0m\u001b[1;33m,\u001b[0m\u001b[0maxis\u001b[0m\u001b[1;33m=\u001b[0m\u001b[1;36m1\u001b[0m\u001b[1;33m)\u001b[0m\u001b[1;33m\u001b[0m\u001b[0m\n",
      "\u001b[1;32m~\\Anaconda3\\lib\\site-packages\\scipy\\optimize\\optimize.py\u001b[0m in \u001b[0;36m__getattr__\u001b[1;34m(self, name)\u001b[0m\n\u001b[0;32m    114\u001b[0m             \u001b[1;32mreturn\u001b[0m \u001b[0mself\u001b[0m\u001b[1;33m[\u001b[0m\u001b[0mname\u001b[0m\u001b[1;33m]\u001b[0m\u001b[1;33m\u001b[0m\u001b[0m\n\u001b[0;32m    115\u001b[0m         \u001b[1;32mexcept\u001b[0m \u001b[0mKeyError\u001b[0m\u001b[1;33m:\u001b[0m\u001b[1;33m\u001b[0m\u001b[0m\n\u001b[1;32m--> 116\u001b[1;33m             \u001b[1;32mraise\u001b[0m \u001b[0mAttributeError\u001b[0m\u001b[1;33m(\u001b[0m\u001b[0mname\u001b[0m\u001b[1;33m)\u001b[0m\u001b[1;33m\u001b[0m\u001b[0m\n\u001b[0m\u001b[0;32m    117\u001b[0m \u001b[1;33m\u001b[0m\u001b[0m\n\u001b[0;32m    118\u001b[0m     \u001b[0m__setattr__\u001b[0m \u001b[1;33m=\u001b[0m \u001b[0mdict\u001b[0m\u001b[1;33m.\u001b[0m\u001b[0m__setitem__\u001b[0m\u001b[1;33m\u001b[0m\u001b[0m\n",
      "\u001b[1;31mAttributeError\u001b[0m: event"
     ]
    }
   ],
   "source": [
    "sol = solve_ivp(mainode,(tNow,tf),xNow,events=event)\n",
    "len(sol.event)\n",
    "t = np.append(t,sol.t)\n",
    "x = np.append(x,sol.y,axis=1)\n",
    "tNow = t[-1]\n",
    "xNow = x[:,-1]\n",
    "print(sol.message)\n",
    "print(tNow)\n",
    "for j,te in enumerate(sol.t_events):\n",
    "        if te.size>0:\n",
    "                print(j)"
   ]
  },
  {
   "cell_type": "code",
   "execution_count": 17,
   "metadata": {},
   "outputs": [
    {
     "name": "stdout",
     "output_type": "stream",
     "text": [
      "0\n",
      "127\n",
      "A termination event occurred.\n",
      "0.0471317882160801\n",
      "200\n"
     ]
    }
   ],
   "source": [
    "tf = 4*np.pi # end of simulation, unit in LFP phase\n",
    "sol = solve_ivp(mainode,(0,tf),x_0,events=event) # integrate\n",
    "                                # until a neuron fire\n",
    "t = sol.t; tNow = t[-1]         # record time\n",
    "x = sol.y; xNow = x[:,-1]       # state\n",
    "for j,te in enumerate(sol.t_events):\n",
    "        if te.size>0:\n",
    "                print(j)\n",
    "                x_fire[j] += list(te)      # update x_fire for calculating H\n",
    "                event[j].terminal = False\n",
    "print(sol.message)\n",
    "print(tNow)\n",
    "print(len(xNow))"
   ]
  },
  {
   "cell_type": "code",
   "execution_count": 18,
   "metadata": {},
   "outputs": [
    {
     "name": "stdout",
     "output_type": "stream",
     "text": [
      "A termination event occurred.\n",
      "5.6407103177258\n",
      "0\n",
      "127\n",
      "128\n"
     ]
    }
   ],
   "source": [
    "sol = solve_ivp(mainode,(tNow,tf),xNow,events=event)\n",
    "len(sol.t_events)\n",
    "t = np.append(t,sol.t)\n",
    "x = np.append(x,sol.y,axis=1)\n",
    "tNow = t[-1]\n",
    "xNow = x[:,-1]\n",
    "print(sol.message)\n",
    "print(tNow)\n",
    "for j,te in enumerate(sol.t_events):\n",
    "        if te.size>0:\n",
    "                print(j)"
   ]
  },
  {
   "cell_type": "code",
   "execution_count": 19,
   "metadata": {},
   "outputs": [
    {
     "name": "stdout",
     "output_type": "stream",
     "text": [
      "[array([5.64071032]), array([], dtype=float64), array([], dtype=float64), array([], dtype=float64), array([], dtype=float64), array([], dtype=float64), array([], dtype=float64), array([], dtype=float64), array([], dtype=float64), array([], dtype=float64), array([], dtype=float64), array([], dtype=float64), array([], dtype=float64), array([], dtype=float64), array([], dtype=float64), array([], dtype=float64), array([], dtype=float64), array([], dtype=float64), array([], dtype=float64), array([], dtype=float64), array([], dtype=float64), array([], dtype=float64), array([], dtype=float64), array([], dtype=float64), array([], dtype=float64), array([], dtype=float64), array([], dtype=float64), array([], dtype=float64), array([], dtype=float64), array([], dtype=float64), array([], dtype=float64), array([], dtype=float64), array([], dtype=float64), array([], dtype=float64), array([], dtype=float64), array([], dtype=float64), array([], dtype=float64), array([], dtype=float64), array([], dtype=float64), array([], dtype=float64), array([], dtype=float64), array([], dtype=float64), array([], dtype=float64), array([], dtype=float64), array([], dtype=float64), array([], dtype=float64), array([], dtype=float64), array([], dtype=float64), array([], dtype=float64), array([], dtype=float64), array([], dtype=float64), array([], dtype=float64), array([], dtype=float64), array([], dtype=float64), array([], dtype=float64), array([], dtype=float64), array([], dtype=float64), array([], dtype=float64), array([], dtype=float64), array([], dtype=float64), array([], dtype=float64), array([], dtype=float64), array([], dtype=float64), array([], dtype=float64), array([], dtype=float64), array([], dtype=float64), array([], dtype=float64), array([], dtype=float64), array([], dtype=float64), array([], dtype=float64), array([], dtype=float64), array([], dtype=float64), array([], dtype=float64), array([], dtype=float64), array([], dtype=float64), array([], dtype=float64), array([], dtype=float64), array([], dtype=float64), array([], dtype=float64), array([], dtype=float64), array([], dtype=float64), array([], dtype=float64), array([], dtype=float64), array([], dtype=float64), array([], dtype=float64), array([], dtype=float64), array([], dtype=float64), array([], dtype=float64), array([], dtype=float64), array([], dtype=float64), array([], dtype=float64), array([], dtype=float64), array([], dtype=float64), array([], dtype=float64), array([], dtype=float64), array([], dtype=float64), array([], dtype=float64), array([], dtype=float64), array([], dtype=float64), array([], dtype=float64), array([], dtype=float64), array([], dtype=float64), array([], dtype=float64), array([], dtype=float64), array([], dtype=float64), array([], dtype=float64), array([], dtype=float64), array([], dtype=float64), array([], dtype=float64), array([], dtype=float64), array([], dtype=float64), array([], dtype=float64), array([], dtype=float64), array([], dtype=float64), array([], dtype=float64), array([], dtype=float64), array([], dtype=float64), array([], dtype=float64), array([], dtype=float64), array([], dtype=float64), array([], dtype=float64), array([], dtype=float64), array([], dtype=float64), array([], dtype=float64), array([], dtype=float64), array([], dtype=float64), array([], dtype=float64), array([5.64071032]), array([5.64071032]), array([], dtype=float64), array([], dtype=float64), array([], dtype=float64), array([], dtype=float64), array([], dtype=float64), array([], dtype=float64), array([], dtype=float64), array([], dtype=float64), array([], dtype=float64), array([], dtype=float64), array([], dtype=float64), array([], dtype=float64), array([], dtype=float64), array([], dtype=float64), array([], dtype=float64), array([], dtype=float64), array([], dtype=float64), array([], dtype=float64), array([], dtype=float64), array([], dtype=float64), array([], dtype=float64), array([], dtype=float64), array([], dtype=float64), array([], dtype=float64), array([], dtype=float64), array([], dtype=float64), array([], dtype=float64), array([], dtype=float64), array([], dtype=float64), array([], dtype=float64), array([], dtype=float64), array([], dtype=float64), array([], dtype=float64), array([], dtype=float64), array([], dtype=float64), array([], dtype=float64), array([], dtype=float64), array([], dtype=float64), array([], dtype=float64), array([], dtype=float64), array([], dtype=float64), array([], dtype=float64), array([], dtype=float64), array([], dtype=float64), array([], dtype=float64), array([], dtype=float64), array([], dtype=float64), array([], dtype=float64), array([], dtype=float64), array([], dtype=float64), array([], dtype=float64), array([], dtype=float64), array([], dtype=float64), array([], dtype=float64), array([], dtype=float64), array([], dtype=float64), array([], dtype=float64), array([], dtype=float64), array([], dtype=float64), array([], dtype=float64), array([], dtype=float64), array([], dtype=float64), array([], dtype=float64), array([], dtype=float64), array([], dtype=float64), array([], dtype=float64), array([], dtype=float64), array([], dtype=float64), array([], dtype=float64), array([], dtype=float64), array([], dtype=float64)]\n"
     ]
    },
    {
     "data": {
      "image/png": "[encoded data removed]",
      "text/plain": [
       "<Figure size 432x288 with 1 Axes>"
      ]
     },
     "metadata": {},
     "output_type": "display_data"
    }
   ],
   "source": [
    "plt.plot(t,x[p,:])\n",
    "print(sol.t_events)"
   ]
  },
  {
   "cell_type": "code",
   "execution_count": 20,
   "metadata": {},
   "outputs": [
    {
     "name": "stdout",
     "output_type": "stream",
     "text": [
      "0\n",
      "127\n",
      "128\n",
      "A termination event occurred.\n",
      "0.04067961790833664\n"
     ]
    }
   ],
   "source": [
    "tf = 4*np.pi # end of simulation, unit in LFP phase\n",
    "sol = solve_ivp(mainode,(0,tf),x_0,events=event) # integrate\n",
    "                                # until a neuron fire\n",
    "t = sol.t; tNow = t[-1]         # record time\n",
    "x = sol.y; xNow = x[:,-1]       # state\n",
    "for j,te in enumerate(sol.t_events):\n",
    "        if te.size>0:\n",
    "                print(j)\n",
    "                x_fire[j] += list(te)      # update x_fire for calculating H\n",
    "                event[j].terminal = False\n",
    "print(sol.message)\n",
    "print(tNow)\n",
    "# print(len(xNow))"
   ]
  },
  {
   "cell_type": "code",
   "execution_count": 21,
   "metadata": {},
   "outputs": [
    {
     "name": "stdout",
     "output_type": "stream",
     "text": [
      "[array([0.04067962]), array([], dtype=float64), array([], dtype=float64), array([], dtype=float64), array([], dtype=float64), array([], dtype=float64), array([], dtype=float64), array([], dtype=float64), array([], dtype=float64), array([], dtype=float64), array([], dtype=float64), array([], dtype=float64), array([], dtype=float64), array([], dtype=float64), array([], dtype=float64), array([], dtype=float64), array([], dtype=float64), array([], dtype=float64), array([], dtype=float64), array([], dtype=float64), array([], dtype=float64), array([], dtype=float64), array([], dtype=float64), array([], dtype=float64), array([], dtype=float64), array([], dtype=float64), array([], dtype=float64), array([], dtype=float64), array([], dtype=float64), array([], dtype=float64), array([], dtype=float64), array([], dtype=float64), array([], dtype=float64), array([], dtype=float64), array([], dtype=float64), array([], dtype=float64), array([], dtype=float64), array([], dtype=float64), array([], dtype=float64), array([], dtype=float64), array([], dtype=float64), array([], dtype=float64), array([], dtype=float64), array([], dtype=float64), array([], dtype=float64), array([], dtype=float64), array([], dtype=float64), array([], dtype=float64), array([], dtype=float64), array([], dtype=float64), array([], dtype=float64), array([], dtype=float64), array([], dtype=float64), array([], dtype=float64), array([], dtype=float64), array([], dtype=float64), array([], dtype=float64), array([], dtype=float64), array([], dtype=float64), array([], dtype=float64), array([], dtype=float64), array([], dtype=float64), array([], dtype=float64), array([], dtype=float64), array([], dtype=float64), array([], dtype=float64), array([], dtype=float64), array([], dtype=float64), array([], dtype=float64), array([], dtype=float64), array([], dtype=float64), array([], dtype=float64), array([], dtype=float64), array([], dtype=float64), array([], dtype=float64), array([], dtype=float64), array([], dtype=float64), array([], dtype=float64), array([], dtype=float64), array([], dtype=float64), array([], dtype=float64), array([], dtype=float64), array([], dtype=float64), array([], dtype=float64), array([], dtype=float64), array([], dtype=float64), array([], dtype=float64), array([], dtype=float64), array([], dtype=float64), array([], dtype=float64), array([], dtype=float64), array([], dtype=float64), array([], dtype=float64), array([], dtype=float64), array([], dtype=float64), array([], dtype=float64), array([], dtype=float64), array([], dtype=float64), array([], dtype=float64), array([], dtype=float64), array([], dtype=float64), array([], dtype=float64), array([], dtype=float64), array([], dtype=float64), array([], dtype=float64), array([], dtype=float64), array([], dtype=float64), array([], dtype=float64), array([], dtype=float64), array([], dtype=float64), array([], dtype=float64), array([], dtype=float64), array([], dtype=float64), array([], dtype=float64), array([], dtype=float64), array([], dtype=float64), array([], dtype=float64), array([], dtype=float64), array([], dtype=float64), array([], dtype=float64), array([], dtype=float64), array([], dtype=float64), array([], dtype=float64), array([], dtype=float64), array([], dtype=float64), array([], dtype=float64), array([], dtype=float64), array([0.04067962]), array([0.04067962]), array([], dtype=float64), array([], dtype=float64), array([], dtype=float64), array([], dtype=float64), array([], dtype=float64), array([], dtype=float64), array([], dtype=float64), array([], dtype=float64), array([], dtype=float64), array([], dtype=float64), array([], dtype=float64), array([], dtype=float64), array([], dtype=float64), array([], dtype=float64), array([], dtype=float64), array([], dtype=float64), array([], dtype=float64), array([], dtype=float64), array([], dtype=float64), array([], dtype=float64), array([], dtype=float64), array([], dtype=float64), array([], dtype=float64), array([], dtype=float64), array([], dtype=float64), array([], dtype=float64), array([], dtype=float64), array([], dtype=float64), array([], dtype=float64), array([], dtype=float64), array([], dtype=float64), array([], dtype=float64), array([], dtype=float64), array([], dtype=float64), array([], dtype=float64), array([], dtype=float64), array([], dtype=float64), array([], dtype=float64), array([], dtype=float64), array([], dtype=float64), array([], dtype=float64), array([], dtype=float64), array([], dtype=float64), array([], dtype=float64), array([], dtype=float64), array([], dtype=float64), array([], dtype=float64), array([], dtype=float64), array([], dtype=float64), array([], dtype=float64), array([], dtype=float64), array([], dtype=float64), array([], dtype=float64), array([], dtype=float64), array([], dtype=float64), array([], dtype=float64), array([], dtype=float64), array([], dtype=float64), array([], dtype=float64), array([], dtype=float64), array([], dtype=float64), array([], dtype=float64), array([], dtype=float64), array([], dtype=float64), array([], dtype=float64), array([], dtype=float64), array([], dtype=float64), array([], dtype=float64), array([], dtype=float64), array([], dtype=float64), array([], dtype=float64)]\n"
     ]
    },
    {
     "data": {
      "image/png": "[encoded data removed]",
      "text/plain": [
       "<Figure size 432x288 with 1 Axes>"
      ]
     },
     "metadata": {},
     "output_type": "display_data"
    }
   ],
   "source": [
    "plt.plot(t,x[p,:])\n",
    "print(sol.t_events)"
   ]
  },
  {
   "cell_type": "code",
   "execution_count": 22,
   "metadata": {},
   "outputs": [
    {
     "name": "stdout",
     "output_type": "stream",
     "text": [
      "0\n",
      "127\n",
      "128\n",
      "129\n",
      "A termination event occurred.\n",
      "0.04631452675534003\n"
     ]
    }
   ],
   "source": [
    "tf = 4*np.pi # end of simulation, unit in LFP phase\n",
    "sol = solve_ivp(mainode,(0,tf),x_0,events=event) # integrate\n",
    "                                # until a neuron fire\n",
    "t = sol.t; tNow = t[-1]         # record time\n",
    "x = sol.y; xNow = x[:,-1]       # state\n",
    "for j,te in enumerate(sol.t_events):\n",
    "        if te.size>0:\n",
    "                print(j)\n",
    "                x_fire[j] += list(te)      # update x_fire for calculating H\n",
    "                event[j].terminal = False\n",
    "print(sol.message)\n",
    "print(tNow)\n",
    "# print(len(xNow))"
   ]
  },
  {
   "cell_type": "code",
   "execution_count": 23,
   "metadata": {},
   "outputs": [
    {
     "name": "stdout",
     "output_type": "stream",
     "text": [
      "200\n",
      "A termination event occurred.\n",
      "0.04631452675534003\n",
      "0\n",
      "127\n",
      "128\n",
      "129\n",
      "130\n"
     ]
    }
   ],
   "source": [
    "sol = solve_ivp(mainode,(tNow,tf),xNow,events=event)\n",
    "print(len(sol.t_events))\n",
    "t = np.append(t,sol.t)\n",
    "x = np.append(x,sol.y,axis=1)\n",
    "tNow = t[-1]\n",
    "xNow = x[:,-1]\n",
    "print(sol.message)\n",
    "print(tNow)\n",
    "for j,te in enumerate(sol.t_events):\n",
    "        if te.size>0:\n",
    "                print(j)"
   ]
  },
  {
   "cell_type": "code",
   "execution_count": 24,
   "metadata": {},
   "outputs": [
    {
     "name": "stdout",
     "output_type": "stream",
     "text": [
      "0\n",
      "127\n",
      "128\n",
      "129\n",
      "130\n",
      "A termination event occurred.\n",
      "0.04886795322747428\n"
     ]
    }
   ],
   "source": [
    "tf = 4*np.pi # end of simulation, unit in LFP phase\n",
    "sol = solve_ivp(mainode,(0,tf),x_0,events=event) # integrate\n",
    "                                # until a neuron fire\n",
    "t = sol.t; tNow = t[-1]         # record time\n",
    "x = sol.y; xNow = x[:,-1]       # state\n",
    "for j,te in enumerate(sol.t_events):\n",
    "        if te.size>0:\n",
    "                print(j)\n",
    "                x_fire[j] += list(te)      # update x_fire for calculating H\n",
    "                event[j].terminal = False\n",
    "print(sol.message)\n",
    "print(tNow)\n",
    "# print(len(xNow))"
   ]
  },
  {
   "cell_type": "code",
   "execution_count": 25,
   "metadata": {},
   "outputs": [
    {
     "name": "stdout",
     "output_type": "stream",
     "text": [
      "0\n",
      "127\n",
      "128\n",
      "129\n",
      "130\n",
      "131\n",
      "A termination event occurred.\n",
      "0.05444088306413129\n"
     ]
    }
   ],
   "source": [
    "tf = 4*np.pi # end of simulation, unit in LFP phase\n",
    "sol = solve_ivp(mainode,(0,tf),x_0,events=event) # integrate\n",
    "                                # until a neuron fire\n",
    "t = sol.t; tNow = t[-1]         # record time\n",
    "x = sol.y; xNow = x[:,-1]       # state\n",
    "for j,te in enumerate(sol.t_events):\n",
    "        if te.size>0:\n",
    "                print(j)\n",
    "                x_fire[j] += list(te)      # update x_fire for calculating H\n",
    "                event[j].terminal = False\n",
    "print(sol.message)\n",
    "print(tNow)\n",
    "# print(len(xNow))"
   ]
  },
  {
   "cell_type": "code",
   "execution_count": 26,
   "metadata": {},
   "outputs": [
    {
     "name": "stdout",
     "output_type": "stream",
     "text": [
      "0\n",
      "127\n",
      "128\n",
      "129\n",
      "130\n",
      "131\n",
      "132\n",
      "A termination event occurred.\n",
      "0.06141801612670147\n"
     ]
    }
   ],
   "source": [
    "tf = 4*np.pi # end of simulation, unit in LFP phase\n",
    "sol = solve_ivp(mainode,(0,tf),x_0,events=event) # integrate\n",
    "                                # until a neuron fire\n",
    "t = sol.t.copy(); tNow = t[-1]         # record time\n",
    "x = sol.y.copy(); xNow = x[:,-1]       # state\n",
    "for j,te in enumerate(sol.t_events):\n",
    "        if te.size>0:\n",
    "                print(j)\n",
    "                x_fire[j] += list(te)      # update x_fire for calculating H\n",
    "                event[j].terminal = False\n",
    "print(sol.message)\n",
    "print(tNow)\n",
    "# print(len(xNow))"
   ]
  },
  {
   "cell_type": "code",
   "execution_count": 27,
   "metadata": {},
   "outputs": [
    {
     "name": "stdout",
     "output_type": "stream",
     "text": [
      "0\n",
      "A termination event occurred.\n",
      "0.07640276920938102\n"
     ]
    }
   ],
   "source": [
    "for func in event: \n",
    "        func.terminal = True\n",
    "\n",
    "tf = 4*np.pi # end of simulation, unit in LFP phase\n",
    "sol = solve_ivp(mainode,(0,tf),x_0,events=event) # integrate\n",
    "                                # until a neuron fire\n",
    "t = sol.t.copy(); tNow = t[-1]         # record time\n",
    "x = sol.y.copy(); xNow = x[:,-1]       # state\n",
    "for j,te in enumerate(sol.t_events):\n",
    "        if te.size>0:\n",
    "                print(j)\n",
    "                x_fire[j] += list(te)      # update x_fire for calculating H\n",
    "                event[j].terminal = False\n",
    "print(sol.message)\n",
    "print(tNow)\n",
    "# print(len(xNow))"
   ]
  },
  {
   "cell_type": "code",
   "execution_count": 28,
   "metadata": {},
   "outputs": [
    {
     "name": "stdout",
     "output_type": "stream",
     "text": [
      "0\n",
      "A termination event occurred.\n",
      "0.07645557647238722\n"
     ]
    }
   ],
   "source": [
    "for func in event: \n",
    "        func.terminal = True\n",
    "\n",
    "tf = 4*np.pi # end of simulation, unit in LFP phase\n",
    "sol = solve_ivp(mainode,(0,tf),x_0,events=event) # integrate\n",
    "                                # until a neuron fire\n",
    "t = sol.t.copy(); tNow = t[-1]         # record time\n",
    "x = sol.y.copy(); xNow = x[:,-1]       # state\n",
    "for j,te in enumerate(sol.t_events):\n",
    "        if te.size>0:\n",
    "                print(j)\n",
    "                x_fire[j] += list(te)      # update x_fire for calculating H\n",
    "                event[j].terminal = False\n",
    "print(sol.message)\n",
    "print(tNow)\n",
    "# print(len(xNow))"
   ]
  },
  {
   "cell_type": "code",
   "execution_count": 29,
   "metadata": {},
   "outputs": [
    {
     "name": "stdout",
     "output_type": "stream",
     "text": [
      "200\n",
      "A termination event occurred.\n",
      "5.412695910944079\n",
      "0\n",
      "127\n"
     ]
    }
   ],
   "source": [
    "sol = solve_ivp(mainode,(tNow,tf),xNow,events=event)\n",
    "print(len(sol.t_events))\n",
    "t = np.append(t,sol.t)\n",
    "x = np.append(x,sol.y,axis=1)\n",
    "tNow = t[-1]\n",
    "xNow = x[:,-1]\n",
    "print(sol.message)\n",
    "print(tNow)\n",
    "for j,te in enumerate(sol.t_events):\n",
    "        if te.size>0:\n",
    "                print(j)"
   ]
  },
  {
   "cell_type": "code",
   "execution_count": 30,
   "metadata": {},
   "outputs": [
    {
     "name": "stdout",
     "output_type": "stream",
     "text": [
      "0\n",
      "A termination event occurred.\n",
      "0.07645575250815098\n"
     ]
    }
   ],
   "source": [
    "for func in event: \n",
    "        func.terminal = True\n",
    "\n",
    "tf = 4*np.pi # end of simulation, unit in LFP phase\n",
    "sol = solve_ivp(mainode,(0,tf),x_0,events=event) # integrate\n",
    "                                # until a neuron fire\n",
    "t = sol.t.copy(); tNow = t[-1]         # record time\n",
    "x = sol.y.copy(); xNow = x[:,-1]       # state\n",
    "for j,te in enumerate(sol.t_events):\n",
    "        if te.size>0:\n",
    "                print(j)\n",
    "                x_fire[j] += list(te)      # update x_fire for calculating H\n",
    "                event[j].terminal = False\n",
    "print(sol.message)\n",
    "print(tNow)\n",
    "# print(len(xNow))"
   ]
  },
  {
   "cell_type": "code",
   "execution_count": 31,
   "metadata": {},
   "outputs": [
    {
     "name": "stdout",
     "output_type": "stream",
     "text": [
      "[array([0.07645575]), array([], dtype=float64), array([], dtype=float64), array([], dtype=float64), array([], dtype=float64), array([], dtype=float64), array([], dtype=float64), array([], dtype=float64), array([], dtype=float64), array([], dtype=float64), array([], dtype=float64), array([], dtype=float64), array([], dtype=float64), array([], dtype=float64), array([], dtype=float64), array([], dtype=float64), array([], dtype=float64), array([], dtype=float64), array([], dtype=float64), array([], dtype=float64), array([], dtype=float64), array([], dtype=float64), array([], dtype=float64), array([], dtype=float64), array([], dtype=float64), array([], dtype=float64), array([], dtype=float64), array([], dtype=float64), array([], dtype=float64), array([], dtype=float64), array([], dtype=float64), array([], dtype=float64), array([], dtype=float64), array([], dtype=float64), array([], dtype=float64), array([], dtype=float64), array([], dtype=float64), array([], dtype=float64), array([], dtype=float64), array([], dtype=float64), array([], dtype=float64), array([], dtype=float64), array([], dtype=float64), array([], dtype=float64), array([], dtype=float64), array([], dtype=float64), array([], dtype=float64), array([], dtype=float64), array([], dtype=float64), array([], dtype=float64), array([], dtype=float64), array([], dtype=float64), array([], dtype=float64), array([], dtype=float64), array([], dtype=float64), array([], dtype=float64), array([], dtype=float64), array([], dtype=float64), array([], dtype=float64), array([], dtype=float64), array([], dtype=float64), array([], dtype=float64), array([], dtype=float64), array([], dtype=float64), array([], dtype=float64), array([], dtype=float64), array([], dtype=float64), array([], dtype=float64), array([], dtype=float64), array([], dtype=float64), array([], dtype=float64), array([], dtype=float64), array([], dtype=float64), array([], dtype=float64), array([], dtype=float64), array([], dtype=float64), array([], dtype=float64), array([], dtype=float64), array([], dtype=float64), array([], dtype=float64), array([], dtype=float64), array([], dtype=float64), array([], dtype=float64), array([], dtype=float64), array([], dtype=float64), array([], dtype=float64), array([], dtype=float64), array([], dtype=float64), array([], dtype=float64), array([], dtype=float64), array([], dtype=float64), array([], dtype=float64), array([], dtype=float64), array([], dtype=float64), array([], dtype=float64), array([], dtype=float64), array([], dtype=float64), array([], dtype=float64), array([], dtype=float64), array([], dtype=float64), array([], dtype=float64), array([], dtype=float64), array([], dtype=float64), array([], dtype=float64), array([], dtype=float64), array([], dtype=float64), array([], dtype=float64), array([], dtype=float64), array([], dtype=float64), array([], dtype=float64), array([], dtype=float64), array([], dtype=float64), array([], dtype=float64), array([], dtype=float64), array([], dtype=float64), array([], dtype=float64), array([], dtype=float64), array([], dtype=float64), array([], dtype=float64), array([], dtype=float64), array([], dtype=float64), array([], dtype=float64), array([], dtype=float64), array([], dtype=float64), array([], dtype=float64), array([], dtype=float64), array([], dtype=float64), array([], dtype=float64), array([], dtype=float64), array([], dtype=float64), array([], dtype=float64), array([], dtype=float64), array([], dtype=float64), array([], dtype=float64), array([], dtype=float64), array([], dtype=float64), array([], dtype=float64), array([], dtype=float64), array([], dtype=float64), array([], dtype=float64), array([], dtype=float64), array([], dtype=float64), array([], dtype=float64), array([], dtype=float64), array([], dtype=float64), array([], dtype=float64), array([], dtype=float64), array([], dtype=float64), array([], dtype=float64), array([], dtype=float64), array([], dtype=float64), array([], dtype=float64), array([], dtype=float64), array([], dtype=float64), array([], dtype=float64), array([], dtype=float64), array([], dtype=float64), array([], dtype=float64), array([], dtype=float64), array([], dtype=float64), array([], dtype=float64), array([], dtype=float64), array([], dtype=float64), array([], dtype=float64), array([], dtype=float64), array([], dtype=float64), array([], dtype=float64), array([], dtype=float64), array([], dtype=float64), array([], dtype=float64), array([], dtype=float64), array([], dtype=float64), array([], dtype=float64), array([], dtype=float64), array([], dtype=float64), array([], dtype=float64), array([], dtype=float64), array([], dtype=float64), array([], dtype=float64), array([], dtype=float64), array([], dtype=float64), array([], dtype=float64), array([], dtype=float64), array([], dtype=float64), array([], dtype=float64), array([], dtype=float64), array([], dtype=float64), array([], dtype=float64), array([], dtype=float64), array([], dtype=float64), array([], dtype=float64), array([], dtype=float64), array([], dtype=float64), array([], dtype=float64), array([], dtype=float64), array([], dtype=float64), array([], dtype=float64), array([], dtype=float64), array([], dtype=float64), array([], dtype=float64)]\n"
     ]
    },
    {
     "data": {
      "image/png": "[encoded data removed]",
      "text/plain": [
       "<Figure size 432x288 with 1 Axes>"
      ]
     },
     "metadata": {},
     "output_type": "display_data"
    }
   ],
   "source": [
    "plt.plot(t,x[p,:])\n",
    "print(sol.t_events)"
   ]
  },
  {
   "cell_type": "code",
   "execution_count": 32,
   "metadata": {},
   "outputs": [
    {
     "data": {
      "text/plain": [
       "[<matplotlib.lines.Line2D at 0x23450aa7278>]"
      ]
     },
     "execution_count": 35,
     "metadata": {},
     "output_type": "execute_result"
    },
    {
     "data": {
      "image/png": "[encoded data removed]",
      "text/plain": [
       "<Figure size 432x288 with 1 Axes>"
      ]
     },
     "metadata": {},
     "output_type": "display_data"
    }
   ],
   "source": [
    "plt.plot(t,x[0,:])\n",
    "# print(sol.t_events)"
   ]
  },
  {
   "cell_type": "code",
   "execution_count": 33,
   "metadata": {},
   "outputs": [
    {
     "name": "stdout",
     "output_type": "stream",
     "text": [
      "A termination event occurred.\n",
      "0.07645575250815098\n",
      "A termination event occurred.\n",
      "0.07645575250815098\n",
      "A termination event occurred.\n",
      "0.07645575250815098\n",
      "A termination event occurred.\n",
      "0.07645575250815098\n",
      "A termination event occurred.\n",
      "0.07645575250815098\n",
      "A termination event occurred.\n",
      "0.07645575250815098\n",
      "A termination event occurred.\n",
      "0.07645575250815098\n",
      "A termination event occurred.\n",
      "0.07645575250815098\n",
      "A termination event occurred.\n",
      "0.07645575250815098\n",
      "A termination event occurred.\n",
      "0.07645575250815098\n",
      "A termination event occurred.\n",
      "0.07645575250815098\n",
      "A termination event occurred.\n",
      "0.07645575250815098\n",
      "A termination event occurred.\n",
      "0.07645575250815098\n",
      "A termination event occurred.\n",
      "0.07645575250815098\n",
      "A termination event occurred.\n",
      "0.07645575250815098\n",
      "A termination event occurred.\n",
      "0.2266119589442629\n",
      "A termination event occurred.\n",
      "0.2266119589442629\n",
      "A termination event occurred.\n",
      "6.581523882673386\n",
      "A termination event occurred.\n",
      "6.6735172942951\n",
      "A termination event occurred.\n",
      "6.6735172942951\n",
      "A termination event occurred.\n",
      "6.6735172942951\n",
      "A termination event occurred.\n",
      "6.809883901157262\n",
      "A termination event occurred.\n",
      "6.941832764563013\n",
      "A termination event occurred.\n",
      "7.094737862314276\n",
      "A termination event occurred.\n",
      "7.094737862314276\n",
      "A termination event occurred.\n",
      "7.094737862314276\n",
      "A termination event occurred.\n",
      "7.094737862314276\n",
      "A termination event occurred.\n",
      "7.094737862314276\n",
      "A termination event occurred.\n",
      "7.094737862314276\n",
      "A termination event occurred.\n",
      "7.1982103844580125\n",
      "A termination event occurred.\n",
      "7.1982103844580125\n",
      "A termination event occurred.\n",
      "7.1982103844580125\n",
      "A termination event occurred.\n",
      "7.277333591660069\n",
      "A termination event occurred.\n",
      "7.277333591660069\n",
      "A termination event occurred.\n",
      "7.277333591660069\n",
      "A termination event occurred.\n",
      "7.277333591660069\n",
      "A termination event occurred.\n",
      "7.277333591660069\n",
      "A termination event occurred.\n",
      "7.277333591660069\n",
      "A termination event occurred.\n",
      "7.277333591660069\n",
      "A termination event occurred.\n",
      "7.277333591660069\n",
      "A termination event occurred.\n",
      "7.277333591660069\n",
      "A termination event occurred.\n",
      "7.277333591660069\n",
      "A termination event occurred.\n",
      "7.277333591660069\n",
      "A termination event occurred.\n",
      "7.277333591660069\n",
      "A termination event occurred.\n",
      "7.277333591660069\n",
      "A termination event occurred.\n",
      "7.277333591660069\n",
      "A termination event occurred.\n",
      "7.277333591660069\n",
      "A termination event occurred.\n",
      "7.277333591660069\n",
      "A termination event occurred.\n",
      "7.277333591660069\n",
      "A termination event occurred.\n",
      "7.277333591660069\n",
      "A termination event occurred.\n",
      "7.277333591660069\n",
      "A termination event occurred.\n",
      "7.277333591660069\n",
      "A termination event occurred.\n",
      "7.277333591660069\n",
      "A termination event occurred.\n",
      "7.277333591660069\n",
      "A termination event occurred.\n",
      "7.277333591660069\n",
      "A termination event occurred.\n",
      "7.277333591660069\n",
      "A termination event occurred.\n",
      "7.277333591660069\n",
      "A termination event occurred.\n",
      "7.277333591660069\n",
      "A termination event occurred.\n",
      "7.277333591660069\n",
      "A termination event occurred.\n",
      "7.277333591660069\n",
      "A termination event occurred.\n",
      "7.277333591660069\n",
      "A termination event occurred.\n",
      "7.277333591660069\n",
      "A termination event occurred.\n",
      "7.277333591660069\n",
      "A termination event occurred.\n",
      "7.277333591660069\n",
      "A termination event occurred.\n",
      "7.277333591660069\n",
      "A termination event occurred.\n",
      "7.277333591660069\n",
      "A termination event occurred.\n",
      "7.277333591660069\n",
      "A termination event occurred.\n",
      "7.277333591660069\n",
      "A termination event occurred.\n",
      "7.277333591660069\n",
      "A termination event occurred.\n",
      "7.277333591660069\n",
      "A termination event occurred.\n",
      "7.277333591660069\n",
      "A termination event occurred.\n",
      "7.277333591660069\n",
      "A termination event occurred.\n",
      "7.277333591660069\n",
      "A termination event occurred.\n",
      "7.277333591660069\n",
      "A termination event occurred.\n",
      "7.277333591660069\n",
      "A termination event occurred.\n",
      "7.277333591660069\n",
      "A termination event occurred.\n",
      "7.277333591660069\n",
      "A termination event occurred.\n",
      "7.277333591660069\n",
      "A termination event occurred.\n",
      "7.277333591660069\n",
      "A termination event occurred.\n",
      "7.277333591660069\n",
      "A termination event occurred.\n",
      "7.277333591660069\n",
      "A termination event occurred.\n",
      "7.277333591660069\n",
      "A termination event occurred.\n",
      "7.277333591660069\n",
      "A termination event occurred.\n",
      "7.277333591660069\n",
      "A termination event occurred.\n",
      "7.277333591660069\n",
      "A termination event occurred.\n",
      "7.277333591660069\n",
      "A termination event occurred.\n",
      "7.277333591660069\n",
      "A termination event occurred.\n",
      "7.277333591660069\n",
      "A termination event occurred.\n",
      "7.277333591660069\n",
      "A termination event occurred.\n",
      "7.277333591660069\n",
      "A termination event occurred.\n",
      "7.277333591660069\n",
      "A termination event occurred.\n",
      "7.277333591660069\n",
      "A termination event occurred.\n",
      "7.277333591660069\n",
      "A termination event occurred.\n",
      "7.277333591660069\n",
      "A termination event occurred.\n",
      "7.277333591660069\n",
      "A termination event occurred.\n",
      "7.277333591660069\n",
      "A termination event occurred.\n",
      "7.277333591660069\n",
      "A termination event occurred.\n",
      "7.432473094340673\n",
      "A termination event occurred.\n",
      "7.688454510521651\n",
      "A termination event occurred.\n",
      "7.9375974093555834\n",
      "A termination event occurred.\n",
      "8.264305691051248\n",
      "A termination event occurred.\n",
      "8.766424975827594\n",
      "A termination event occurred.\n",
      "11.866897751424236\n",
      "A termination event occurred.\n",
      "11.866897751424236\n",
      "A termination event occurred.\n",
      "11.866897751424236\n",
      "A termination event occurred.\n",
      "11.866897751424236\n",
      "A termination event occurred.\n",
      "11.866897751424236\n",
      "A termination event occurred.\n",
      "11.866897751424236\n",
      "A termination event occurred.\n",
      "11.866897751424236\n",
      "A termination event occurred.\n",
      "11.866897751424236\n",
      "A termination event occurred.\n",
      "11.866897751424236\n",
      "A termination event occurred.\n",
      "11.866897751424236\n",
      "A termination event occurred.\n",
      "11.866897751424236\n",
      "A termination event occurred.\n",
      "11.866897751424236\n",
      "A termination event occurred.\n",
      "11.866897751424236\n",
      "A termination event occurred.\n",
      "11.866897751424236\n",
      "A termination event occurred.\n",
      "11.866897751424236\n",
      "A termination event occurred.\n",
      "11.866897751424236\n",
      "A termination event occurred.\n",
      "11.866897751424236\n",
      "A termination event occurred.\n",
      "11.866897751424236\n",
      "A termination event occurred.\n",
      "11.866897751424236\n",
      "A termination event occurred.\n",
      "11.866897751424236\n",
      "A termination event occurred.\n",
      "11.866897751424236\n",
      "A termination event occurred.\n",
      "11.866897751424236\n",
      "A termination event occurred.\n",
      "11.866897751424236\n",
      "A termination event occurred.\n",
      "11.866897751424236\n",
      "A termination event occurred.\n",
      "11.866897751424236\n",
      "A termination event occurred.\n",
      "11.866897751424236\n",
      "A termination event occurred.\n",
      "11.866897751424236\n",
      "A termination event occurred.\n",
      "11.866897751424236\n",
      "A termination event occurred.\n",
      "11.866897751424236\n",
      "A termination event occurred.\n",
      "11.866897751424236\n",
      "A termination event occurred.\n",
      "11.866897751424236\n",
      "A termination event occurred.\n",
      "11.866897751424236\n",
      "A termination event occurred.\n",
      "11.866897751424236\n",
      "A termination event occurred.\n",
      "11.866897751424236\n",
      "A termination event occurred.\n",
      "11.866897751424236\n",
      "A termination event occurred.\n",
      "11.866897751424236\n",
      "A termination event occurred.\n",
      "11.866897751424236\n",
      "A termination event occurred.\n",
      "11.866897751424236\n",
      "A termination event occurred.\n",
      "11.866897751424236\n",
      "A termination event occurred.\n",
      "11.866897751424236\n",
      "A termination event occurred.\n",
      "11.866897751424236\n",
      "A termination event occurred.\n",
      "11.866897751424236\n",
      "A termination event occurred.\n",
      "11.866897751424236\n",
      "A termination event occurred.\n",
      "11.866897751424236\n",
      "A termination event occurred.\n",
      "11.866897751424236\n",
      "A termination event occurred.\n",
      "11.866897751424236\n",
      "A termination event occurred.\n",
      "11.866897751424236\n",
      "A termination event occurred.\n",
      "11.866897751424236\n",
      "A termination event occurred.\n",
      "11.866897751424236\n",
      "A termination event occurred.\n",
      "11.866897751424236\n",
      "A termination event occurred.\n",
      "11.866897751424236\n",
      "A termination event occurred.\n",
      "11.866897751424236\n",
      "A termination event occurred.\n",
      "11.866897751424236\n",
      "A termination event occurred.\n",
      "11.866897751424236\n",
      "A termination event occurred.\n",
      "11.866897751424236\n",
      "A termination event occurred.\n",
      "11.866897751424236\n",
      "A termination event occurred.\n",
      "11.866897751424236\n",
      "A termination event occurred.\n",
      "11.866897751424236\n",
      "A termination event occurred.\n",
      "11.866897751424236\n",
      "A termination event occurred.\n",
      "11.866897751424236\n",
      "A termination event occurred.\n",
      "11.866897751424236\n",
      "A termination event occurred.\n",
      "11.866897751424236\n",
      "A termination event occurred.\n",
      "11.866897751424236\n",
      "A termination event occurred.\n",
      "11.866897751424236\n",
      "A termination event occurred.\n",
      "11.866897751424236\n",
      "A termination event occurred.\n",
      "11.866897751424236\n",
      "A termination event occurred.\n",
      "11.866897751424236\n",
      "A termination event occurred.\n",
      "11.866897751424236\n"
     ]
    },
    {
     "name": "stdout",
     "output_type": "stream",
     "text": [
      "A termination event occurred.\n",
      "11.866897751424236\n",
      "A termination event occurred.\n",
      "11.866897751424236\n",
      "A termination event occurred.\n",
      "11.866897751424236\n",
      "A termination event occurred.\n",
      "11.866897751424236\n",
      "A termination event occurred.\n",
      "11.866897751424236\n",
      "A termination event occurred.\n",
      "11.866897751424236\n",
      "A termination event occurred.\n",
      "11.866897751424236\n",
      "A termination event occurred.\n",
      "11.866897751424236\n",
      "A termination event occurred.\n",
      "11.866897751424236\n",
      "A termination event occurred.\n",
      "11.866897751424236\n",
      "A termination event occurred.\n",
      "11.866897751424236\n",
      "A termination event occurred.\n",
      "11.866897751424236\n",
      "A termination event occurred.\n",
      "11.866897751424236\n",
      "A termination event occurred.\n",
      "11.866897751424236\n",
      "A termination event occurred.\n",
      "11.866897751424236\n",
      "A termination event occurred.\n",
      "11.866897751424236\n",
      "A termination event occurred.\n",
      "11.866897751424236\n",
      "A termination event occurred.\n",
      "11.866897751424236\n",
      "A termination event occurred.\n",
      "11.866897751424236\n",
      "A termination event occurred.\n",
      "11.866897751424236\n",
      "A termination event occurred.\n",
      "11.866897751424236\n",
      "A termination event occurred.\n",
      "11.866897751424236\n",
      "A termination event occurred.\n",
      "11.866897751424236\n",
      "A termination event occurred.\n",
      "11.866897751424236\n",
      "A termination event occurred.\n",
      "11.866897751424236\n",
      "A termination event occurred.\n",
      "11.866897751424236\n",
      "A termination event occurred.\n",
      "11.866897751424236\n",
      "A termination event occurred.\n",
      "11.866897751424236\n",
      "A termination event occurred.\n",
      "11.866897751424236\n",
      "The solver successfully reached the end of the integration interval.\n",
      "12.566370614359172\n",
      "The solver successfully reached the end of the integration interval.\n",
      "12.566370614359172\n",
      "The solver successfully reached the end of the integration interval.\n",
      "12.566370614359172\n",
      "The solver successfully reached the end of the integration interval.\n",
      "12.566370614359172\n",
      "The solver successfully reached the end of the integration interval.\n",
      "12.566370614359172\n",
      "The solver successfully reached the end of the integration interval.\n",
      "12.566370614359172\n",
      "The solver successfully reached the end of the integration interval.\n",
      "12.566370614359172\n",
      "The solver successfully reached the end of the integration interval.\n",
      "12.566370614359172\n",
      "The solver successfully reached the end of the integration interval.\n",
      "12.566370614359172\n",
      "The solver successfully reached the end of the integration interval.\n",
      "12.566370614359172\n",
      "The solver successfully reached the end of the integration interval.\n",
      "12.566370614359172\n",
      "The solver successfully reached the end of the integration interval.\n",
      "12.566370614359172\n",
      "The solver successfully reached the end of the integration interval.\n",
      "12.566370614359172\n",
      "The solver successfully reached the end of the integration interval.\n",
      "12.566370614359172\n",
      "The solver successfully reached the end of the integration interval.\n",
      "12.566370614359172\n",
      "The solver successfully reached the end of the integration interval.\n",
      "12.566370614359172\n",
      "The solver successfully reached the end of the integration interval.\n",
      "12.566370614359172\n",
      "The solver successfully reached the end of the integration interval.\n",
      "12.566370614359172\n",
      "The solver successfully reached the end of the integration interval.\n",
      "12.566370614359172\n",
      "The solver successfully reached the end of the integration interval.\n",
      "12.566370614359172\n",
      "The solver successfully reached the end of the integration interval.\n",
      "12.566370614359172\n",
      "The solver successfully reached the end of the integration interval.\n",
      "12.566370614359172\n",
      "The solver successfully reached the end of the integration interval.\n",
      "12.566370614359172\n",
      "The solver successfully reached the end of the integration interval.\n",
      "12.566370614359172\n",
      "The solver successfully reached the end of the integration interval.\n",
      "12.566370614359172\n",
      "The solver successfully reached the end of the integration interval.\n",
      "12.566370614359172\n",
      "The solver successfully reached the end of the integration interval.\n",
      "12.566370614359172\n",
      "The solver successfully reached the end of the integration interval.\n",
      "12.566370614359172\n",
      "The solver successfully reached the end of the integration interval.\n",
      "12.566370614359172\n",
      "The solver successfully reached the end of the integration interval.\n",
      "12.566370614359172\n",
      "The solver successfully reached the end of the integration interval.\n",
      "12.566370614359172\n",
      "The solver successfully reached the end of the integration interval.\n",
      "12.566370614359172\n",
      "The solver successfully reached the end of the integration interval.\n",
      "12.566370614359172\n",
      "The solver successfully reached the end of the integration interval.\n",
      "12.566370614359172\n",
      "The solver successfully reached the end of the integration interval.\n",
      "12.566370614359172\n",
      "The solver successfully reached the end of the integration interval.\n",
      "12.566370614359172\n",
      "The solver successfully reached the end of the integration interval.\n",
      "12.566370614359172\n",
      "The solver successfully reached the end of the integration interval.\n",
      "12.566370614359172\n",
      "The solver successfully reached the end of the integration interval.\n",
      "12.566370614359172\n",
      "The solver successfully reached the end of the integration interval.\n",
      "12.566370614359172\n",
      "The solver successfully reached the end of the integration interval.\n",
      "12.566370614359172\n",
      "The solver successfully reached the end of the integration interval.\n",
      "12.566370614359172\n",
      "The solver successfully reached the end of the integration interval.\n",
      "12.566370614359172\n",
      "The solver successfully reached the end of the integration interval.\n",
      "12.566370614359172\n",
      "The solver successfully reached the end of the integration interval.\n",
      "12.566370614359172\n",
      "The solver successfully reached the end of the integration interval.\n",
      "12.566370614359172\n",
      "The solver successfully reached the end of the integration interval.\n",
      "12.566370614359172\n",
      "The solver successfully reached the end of the integration interval.\n",
      "12.566370614359172\n",
      "The solver successfully reached the end of the integration interval.\n",
      "12.566370614359172\n",
      "The solver successfully reached the end of the integration interval.\n",
      "12.566370614359172\n",
      "The solver successfully reached the end of the integration interval.\n",
      "12.566370614359172\n",
      "The solver successfully reached the end of the integration interval.\n",
      "12.566370614359172\n",
      "The solver successfully reached the end of the integration interval.\n",
      "12.566370614359172\n",
      "The solver successfully reached the end of the integration interval.\n",
      "12.566370614359172\n",
      "The solver successfully reached the end of the integration interval.\n",
      "12.566370614359172\n",
      "The solver successfully reached the end of the integration interval.\n",
      "12.566370614359172\n",
      "The solver successfully reached the end of the integration interval.\n",
      "12.566370614359172\n",
      "The solver successfully reached the end of the integration interval.\n",
      "12.566370614359172\n",
      "The solver successfully reached the end of the integration interval.\n",
      "12.566370614359172\n",
      "The solver successfully reached the end of the integration interval.\n",
      "12.566370614359172\n",
      "The solver successfully reached the end of the integration interval.\n",
      "12.566370614359172\n",
      "The solver successfully reached the end of the integration interval.\n",
      "12.566370614359172\n",
      "The solver successfully reached the end of the integration interval.\n",
      "12.566370614359172\n",
      "The solver successfully reached the end of the integration interval.\n",
      "12.566370614359172\n",
      "The solver successfully reached the end of the integration interval.\n",
      "12.566370614359172\n",
      "The solver successfully reached the end of the integration interval.\n",
      "12.566370614359172\n",
      "The solver successfully reached the end of the integration interval.\n",
      "12.566370614359172\n",
      "The solver successfully reached the end of the integration interval.\n",
      "12.566370614359172\n",
      "The solver successfully reached the end of the integration interval.\n",
      "12.566370614359172\n",
      "The solver successfully reached the end of the integration interval.\n",
      "12.566370614359172\n",
      "The solver successfully reached the end of the integration interval.\n",
      "12.566370614359172\n",
      "The solver successfully reached the end of the integration interval.\n",
      "12.566370614359172\n",
      "The solver successfully reached the end of the integration interval.\n",
      "12.566370614359172\n",
      "The solver successfully reached the end of the integration interval.\n",
      "12.566370614359172\n",
      "The solver successfully reached the end of the integration interval.\n",
      "12.566370614359172\n",
      "The solver successfully reached the end of the integration interval.\n",
      "12.566370614359172\n",
      "The solver successfully reached the end of the integration interval.\n",
      "12.566370614359172\n",
      "The solver successfully reached the end of the integration interval.\n",
      "12.566370614359172\n",
      "The solver successfully reached the end of the integration interval.\n",
      "12.566370614359172\n",
      "The solver successfully reached the end of the integration interval.\n",
      "12.566370614359172\n",
      "The solver successfully reached the end of the integration interval.\n",
      "12.566370614359172\n"
     ]
    },
    {
     "name": "stdout",
     "output_type": "stream",
     "text": [
      "The solver successfully reached the end of the integration interval.\n",
      "12.566370614359172\n",
      "The solver successfully reached the end of the integration interval.\n",
      "12.566370614359172\n",
      "The solver successfully reached the end of the integration interval.\n",
      "12.566370614359172\n",
      "The solver successfully reached the end of the integration interval.\n",
      "12.566370614359172\n",
      "The solver successfully reached the end of the integration interval.\n",
      "12.566370614359172\n",
      "The solver successfully reached the end of the integration interval.\n",
      "12.566370614359172\n",
      "The solver successfully reached the end of the integration interval.\n",
      "12.566370614359172\n",
      "The solver successfully reached the end of the integration interval.\n",
      "12.566370614359172\n",
      "The solver successfully reached the end of the integration interval.\n",
      "12.566370614359172\n",
      "The solver successfully reached the end of the integration interval.\n",
      "12.566370614359172\n",
      "The solver successfully reached the end of the integration interval.\n",
      "12.566370614359172\n",
      "The solver successfully reached the end of the integration interval.\n",
      "12.566370614359172\n",
      "The solver successfully reached the end of the integration interval.\n",
      "12.566370614359172\n",
      "The solver successfully reached the end of the integration interval.\n",
      "12.566370614359172\n",
      "The solver successfully reached the end of the integration interval.\n",
      "12.566370614359172\n",
      "The solver successfully reached the end of the integration interval.\n",
      "12.566370614359172\n",
      "The solver successfully reached the end of the integration interval.\n",
      "12.566370614359172\n",
      "The solver successfully reached the end of the integration interval.\n",
      "12.566370614359172\n",
      "The solver successfully reached the end of the integration interval.\n",
      "12.566370614359172\n",
      "The solver successfully reached the end of the integration interval.\n",
      "12.566370614359172\n",
      "The solver successfully reached the end of the integration interval.\n",
      "12.566370614359172\n",
      "The solver successfully reached the end of the integration interval.\n",
      "12.566370614359172\n",
      "The solver successfully reached the end of the integration interval.\n",
      "12.566370614359172\n",
      "The solver successfully reached the end of the integration interval.\n",
      "12.566370614359172\n",
      "The solver successfully reached the end of the integration interval.\n",
      "12.566370614359172\n",
      "The solver successfully reached the end of the integration interval.\n",
      "12.566370614359172\n",
      "The solver successfully reached the end of the integration interval.\n",
      "12.566370614359172\n",
      "The solver successfully reached the end of the integration interval.\n",
      "12.566370614359172\n",
      "The solver successfully reached the end of the integration interval.\n",
      "12.566370614359172\n",
      "The solver successfully reached the end of the integration interval.\n",
      "12.566370614359172\n",
      "The solver successfully reached the end of the integration interval.\n",
      "12.566370614359172\n",
      "The solver successfully reached the end of the integration interval.\n",
      "12.566370614359172\n",
      "The solver successfully reached the end of the integration interval.\n",
      "12.566370614359172\n",
      "The solver successfully reached the end of the integration interval.\n",
      "12.566370614359172\n",
      "The solver successfully reached the end of the integration interval.\n",
      "12.566370614359172\n",
      "The solver successfully reached the end of the integration interval.\n",
      "12.566370614359172\n",
      "The solver successfully reached the end of the integration interval.\n",
      "12.566370614359172\n",
      "The solver successfully reached the end of the integration interval.\n",
      "12.566370614359172\n",
      "The solver successfully reached the end of the integration interval.\n",
      "12.566370614359172\n",
      "The solver successfully reached the end of the integration interval.\n",
      "12.566370614359172\n",
      "The solver successfully reached the end of the integration interval.\n",
      "12.566370614359172\n",
      "The solver successfully reached the end of the integration interval.\n",
      "12.566370614359172\n",
      "The solver successfully reached the end of the integration interval.\n",
      "12.566370614359172\n",
      "The solver successfully reached the end of the integration interval.\n",
      "12.566370614359172\n",
      "The solver successfully reached the end of the integration interval.\n",
      "12.566370614359172\n",
      "The solver successfully reached the end of the integration interval.\n",
      "12.566370614359172\n",
      "The solver successfully reached the end of the integration interval.\n",
      "12.566370614359172\n",
      "The solver successfully reached the end of the integration interval.\n",
      "12.566370614359172\n",
      "The solver successfully reached the end of the integration interval.\n",
      "12.566370614359172\n",
      "The solver successfully reached the end of the integration interval.\n",
      "12.566370614359172\n",
      "The solver successfully reached the end of the integration interval.\n",
      "12.566370614359172\n",
      "The solver successfully reached the end of the integration interval.\n",
      "12.566370614359172\n",
      "The solver successfully reached the end of the integration interval.\n",
      "12.566370614359172\n",
      "The solver successfully reached the end of the integration interval.\n",
      "12.566370614359172\n",
      "The solver successfully reached the end of the integration interval.\n",
      "12.566370614359172\n",
      "The solver successfully reached the end of the integration interval.\n",
      "12.566370614359172\n",
      "The solver successfully reached the end of the integration interval.\n",
      "12.566370614359172\n",
      "The solver successfully reached the end of the integration interval.\n",
      "12.566370614359172\n",
      "The solver successfully reached the end of the integration interval.\n",
      "12.566370614359172\n",
      "The solver successfully reached the end of the integration interval.\n",
      "12.566370614359172\n",
      "The solver successfully reached the end of the integration interval.\n",
      "12.566370614359172\n",
      "The solver successfully reached the end of the integration interval.\n",
      "12.566370614359172\n",
      "The solver successfully reached the end of the integration interval.\n",
      "12.566370614359172\n",
      "The solver successfully reached the end of the integration interval.\n",
      "12.566370614359172\n",
      "The solver successfully reached the end of the integration interval.\n",
      "12.566370614359172\n",
      "The solver successfully reached the end of the integration interval.\n",
      "12.566370614359172\n",
      "The solver successfully reached the end of the integration interval.\n",
      "12.566370614359172\n",
      "The solver successfully reached the end of the integration interval.\n",
      "12.566370614359172\n",
      "The solver successfully reached the end of the integration interval.\n",
      "12.566370614359172\n",
      "The solver successfully reached the end of the integration interval.\n",
      "12.566370614359172\n",
      "The solver successfully reached the end of the integration interval.\n",
      "12.566370614359172\n",
      "The solver successfully reached the end of the integration interval.\n",
      "12.566370614359172\n",
      "The solver successfully reached the end of the integration interval.\n",
      "12.566370614359172\n",
      "The solver successfully reached the end of the integration interval.\n",
      "12.566370614359172\n",
      "The solver successfully reached the end of the integration interval.\n",
      "12.566370614359172\n",
      "The solver successfully reached the end of the integration interval.\n",
      "12.566370614359172\n",
      "The solver successfully reached the end of the integration interval.\n",
      "12.566370614359172\n",
      "The solver successfully reached the end of the integration interval.\n",
      "12.566370614359172\n",
      "The solver successfully reached the end of the integration interval.\n",
      "12.566370614359172\n",
      "The solver successfully reached the end of the integration interval.\n",
      "12.566370614359172\n",
      "The solver successfully reached the end of the integration interval.\n",
      "12.566370614359172\n",
      "The solver successfully reached the end of the integration interval.\n",
      "12.566370614359172\n",
      "The solver successfully reached the end of the integration interval.\n",
      "12.566370614359172\n",
      "The solver successfully reached the end of the integration interval.\n",
      "12.566370614359172\n",
      "The solver successfully reached the end of the integration interval.\n",
      "12.566370614359172\n",
      "The solver successfully reached the end of the integration interval.\n",
      "12.566370614359172\n",
      "The solver successfully reached the end of the integration interval.\n",
      "12.566370614359172\n",
      "The solver successfully reached the end of the integration interval.\n",
      "12.566370614359172\n",
      "The solver successfully reached the end of the integration interval.\n",
      "12.566370614359172\n",
      "The solver successfully reached the end of the integration interval.\n",
      "12.566370614359172\n",
      "The solver successfully reached the end of the integration interval.\n",
      "12.566370614359172\n",
      "The solver successfully reached the end of the integration interval.\n",
      "12.566370614359172\n",
      "The solver successfully reached the end of the integration interval.\n",
      "12.566370614359172\n",
      "The solver successfully reached the end of the integration interval.\n",
      "12.566370614359172\n"
     ]
    },
    {
     "name": "stdout",
     "output_type": "stream",
     "text": [
      "The solver successfully reached the end of the integration interval.\n",
      "12.566370614359172\n",
      "The solver successfully reached the end of the integration interval.\n",
      "12.566370614359172\n",
      "The solver successfully reached the end of the integration interval.\n",
      "12.566370614359172\n",
      "The solver successfully reached the end of the integration interval.\n",
      "12.566370614359172\n",
      "The solver successfully reached the end of the integration interval.\n",
      "12.566370614359172\n",
      "The solver successfully reached the end of the integration interval.\n",
      "12.566370614359172\n",
      "The solver successfully reached the end of the integration interval.\n",
      "12.566370614359172\n",
      "The solver successfully reached the end of the integration interval.\n",
      "12.566370614359172\n",
      "The solver successfully reached the end of the integration interval.\n",
      "12.566370614359172\n",
      "The solver successfully reached the end of the integration interval.\n",
      "12.566370614359172\n",
      "The solver successfully reached the end of the integration interval.\n",
      "12.566370614359172\n",
      "The solver successfully reached the end of the integration interval.\n",
      "12.566370614359172\n",
      "The solver successfully reached the end of the integration interval.\n",
      "12.566370614359172\n",
      "The solver successfully reached the end of the integration interval.\n",
      "12.566370614359172\n",
      "The solver successfully reached the end of the integration interval.\n",
      "12.566370614359172\n",
      "The solver successfully reached the end of the integration interval.\n",
      "12.566370614359172\n",
      "The solver successfully reached the end of the integration interval.\n",
      "12.566370614359172\n",
      "The solver successfully reached the end of the integration interval.\n",
      "12.566370614359172\n",
      "The solver successfully reached the end of the integration interval.\n",
      "12.566370614359172\n",
      "The solver successfully reached the end of the integration interval.\n",
      "12.566370614359172\n",
      "The solver successfully reached the end of the integration interval.\n",
      "12.566370614359172\n",
      "The solver successfully reached the end of the integration interval.\n",
      "12.566370614359172\n",
      "The solver successfully reached the end of the integration interval.\n",
      "12.566370614359172\n",
      "The solver successfully reached the end of the integration interval.\n",
      "12.566370614359172\n",
      "The solver successfully reached the end of the integration interval.\n",
      "12.566370614359172\n",
      "The solver successfully reached the end of the integration interval.\n",
      "12.566370614359172\n",
      "The solver successfully reached the end of the integration interval.\n",
      "12.566370614359172\n",
      "The solver successfully reached the end of the integration interval.\n",
      "12.566370614359172\n",
      "The solver successfully reached the end of the integration interval.\n",
      "12.566370614359172\n",
      "The solver successfully reached the end of the integration interval.\n",
      "12.566370614359172\n",
      "The solver successfully reached the end of the integration interval.\n",
      "12.566370614359172\n",
      "The solver successfully reached the end of the integration interval.\n",
      "12.566370614359172\n",
      "The solver successfully reached the end of the integration interval.\n",
      "12.566370614359172\n",
      "The solver successfully reached the end of the integration interval.\n",
      "12.566370614359172\n",
      "The solver successfully reached the end of the integration interval.\n",
      "12.566370614359172\n",
      "The solver successfully reached the end of the integration interval.\n",
      "12.566370614359172\n",
      "The solver successfully reached the end of the integration interval.\n",
      "12.566370614359172\n",
      "The solver successfully reached the end of the integration interval.\n",
      "12.566370614359172\n",
      "The solver successfully reached the end of the integration interval.\n",
      "12.566370614359172\n",
      "The solver successfully reached the end of the integration interval.\n",
      "12.566370614359172\n",
      "The solver successfully reached the end of the integration interval.\n",
      "12.566370614359172\n",
      "The solver successfully reached the end of the integration interval.\n",
      "12.566370614359172\n",
      "The solver successfully reached the end of the integration interval.\n",
      "12.566370614359172\n",
      "The solver successfully reached the end of the integration interval.\n",
      "12.566370614359172\n",
      "The solver successfully reached the end of the integration interval.\n",
      "12.566370614359172\n",
      "The solver successfully reached the end of the integration interval.\n",
      "12.566370614359172\n",
      "The solver successfully reached the end of the integration interval.\n",
      "12.566370614359172\n",
      "The solver successfully reached the end of the integration interval.\n",
      "12.566370614359172\n",
      "The solver successfully reached the end of the integration interval.\n",
      "12.566370614359172\n",
      "The solver successfully reached the end of the integration interval.\n",
      "12.566370614359172\n",
      "The solver successfully reached the end of the integration interval.\n",
      "12.566370614359172\n",
      "The solver successfully reached the end of the integration interval.\n",
      "12.566370614359172\n",
      "The solver successfully reached the end of the integration interval.\n",
      "12.566370614359172\n",
      "The solver successfully reached the end of the integration interval.\n",
      "12.566370614359172\n",
      "The solver successfully reached the end of the integration interval.\n",
      "12.566370614359172\n",
      "The solver successfully reached the end of the integration interval.\n",
      "12.566370614359172\n",
      "The solver successfully reached the end of the integration interval.\n",
      "12.566370614359172\n",
      "The solver successfully reached the end of the integration interval.\n",
      "12.566370614359172\n",
      "The solver successfully reached the end of the integration interval.\n",
      "12.566370614359172\n",
      "The solver successfully reached the end of the integration interval.\n",
      "12.566370614359172\n",
      "The solver successfully reached the end of the integration interval.\n",
      "12.566370614359172\n",
      "The solver successfully reached the end of the integration interval.\n",
      "12.566370614359172\n",
      "The solver successfully reached the end of the integration interval.\n",
      "12.566370614359172\n",
      "The solver successfully reached the end of the integration interval.\n",
      "12.566370614359172\n",
      "The solver successfully reached the end of the integration interval.\n",
      "12.566370614359172\n",
      "The solver successfully reached the end of the integration interval.\n",
      "12.566370614359172\n",
      "The solver successfully reached the end of the integration interval.\n",
      "12.566370614359172\n",
      "The solver successfully reached the end of the integration interval.\n",
      "12.566370614359172\n",
      "The solver successfully reached the end of the integration interval.\n",
      "12.566370614359172\n",
      "The solver successfully reached the end of the integration interval.\n",
      "12.566370614359172\n",
      "The solver successfully reached the end of the integration interval.\n",
      "12.566370614359172\n",
      "The solver successfully reached the end of the integration interval.\n",
      "12.566370614359172\n",
      "The solver successfully reached the end of the integration interval.\n",
      "12.566370614359172\n",
      "The solver successfully reached the end of the integration interval.\n",
      "12.566370614359172\n",
      "The solver successfully reached the end of the integration interval.\n",
      "12.566370614359172\n",
      "The solver successfully reached the end of the integration interval.\n",
      "12.566370614359172\n",
      "The solver successfully reached the end of the integration interval.\n",
      "12.566370614359172\n",
      "The solver successfully reached the end of the integration interval.\n",
      "12.566370614359172\n",
      "The solver successfully reached the end of the integration interval.\n",
      "12.566370614359172\n",
      "The solver successfully reached the end of the integration interval.\n",
      "12.566370614359172\n",
      "The solver successfully reached the end of the integration interval.\n",
      "12.566370614359172\n",
      "The solver successfully reached the end of the integration interval.\n",
      "12.566370614359172\n",
      "The solver successfully reached the end of the integration interval.\n",
      "12.566370614359172\n",
      "The solver successfully reached the end of the integration interval.\n",
      "12.566370614359172\n",
      "The solver successfully reached the end of the integration interval.\n",
      "12.566370614359172\n",
      "The solver successfully reached the end of the integration interval.\n",
      "12.566370614359172\n",
      "The solver successfully reached the end of the integration interval.\n",
      "12.566370614359172\n",
      "The solver successfully reached the end of the integration interval.\n",
      "12.566370614359172\n",
      "The solver successfully reached the end of the integration interval.\n",
      "12.566370614359172\n",
      "The solver successfully reached the end of the integration interval.\n",
      "12.566370614359172\n",
      "The solver successfully reached the end of the integration interval.\n",
      "12.566370614359172\n",
      "The solver successfully reached the end of the integration interval.\n",
      "12.566370614359172\n",
      "The solver successfully reached the end of the integration interval.\n",
      "12.566370614359172\n",
      "The solver successfully reached the end of the integration interval.\n",
      "12.566370614359172\n",
      "The solver successfully reached the end of the integration interval.\n",
      "12.566370614359172\n"
     ]
    },
    {
     "name": "stdout",
     "output_type": "stream",
     "text": [
      "The solver successfully reached the end of the integration interval.\n",
      "12.566370614359172\n",
      "The solver successfully reached the end of the integration interval.\n",
      "12.566370614359172\n",
      "The solver successfully reached the end of the integration interval.\n",
      "12.566370614359172\n",
      "The solver successfully reached the end of the integration interval.\n",
      "12.566370614359172\n",
      "The solver successfully reached the end of the integration interval.\n",
      "12.566370614359172\n",
      "The solver successfully reached the end of the integration interval.\n",
      "12.566370614359172\n",
      "The solver successfully reached the end of the integration interval.\n",
      "12.566370614359172\n",
      "The solver successfully reached the end of the integration interval.\n",
      "12.566370614359172\n",
      "The solver successfully reached the end of the integration interval.\n",
      "12.566370614359172\n",
      "The solver successfully reached the end of the integration interval.\n",
      "12.566370614359172\n",
      "The solver successfully reached the end of the integration interval.\n",
      "12.566370614359172\n",
      "The solver successfully reached the end of the integration interval.\n",
      "12.566370614359172\n",
      "The solver successfully reached the end of the integration interval.\n",
      "12.566370614359172\n",
      "The solver successfully reached the end of the integration interval.\n",
      "12.566370614359172\n",
      "The solver successfully reached the end of the integration interval.\n",
      "12.566370614359172\n",
      "The solver successfully reached the end of the integration interval.\n",
      "12.566370614359172\n",
      "The solver successfully reached the end of the integration interval.\n",
      "12.566370614359172\n",
      "The solver successfully reached the end of the integration interval.\n",
      "12.566370614359172\n",
      "The solver successfully reached the end of the integration interval.\n",
      "12.566370614359172\n",
      "The solver successfully reached the end of the integration interval.\n",
      "12.566370614359172\n",
      "The solver successfully reached the end of the integration interval.\n",
      "12.566370614359172\n",
      "The solver successfully reached the end of the integration interval.\n",
      "12.566370614359172\n",
      "The solver successfully reached the end of the integration interval.\n",
      "12.566370614359172\n",
      "The solver successfully reached the end of the integration interval.\n",
      "12.566370614359172\n",
      "The solver successfully reached the end of the integration interval.\n",
      "12.566370614359172\n",
      "The solver successfully reached the end of the integration interval.\n",
      "12.566370614359172\n",
      "The solver successfully reached the end of the integration interval.\n",
      "12.566370614359172\n",
      "The solver successfully reached the end of the integration interval.\n",
      "12.566370614359172\n",
      "The solver successfully reached the end of the integration interval.\n",
      "12.566370614359172\n",
      "The solver successfully reached the end of the integration interval.\n",
      "12.566370614359172\n",
      "The solver successfully reached the end of the integration interval.\n",
      "12.566370614359172\n",
      "The solver successfully reached the end of the integration interval.\n",
      "12.566370614359172\n",
      "The solver successfully reached the end of the integration interval.\n",
      "12.566370614359172\n",
      "The solver successfully reached the end of the integration interval.\n",
      "12.566370614359172\n",
      "The solver successfully reached the end of the integration interval.\n",
      "12.566370614359172\n",
      "The solver successfully reached the end of the integration interval.\n",
      "12.566370614359172\n",
      "The solver successfully reached the end of the integration interval.\n",
      "12.566370614359172\n",
      "The solver successfully reached the end of the integration interval.\n",
      "12.566370614359172\n",
      "The solver successfully reached the end of the integration interval.\n",
      "12.566370614359172\n",
      "The solver successfully reached the end of the integration interval.\n",
      "12.566370614359172\n",
      "The solver successfully reached the end of the integration interval.\n",
      "12.566370614359172\n",
      "The solver successfully reached the end of the integration interval.\n",
      "12.566370614359172\n",
      "The solver successfully reached the end of the integration interval.\n",
      "12.566370614359172\n",
      "The solver successfully reached the end of the integration interval.\n",
      "12.566370614359172\n",
      "The solver successfully reached the end of the integration interval.\n",
      "12.566370614359172\n",
      "The solver successfully reached the end of the integration interval.\n",
      "12.566370614359172\n",
      "The solver successfully reached the end of the integration interval.\n",
      "12.566370614359172\n",
      "The solver successfully reached the end of the integration interval.\n",
      "12.566370614359172\n",
      "The solver successfully reached the end of the integration interval.\n",
      "12.566370614359172\n",
      "The solver successfully reached the end of the integration interval.\n",
      "12.566370614359172\n",
      "The solver successfully reached the end of the integration interval.\n",
      "12.566370614359172\n",
      "The solver successfully reached the end of the integration interval.\n",
      "12.566370614359172\n",
      "The solver successfully reached the end of the integration interval.\n",
      "12.566370614359172\n",
      "The solver successfully reached the end of the integration interval.\n",
      "12.566370614359172\n",
      "The solver successfully reached the end of the integration interval.\n",
      "12.566370614359172\n",
      "The solver successfully reached the end of the integration interval.\n",
      "12.566370614359172\n",
      "The solver successfully reached the end of the integration interval.\n",
      "12.566370614359172\n",
      "The solver successfully reached the end of the integration interval.\n",
      "12.566370614359172\n",
      "The solver successfully reached the end of the integration interval.\n",
      "12.566370614359172\n",
      "The solver successfully reached the end of the integration interval.\n",
      "12.566370614359172\n",
      "The solver successfully reached the end of the integration interval.\n",
      "12.566370614359172\n",
      "The solver successfully reached the end of the integration interval.\n",
      "12.566370614359172\n",
      "The solver successfully reached the end of the integration interval.\n",
      "12.566370614359172\n",
      "The solver successfully reached the end of the integration interval.\n",
      "12.566370614359172\n",
      "The solver successfully reached the end of the integration interval.\n",
      "12.566370614359172\n",
      "The solver successfully reached the end of the integration interval.\n",
      "12.566370614359172\n",
      "The solver successfully reached the end of the integration interval.\n",
      "12.566370614359172\n",
      "The solver successfully reached the end of the integration interval.\n",
      "12.566370614359172\n",
      "The solver successfully reached the end of the integration interval.\n",
      "12.566370614359172\n",
      "The solver successfully reached the end of the integration interval.\n",
      "12.566370614359172\n",
      "The solver successfully reached the end of the integration interval.\n",
      "12.566370614359172\n",
      "The solver successfully reached the end of the integration interval.\n",
      "12.566370614359172\n",
      "The solver successfully reached the end of the integration interval.\n",
      "12.566370614359172\n",
      "The solver successfully reached the end of the integration interval.\n",
      "12.566370614359172\n",
      "The solver successfully reached the end of the integration interval.\n",
      "12.566370614359172\n",
      "The solver successfully reached the end of the integration interval.\n",
      "12.566370614359172\n",
      "The solver successfully reached the end of the integration interval.\n",
      "12.566370614359172\n",
      "The solver successfully reached the end of the integration interval.\n",
      "12.566370614359172\n",
      "The solver successfully reached the end of the integration interval.\n",
      "12.566370614359172\n",
      "The solver successfully reached the end of the integration interval.\n",
      "12.566370614359172\n",
      "The solver successfully reached the end of the integration interval.\n",
      "12.566370614359172\n",
      "The solver successfully reached the end of the integration interval.\n",
      "12.566370614359172\n",
      "The solver successfully reached the end of the integration interval.\n",
      "12.566370614359172\n",
      "The solver successfully reached the end of the integration interval.\n",
      "12.566370614359172\n",
      "The solver successfully reached the end of the integration interval.\n",
      "12.566370614359172\n",
      "The solver successfully reached the end of the integration interval.\n",
      "12.566370614359172\n",
      "The solver successfully reached the end of the integration interval.\n",
      "12.566370614359172\n",
      "The solver successfully reached the end of the integration interval.\n",
      "12.566370614359172\n",
      "The solver successfully reached the end of the integration interval.\n",
      "12.566370614359172\n",
      "The solver successfully reached the end of the integration interval.\n",
      "12.566370614359172\n",
      "The solver successfully reached the end of the integration interval.\n",
      "12.566370614359172\n",
      "The solver successfully reached the end of the integration interval.\n",
      "12.566370614359172\n",
      "The solver successfully reached the end of the integration interval.\n",
      "12.566370614359172\n",
      "The solver successfully reached the end of the integration interval.\n",
      "12.566370614359172\n",
      "The solver successfully reached the end of the integration interval.\n",
      "12.566370614359172\n"
     ]
    },
    {
     "name": "stdout",
     "output_type": "stream",
     "text": [
      "The solver successfully reached the end of the integration interval.\n",
      "12.566370614359172\n",
      "The solver successfully reached the end of the integration interval.\n",
      "12.566370614359172\n",
      "The solver successfully reached the end of the integration interval.\n",
      "12.566370614359172\n",
      "The solver successfully reached the end of the integration interval.\n",
      "12.566370614359172\n",
      "The solver successfully reached the end of the integration interval.\n",
      "12.566370614359172\n",
      "The solver successfully reached the end of the integration interval.\n",
      "12.566370614359172\n",
      "The solver successfully reached the end of the integration interval.\n",
      "12.566370614359172\n",
      "The solver successfully reached the end of the integration interval.\n",
      "12.566370614359172\n",
      "The solver successfully reached the end of the integration interval.\n",
      "12.566370614359172\n",
      "The solver successfully reached the end of the integration interval.\n",
      "12.566370614359172\n",
      "The solver successfully reached the end of the integration interval.\n",
      "12.566370614359172\n",
      "The solver successfully reached the end of the integration interval.\n",
      "12.566370614359172\n",
      "The solver successfully reached the end of the integration interval.\n",
      "12.566370614359172\n",
      "The solver successfully reached the end of the integration interval.\n",
      "12.566370614359172\n",
      "The solver successfully reached the end of the integration interval.\n",
      "12.566370614359172\n",
      "The solver successfully reached the end of the integration interval.\n",
      "12.566370614359172\n",
      "The solver successfully reached the end of the integration interval.\n",
      "12.566370614359172\n",
      "The solver successfully reached the end of the integration interval.\n",
      "12.566370614359172\n",
      "The solver successfully reached the end of the integration interval.\n",
      "12.566370614359172\n",
      "The solver successfully reached the end of the integration interval.\n",
      "12.566370614359172\n",
      "The solver successfully reached the end of the integration interval.\n",
      "12.566370614359172\n",
      "The solver successfully reached the end of the integration interval.\n",
      "12.566370614359172\n",
      "The solver successfully reached the end of the integration interval.\n",
      "12.566370614359172\n",
      "The solver successfully reached the end of the integration interval.\n",
      "12.566370614359172\n",
      "The solver successfully reached the end of the integration interval.\n",
      "12.566370614359172\n",
      "The solver successfully reached the end of the integration interval.\n",
      "12.566370614359172\n",
      "The solver successfully reached the end of the integration interval.\n",
      "12.566370614359172\n",
      "The solver successfully reached the end of the integration interval.\n",
      "12.566370614359172\n",
      "The solver successfully reached the end of the integration interval.\n",
      "12.566370614359172\n",
      "The solver successfully reached the end of the integration interval.\n",
      "12.566370614359172\n",
      "The solver successfully reached the end of the integration interval.\n",
      "12.566370614359172\n",
      "The solver successfully reached the end of the integration interval.\n",
      "12.566370614359172\n",
      "The solver successfully reached the end of the integration interval.\n",
      "12.566370614359172\n",
      "The solver successfully reached the end of the integration interval.\n",
      "12.566370614359172\n",
      "The solver successfully reached the end of the integration interval.\n",
      "12.566370614359172\n",
      "The solver successfully reached the end of the integration interval.\n",
      "12.566370614359172\n",
      "The solver successfully reached the end of the integration interval.\n",
      "12.566370614359172\n",
      "The solver successfully reached the end of the integration interval.\n",
      "12.566370614359172\n",
      "The solver successfully reached the end of the integration interval.\n",
      "12.566370614359172\n",
      "The solver successfully reached the end of the integration interval.\n",
      "12.566370614359172\n",
      "The solver successfully reached the end of the integration interval.\n",
      "12.566370614359172\n",
      "The solver successfully reached the end of the integration interval.\n",
      "12.566370614359172\n",
      "The solver successfully reached the end of the integration interval.\n",
      "12.566370614359172\n",
      "The solver successfully reached the end of the integration interval.\n",
      "12.566370614359172\n",
      "The solver successfully reached the end of the integration interval.\n",
      "12.566370614359172\n",
      "The solver successfully reached the end of the integration interval.\n",
      "12.566370614359172\n",
      "The solver successfully reached the end of the integration interval.\n",
      "12.566370614359172\n",
      "The solver successfully reached the end of the integration interval.\n",
      "12.566370614359172\n",
      "The solver successfully reached the end of the integration interval.\n",
      "12.566370614359172\n",
      "The solver successfully reached the end of the integration interval.\n",
      "12.566370614359172\n",
      "The solver successfully reached the end of the integration interval.\n",
      "12.566370614359172\n",
      "The solver successfully reached the end of the integration interval.\n",
      "12.566370614359172\n",
      "The solver successfully reached the end of the integration interval.\n",
      "12.566370614359172\n",
      "The solver successfully reached the end of the integration interval.\n",
      "12.566370614359172\n",
      "The solver successfully reached the end of the integration interval.\n",
      "12.566370614359172\n",
      "The solver successfully reached the end of the integration interval.\n",
      "12.566370614359172\n",
      "The solver successfully reached the end of the integration interval.\n",
      "12.566370614359172\n",
      "The solver successfully reached the end of the integration interval.\n",
      "12.566370614359172\n",
      "The solver successfully reached the end of the integration interval.\n",
      "12.566370614359172\n",
      "The solver successfully reached the end of the integration interval.\n",
      "12.566370614359172\n",
      "The solver successfully reached the end of the integration interval.\n",
      "12.566370614359172\n",
      "The solver successfully reached the end of the integration interval.\n",
      "12.566370614359172\n",
      "The solver successfully reached the end of the integration interval.\n",
      "12.566370614359172\n",
      "The solver successfully reached the end of the integration interval.\n",
      "12.566370614359172\n",
      "The solver successfully reached the end of the integration interval.\n",
      "12.566370614359172\n",
      "The solver successfully reached the end of the integration interval.\n",
      "12.566370614359172\n",
      "The solver successfully reached the end of the integration interval.\n",
      "12.566370614359172\n",
      "The solver successfully reached the end of the integration interval.\n",
      "12.566370614359172\n",
      "The solver successfully reached the end of the integration interval.\n",
      "12.566370614359172\n",
      "The solver successfully reached the end of the integration interval.\n",
      "12.566370614359172\n",
      "The solver successfully reached the end of the integration interval.\n",
      "12.566370614359172\n",
      "The solver successfully reached the end of the integration interval.\n",
      "12.566370614359172\n",
      "The solver successfully reached the end of the integration interval.\n",
      "12.566370614359172\n",
      "The solver successfully reached the end of the integration interval.\n",
      "12.566370614359172\n",
      "The solver successfully reached the end of the integration interval.\n",
      "12.566370614359172\n",
      "The solver successfully reached the end of the integration interval.\n",
      "12.566370614359172\n",
      "The solver successfully reached the end of the integration interval.\n",
      "12.566370614359172\n",
      "The solver successfully reached the end of the integration interval.\n",
      "12.566370614359172\n",
      "The solver successfully reached the end of the integration interval.\n",
      "12.566370614359172\n",
      "The solver successfully reached the end of the integration interval.\n",
      "12.566370614359172\n",
      "The solver successfully reached the end of the integration interval.\n",
      "12.566370614359172\n"
     ]
    },
    {
     "ename": "KeyboardInterrupt",
     "evalue": "",
     "output_type": "error",
     "traceback": [
      "\u001b[1;31m---------------------------------------------------------------------------\u001b[0m",
      "\u001b[1;31mKeyboardInterrupt\u001b[0m                         Traceback (most recent call last)",
      "\u001b[1;32m<ipython-input-36-42395efe43f7>\u001b[0m in \u001b[0;36m<module>\u001b[1;34m()\u001b[0m\n\u001b[0;32m      1\u001b[0m \u001b[1;31m#%%\u001b[0m\u001b[1;33m\u001b[0m\u001b[1;33m\u001b[0m\u001b[0m\n\u001b[0;32m      2\u001b[0m \u001b[1;32mwhile\u001b[0m \u001b[0mtNow\u001b[0m \u001b[1;33m<=\u001b[0m \u001b[0mtf\u001b[0m\u001b[1;33m:\u001b[0m\u001b[1;33m\u001b[0m\u001b[0m\n\u001b[1;32m----> 3\u001b[1;33m         \u001b[0msol\u001b[0m \u001b[1;33m=\u001b[0m \u001b[0msolve_ivp\u001b[0m\u001b[1;33m(\u001b[0m\u001b[0mmainode\u001b[0m\u001b[1;33m,\u001b[0m\u001b[1;33m(\u001b[0m\u001b[0mtNow\u001b[0m\u001b[1;33m,\u001b[0m\u001b[0mtf\u001b[0m\u001b[1;33m)\u001b[0m\u001b[1;33m,\u001b[0m\u001b[0mxNow\u001b[0m\u001b[1;33m,\u001b[0m\u001b[0mevents\u001b[0m\u001b[1;33m=\u001b[0m\u001b[0mevent\u001b[0m\u001b[1;33m)\u001b[0m\u001b[1;33m\u001b[0m\u001b[0m\n\u001b[0m\u001b[0;32m      4\u001b[0m         \u001b[0mt\u001b[0m \u001b[1;33m=\u001b[0m \u001b[0mnp\u001b[0m\u001b[1;33m.\u001b[0m\u001b[0mappend\u001b[0m\u001b[1;33m(\u001b[0m\u001b[0mt\u001b[0m\u001b[1;33m,\u001b[0m\u001b[0msol\u001b[0m\u001b[1;33m.\u001b[0m\u001b[0mt\u001b[0m\u001b[1;33m)\u001b[0m\u001b[1;33m\u001b[0m\u001b[0m\n\u001b[0;32m      5\u001b[0m         \u001b[0mx\u001b[0m \u001b[1;33m=\u001b[0m \u001b[0mnp\u001b[0m\u001b[1;33m.\u001b[0m\u001b[0mappend\u001b[0m\u001b[1;33m(\u001b[0m\u001b[0mx\u001b[0m\u001b[1;33m,\u001b[0m\u001b[0msol\u001b[0m\u001b[1;33m.\u001b[0m\u001b[0my\u001b[0m\u001b[1;33m,\u001b[0m\u001b[0maxis\u001b[0m\u001b[1;33m=\u001b[0m\u001b[1;36m1\u001b[0m\u001b[1;33m)\u001b[0m\u001b[1;33m\u001b[0m\u001b[0m\n",
      "\u001b[1;32m~\\Anaconda3\\lib\\site-packages\\scipy\\integrate\\_ivp\\ivp.py\u001b[0m in \u001b[0;36msolve_ivp\u001b[1;34m(fun, t_span, y0, method, t_eval, dense_output, events, vectorized, **options)\u001b[0m\n\u001b[0;32m    452\u001b[0m         \u001b[0mmethod\u001b[0m \u001b[1;33m=\u001b[0m \u001b[0mMETHODS\u001b[0m\u001b[1;33m[\u001b[0m\u001b[0mmethod\u001b[0m\u001b[1;33m]\u001b[0m\u001b[1;33m\u001b[0m\u001b[0m\n\u001b[0;32m    453\u001b[0m \u001b[1;33m\u001b[0m\u001b[0m\n\u001b[1;32m--> 454\u001b[1;33m     \u001b[0msolver\u001b[0m \u001b[1;33m=\u001b[0m \u001b[0mmethod\u001b[0m\u001b[1;33m(\u001b[0m\u001b[0mfun\u001b[0m\u001b[1;33m,\u001b[0m \u001b[0mt0\u001b[0m\u001b[1;33m,\u001b[0m \u001b[0my0\u001b[0m\u001b[1;33m,\u001b[0m \u001b[0mtf\u001b[0m\u001b[1;33m,\u001b[0m \u001b[0mvectorized\u001b[0m\u001b[1;33m=\u001b[0m\u001b[0mvectorized\u001b[0m\u001b[1;33m,\u001b[0m \u001b[1;33m**\u001b[0m\u001b[0moptions\u001b[0m\u001b[1;33m)\u001b[0m\u001b[1;33m\u001b[0m\u001b[0m\n\u001b[0m\u001b[0;32m    455\u001b[0m \u001b[1;33m\u001b[0m\u001b[0m\n\u001b[0;32m    456\u001b[0m     \u001b[1;32mif\u001b[0m \u001b[0mt_eval\u001b[0m \u001b[1;32mis\u001b[0m \u001b[1;32mNone\u001b[0m\u001b[1;33m:\u001b[0m\u001b[1;33m\u001b[0m\u001b[0m\n",
      "\u001b[1;32m~\\Anaconda3\\lib\\site-packages\\scipy\\integrate\\_ivp\\rk.py\u001b[0m in \u001b[0;36m__init__\u001b[1;34m(self, fun, t0, y0, t_bound, max_step, rtol, atol, vectorized, **extraneous)\u001b[0m\n\u001b[0;32m    100\u001b[0m         self.h_abs = select_initial_step(\n\u001b[0;32m    101\u001b[0m             \u001b[0mself\u001b[0m\u001b[1;33m.\u001b[0m\u001b[0mfun\u001b[0m\u001b[1;33m,\u001b[0m \u001b[0mself\u001b[0m\u001b[1;33m.\u001b[0m\u001b[0mt\u001b[0m\u001b[1;33m,\u001b[0m \u001b[0mself\u001b[0m\u001b[1;33m.\u001b[0m\u001b[0my\u001b[0m\u001b[1;33m,\u001b[0m \u001b[0mself\u001b[0m\u001b[1;33m.\u001b[0m\u001b[0mf\u001b[0m\u001b[1;33m,\u001b[0m \u001b[0mself\u001b[0m\u001b[1;33m.\u001b[0m\u001b[0mdirection\u001b[0m\u001b[1;33m,\u001b[0m\u001b[1;33m\u001b[0m\u001b[0m\n\u001b[1;32m--> 102\u001b[1;33m             self.order, self.rtol, self.atol)\n\u001b[0m\u001b[0;32m    103\u001b[0m         \u001b[0mself\u001b[0m\u001b[1;33m.\u001b[0m\u001b[0mK\u001b[0m \u001b[1;33m=\u001b[0m \u001b[0mnp\u001b[0m\u001b[1;33m.\u001b[0m\u001b[0mempty\u001b[0m\u001b[1;33m(\u001b[0m\u001b[1;33m(\u001b[0m\u001b[0mself\u001b[0m\u001b[1;33m.\u001b[0m\u001b[0mn_stages\u001b[0m \u001b[1;33m+\u001b[0m \u001b[1;36m1\u001b[0m\u001b[1;33m,\u001b[0m \u001b[0mself\u001b[0m\u001b[1;33m.\u001b[0m\u001b[0mn\u001b[0m\u001b[1;33m)\u001b[0m\u001b[1;33m,\u001b[0m \u001b[0mdtype\u001b[0m\u001b[1;33m=\u001b[0m\u001b[0mself\u001b[0m\u001b[1;33m.\u001b[0m\u001b[0my\u001b[0m\u001b[1;33m.\u001b[0m\u001b[0mdtype\u001b[0m\u001b[1;33m)\u001b[0m\u001b[1;33m\u001b[0m\u001b[0m\n\u001b[0;32m    104\u001b[0m \u001b[1;33m\u001b[0m\u001b[0m\n",
      "\u001b[1;32m~\\Anaconda3\\lib\\site-packages\\scipy\\integrate\\_ivp\\common.py\u001b[0m in \u001b[0;36mselect_initial_step\u001b[1;34m(fun, t0, y0, f0, direction, order, rtol, atol)\u001b[0m\n\u001b[0;32m    100\u001b[0m \u001b[1;33m\u001b[0m\u001b[0m\n\u001b[0;32m    101\u001b[0m     \u001b[0my1\u001b[0m \u001b[1;33m=\u001b[0m \u001b[0my0\u001b[0m \u001b[1;33m+\u001b[0m \u001b[0mh0\u001b[0m \u001b[1;33m*\u001b[0m \u001b[0mdirection\u001b[0m \u001b[1;33m*\u001b[0m \u001b[0mf0\u001b[0m\u001b[1;33m\u001b[0m\u001b[0m\n\u001b[1;32m--> 102\u001b[1;33m     \u001b[0mf1\u001b[0m \u001b[1;33m=\u001b[0m \u001b[0mfun\u001b[0m\u001b[1;33m(\u001b[0m\u001b[0mt0\u001b[0m \u001b[1;33m+\u001b[0m \u001b[0mh0\u001b[0m \u001b[1;33m*\u001b[0m \u001b[0mdirection\u001b[0m\u001b[1;33m,\u001b[0m \u001b[0my1\u001b[0m\u001b[1;33m)\u001b[0m\u001b[1;33m\u001b[0m\u001b[0m\n\u001b[0m\u001b[0;32m    103\u001b[0m     \u001b[0md2\u001b[0m \u001b[1;33m=\u001b[0m \u001b[0mnorm\u001b[0m\u001b[1;33m(\u001b[0m\u001b[1;33m(\u001b[0m\u001b[0mf1\u001b[0m \u001b[1;33m-\u001b[0m \u001b[0mf0\u001b[0m\u001b[1;33m)\u001b[0m \u001b[1;33m/\u001b[0m \u001b[0mscale\u001b[0m\u001b[1;33m)\u001b[0m \u001b[1;33m/\u001b[0m \u001b[0mh0\u001b[0m\u001b[1;33m\u001b[0m\u001b[0m\n\u001b[0;32m    104\u001b[0m \u001b[1;33m\u001b[0m\u001b[0m\n",
      "\u001b[1;32m~\\Anaconda3\\lib\\site-packages\\scipy\\integrate\\_ivp\\base.py\u001b[0m in \u001b[0;36mfun\u001b[1;34m(t, y)\u001b[0m\n\u001b[0;32m    137\u001b[0m         \u001b[1;32mdef\u001b[0m \u001b[0mfun\u001b[0m\u001b[1;33m(\u001b[0m\u001b[0mt\u001b[0m\u001b[1;33m,\u001b[0m \u001b[0my\u001b[0m\u001b[1;33m)\u001b[0m\u001b[1;33m:\u001b[0m\u001b[1;33m\u001b[0m\u001b[0m\n\u001b[0;32m    138\u001b[0m             \u001b[0mself\u001b[0m\u001b[1;33m.\u001b[0m\u001b[0mnfev\u001b[0m \u001b[1;33m+=\u001b[0m \u001b[1;36m1\u001b[0m\u001b[1;33m\u001b[0m\u001b[0m\n\u001b[1;32m--> 139\u001b[1;33m             \u001b[1;32mreturn\u001b[0m \u001b[0mself\u001b[0m\u001b[1;33m.\u001b[0m\u001b[0mfun_single\u001b[0m\u001b[1;33m(\u001b[0m\u001b[0mt\u001b[0m\u001b[1;33m,\u001b[0m \u001b[0my\u001b[0m\u001b[1;33m)\u001b[0m\u001b[1;33m\u001b[0m\u001b[0m\n\u001b[0m\u001b[0;32m    140\u001b[0m \u001b[1;33m\u001b[0m\u001b[0m\n\u001b[0;32m    141\u001b[0m         \u001b[0mself\u001b[0m\u001b[1;33m.\u001b[0m\u001b[0mfun\u001b[0m \u001b[1;33m=\u001b[0m \u001b[0mfun\u001b[0m\u001b[1;33m\u001b[0m\u001b[0m\n",
      "\u001b[1;32m~\\Anaconda3\\lib\\site-packages\\scipy\\integrate\\_ivp\\base.py\u001b[0m in \u001b[0;36mfun_wrapped\u001b[1;34m(t, y)\u001b[0m\n\u001b[0;32m     19\u001b[0m \u001b[1;33m\u001b[0m\u001b[0m\n\u001b[0;32m     20\u001b[0m     \u001b[1;32mdef\u001b[0m \u001b[0mfun_wrapped\u001b[0m\u001b[1;33m(\u001b[0m\u001b[0mt\u001b[0m\u001b[1;33m,\u001b[0m \u001b[0my\u001b[0m\u001b[1;33m)\u001b[0m\u001b[1;33m:\u001b[0m\u001b[1;33m\u001b[0m\u001b[0m\n\u001b[1;32m---> 21\u001b[1;33m         \u001b[1;32mreturn\u001b[0m \u001b[0mnp\u001b[0m\u001b[1;33m.\u001b[0m\u001b[0masarray\u001b[0m\u001b[1;33m(\u001b[0m\u001b[0mfun\u001b[0m\u001b[1;33m(\u001b[0m\u001b[0mt\u001b[0m\u001b[1;33m,\u001b[0m \u001b[0my\u001b[0m\u001b[1;33m)\u001b[0m\u001b[1;33m,\u001b[0m \u001b[0mdtype\u001b[0m\u001b[1;33m=\u001b[0m\u001b[0mdtype\u001b[0m\u001b[1;33m)\u001b[0m\u001b[1;33m\u001b[0m\u001b[0m\n\u001b[0m\u001b[0;32m     22\u001b[0m \u001b[1;33m\u001b[0m\u001b[0m\n\u001b[0;32m     23\u001b[0m     \u001b[1;32mreturn\u001b[0m \u001b[0mfun_wrapped\u001b[0m\u001b[1;33m,\u001b[0m \u001b[0my0\u001b[0m\u001b[1;33m\u001b[0m\u001b[0m\n",
      "\u001b[1;32m<ipython-input-6-65dde064900d>\u001b[0m in \u001b[0;36mmainode\u001b[1;34m(t, x)\u001b[0m\n\u001b[0;32m     15\u001b[0m             \u001b[0mxj\u001b[0m \u001b[1;33m=\u001b[0m \u001b[0mx_fire\u001b[0m\u001b[1;33m[\u001b[0m\u001b[0mj\u001b[0m\u001b[1;33m]\u001b[0m\u001b[1;33m[\u001b[0m\u001b[1;33m-\u001b[0m\u001b[1;36m1\u001b[0m\u001b[1;33m]\u001b[0m \u001b[1;31m# we need the last firing phase\u001b[0m\u001b[1;33m\u001b[0m\u001b[0m\n\u001b[0;32m     16\u001b[0m             \u001b[0mdxij\u001b[0m \u001b[1;33m=\u001b[0m \u001b[0mx\u001b[0m\u001b[1;33m-\u001b[0m\u001b[0mxj\u001b[0m \u001b[1;31m# phase difference between neurons\u001b[0m\u001b[1;33m\u001b[0m\u001b[0m\n\u001b[1;32m---> 17\u001b[1;33m             \u001b[0mH\u001b[0m\u001b[1;33m[\u001b[0m\u001b[1;33m:\u001b[0m\u001b[1;33m,\u001b[0m\u001b[0mj\u001b[0m\u001b[1;33m]\u001b[0m \u001b[1;33m=\u001b[0m \u001b[0mW\u001b[0m\u001b[1;33m[\u001b[0m\u001b[1;33m:\u001b[0m\u001b[1;33m,\u001b[0m\u001b[0mj\u001b[0m\u001b[1;33m]\u001b[0m \u001b[1;33m*\u001b[0m \u001b[0mdomega\u001b[0m\u001b[1;33m(\u001b[0m\u001b[0mdxij\u001b[0m\u001b[1;33m)\u001b[0m \u001b[1;31m# phase interaction\u001b[0m\u001b[1;33m\u001b[0m\u001b[0m\n\u001b[0m\u001b[0;32m     18\u001b[0m                                            \u001b[1;31m# from neuron j\u001b[0m\u001b[1;33m\u001b[0m\u001b[1;33m\u001b[0m\u001b[0m\n\u001b[0;32m     19\u001b[0m                                            \u001b[1;31m# to neuron i\u001b[0m\u001b[1;33m\u001b[0m\u001b[1;33m\u001b[0m\u001b[0m\n",
      "\u001b[1;31mKeyboardInterrupt\u001b[0m: "
     ]
    }
   ],
   "source": [
    "while tNow <= tf:\n",
    "        sol = solve_ivp(mainode,(tNow,tf),xNow,events=event)\n",
    "        t = np.append(t,sol.t)\n",
    "        x = np.append(x,sol.y,axis=1)\n",
    "        tNow = t[-1]\n",
    "        xNow = x[:,-1]\n",
    "        for j,te in enumerate(sol.t_events):\n",
    "                event[j].terminal = True\n",
    "                if te.size>0:\n",
    "                        x_fire[j] += list(te)  # update x_fire for calculating H\n",
    "                        event[j].terminal = False\n",
    "        print(sol.message)\n",
    "        print(tNow)\n",
    "        \n",
    "\n",
    "\n",
    "\n"
   ]
  },
  {
   "cell_type": "code",
   "execution_count": 34,
   "metadata": {},
   "outputs": [
    {
     "name": "stdout",
     "output_type": "stream",
     "text": [
      "200\n",
      "The solver successfully reached the end of the integration interval.\n",
      "12.566370614359172\n"
     ]
    }
   ],
   "source": [
    "sol = solve_ivp(mainode,(tNow,tf),xNow,events=event)\n",
    "print(len(sol.t_events))\n",
    "t = np.append(t,sol.t)\n",
    "x = np.append(x,sol.y,axis=1)\n",
    "tNow = t[-1]\n",
    "xNow = x[:,-1]\n",
    "print(sol.message)\n",
    "print(tNow)\n",
    "for j,te in enumerate(sol.t_events):\n",
    "        if te.size>0:\n",
    "                print(j)"
   ]
  },
  {
   "cell_type": "code",
   "execution_count": 35,
   "metadata": {},
   "outputs": [
    {
     "name": "stdout",
     "output_type": "stream",
     "text": [
      "0\n",
      "A termination event occurred.\n",
      "0.046992188551044076\n"
     ]
    }
   ],
   "source": [
    "for func in event: \n",
    "        func.terminal = True\n",
    "\n",
    "tf = 2*np.pi # end of simulation, unit in LFP phase\n",
    "sol = solve_ivp(mainode,(0,tf),x_0,events=event) # integrate\n",
    "                                # until a neuron fire\n",
    "t = sol.t.copy(); tNow = t[-1]         # record time\n",
    "x = sol.y.copy(); xNow = x[:,-1]       # state\n",
    "for j,te in enumerate(sol.t_events):\n",
    "        if te.size>0:\n",
    "                print(j)\n",
    "                x_fire[j] += list(te)      # update x_fire for calculating H\n",
    "                event[j].terminal = False\n",
    "print(sol.message)\n",
    "print(tNow)\n",
    "# print(len(xNow))\n"
   ]
  },
  {
   "cell_type": "code",
   "execution_count": 36,
   "metadata": {},
   "outputs": [
    {
     "name": "stdout",
     "output_type": "stream",
     "text": [
      "A termination event occurred.\n",
      "0.046992188551044076\n",
      "A termination event occurred.\n",
      "0.046992188551044076\n",
      "A termination event occurred.\n",
      "0.046992188551044076\n",
      "A termination event occurred.\n",
      "0.046992188551044076\n",
      "A termination event occurred.\n",
      "0.046992188551044076\n",
      "A termination event occurred.\n",
      "0.046992188551044076\n",
      "A termination event occurred.\n",
      "0.046992188551044076\n",
      "A termination event occurred.\n",
      "0.046992188551044076\n",
      "A termination event occurred.\n",
      "0.046992188551044076\n",
      "A termination event occurred.\n",
      "0.046992188551044076\n",
      "A termination event occurred.\n",
      "0.046992188551044076\n",
      "A termination event occurred.\n",
      "0.046992188551044076\n",
      "A termination event occurred.\n",
      "0.046992188551044076\n",
      "A termination event occurred.\n",
      "0.046992188551044076\n",
      "A termination event occurred.\n",
      "0.046992188551044076\n",
      "A termination event occurred.\n",
      "0.046992188551044076\n",
      "A termination event occurred.\n",
      "0.046992188551044076\n",
      "A termination event occurred.\n",
      "0.046992188551044076\n",
      "A termination event occurred.\n",
      "0.046992188551044076\n",
      "A termination event occurred.\n",
      "0.046992188551044076\n",
      "A termination event occurred.\n",
      "0.046992188551044076\n",
      "A termination event occurred.\n",
      "0.046992188551044076\n",
      "A termination event occurred.\n",
      "0.046992188551044076\n",
      "A termination event occurred.\n",
      "0.046992188551044076\n",
      "A termination event occurred.\n",
      "0.046992188551044076\n",
      "A termination event occurred.\n",
      "0.046992188551044076\n",
      "A termination event occurred.\n",
      "0.046992188551044076\n",
      "A termination event occurred.\n",
      "0.046992188551044076\n",
      "A termination event occurred.\n",
      "0.046992188551044076\n",
      "A termination event occurred.\n",
      "0.046992188551044076\n",
      "A termination event occurred.\n",
      "0.046992188551044076\n",
      "A termination event occurred.\n",
      "0.046992188551044076\n",
      "A termination event occurred.\n",
      "0.046992188551044076\n",
      "A termination event occurred.\n",
      "0.046992188551044076\n",
      "A termination event occurred.\n",
      "0.046992188551044076\n",
      "A termination event occurred.\n",
      "0.046992188551044076\n",
      "A termination event occurred.\n",
      "0.046992188551044076\n",
      "A termination event occurred.\n",
      "0.046992188551044076\n",
      "A termination event occurred.\n",
      "0.046992188551044076\n",
      "A termination event occurred.\n",
      "0.046992188551044076\n",
      "A termination event occurred.\n",
      "0.046992188551044076\n",
      "A termination event occurred.\n",
      "0.046992188551044076\n",
      "A termination event occurred.\n",
      "0.046992188551044076\n",
      "A termination event occurred.\n",
      "0.046992188551044076\n",
      "A termination event occurred.\n",
      "0.046992188551044076\n",
      "A termination event occurred.\n",
      "0.046992188551044076\n",
      "A termination event occurred.\n",
      "0.046992188551044076\n",
      "A termination event occurred.\n",
      "0.046992188551044076\n",
      "A termination event occurred.\n",
      "0.046992188551044076\n",
      "A termination event occurred.\n",
      "0.046992188551044076\n",
      "A termination event occurred.\n",
      "0.046992188551044076\n",
      "A termination event occurred.\n",
      "0.046992188551044076\n",
      "A termination event occurred.\n",
      "0.046992188551044076\n",
      "A termination event occurred.\n",
      "0.046992188551044076\n",
      "A termination event occurred.\n",
      "0.046992188551044076\n",
      "A termination event occurred.\n",
      "0.046992188551044076\n",
      "A termination event occurred.\n",
      "0.046992188551044076\n",
      "A termination event occurred.\n",
      "0.046992188551044076\n",
      "A termination event occurred.\n",
      "0.046992188551044076\n",
      "A termination event occurred.\n",
      "0.046992188551044076\n",
      "A termination event occurred.\n",
      "0.046992188551044076\n",
      "A termination event occurred.\n",
      "0.046992188551044076\n",
      "A termination event occurred.\n",
      "0.046992188551044076\n",
      "A termination event occurred.\n",
      "0.046992188551044076\n",
      "A termination event occurred.\n",
      "0.046992188551044076\n",
      "A termination event occurred.\n",
      "0.046992188551044076\n",
      "A termination event occurred.\n",
      "0.046992188551044076\n",
      "A termination event occurred.\n",
      "0.046992188551044076\n",
      "A termination event occurred.\n",
      "0.046992188551044076\n",
      "A termination event occurred.\n",
      "0.046992188551044076\n",
      "A termination event occurred.\n",
      "0.046992188551044076\n",
      "A termination event occurred.\n",
      "0.046992188551044076\n",
      "A termination event occurred.\n",
      "0.046992188551044076\n",
      "A termination event occurred.\n",
      "0.046992188551044076\n",
      "A termination event occurred.\n",
      "0.046992188551044076\n"
     ]
    },
    {
     "ename": "KeyboardInterrupt",
     "evalue": "",
     "output_type": "error",
     "traceback": [
      "\u001b[1;31m---------------------------------------------------------------------------\u001b[0m",
      "\u001b[1;31mKeyboardInterrupt\u001b[0m                         Traceback (most recent call last)",
      "\u001b[1;32m<ipython-input-39-7fee9e7322d8>\u001b[0m in \u001b[0;36m<module>\u001b[1;34m()\u001b[0m\n\u001b[0;32m      1\u001b[0m \u001b[1;31m#%%\u001b[0m\u001b[1;33m\u001b[0m\u001b[1;33m\u001b[0m\u001b[0m\n\u001b[0;32m      2\u001b[0m \u001b[1;32mwhile\u001b[0m \u001b[0mtNow\u001b[0m \u001b[1;33m<\u001b[0m \u001b[0mtf\u001b[0m\u001b[1;33m:\u001b[0m\u001b[1;33m\u001b[0m\u001b[0m\n\u001b[1;32m----> 3\u001b[1;33m         \u001b[0msol\u001b[0m \u001b[1;33m=\u001b[0m \u001b[0msolve_ivp\u001b[0m\u001b[1;33m(\u001b[0m\u001b[0mmainode\u001b[0m\u001b[1;33m,\u001b[0m\u001b[1;33m(\u001b[0m\u001b[0mtNow\u001b[0m\u001b[1;33m,\u001b[0m\u001b[0mtf\u001b[0m\u001b[1;33m)\u001b[0m\u001b[1;33m,\u001b[0m\u001b[0mxNow\u001b[0m\u001b[1;33m,\u001b[0m\u001b[0mevents\u001b[0m\u001b[1;33m=\u001b[0m\u001b[0mevent\u001b[0m\u001b[1;33m)\u001b[0m\u001b[1;33m\u001b[0m\u001b[0m\n\u001b[0m\u001b[0;32m      4\u001b[0m         \u001b[0mt\u001b[0m \u001b[1;33m=\u001b[0m \u001b[0mnp\u001b[0m\u001b[1;33m.\u001b[0m\u001b[0mappend\u001b[0m\u001b[1;33m(\u001b[0m\u001b[0mt\u001b[0m\u001b[1;33m,\u001b[0m\u001b[0msol\u001b[0m\u001b[1;33m.\u001b[0m\u001b[0mt\u001b[0m\u001b[1;33m)\u001b[0m\u001b[1;33m\u001b[0m\u001b[0m\n\u001b[0;32m      5\u001b[0m         \u001b[0mx\u001b[0m \u001b[1;33m=\u001b[0m \u001b[0mnp\u001b[0m\u001b[1;33m.\u001b[0m\u001b[0mappend\u001b[0m\u001b[1;33m(\u001b[0m\u001b[0mx\u001b[0m\u001b[1;33m,\u001b[0m\u001b[0msol\u001b[0m\u001b[1;33m.\u001b[0m\u001b[0my\u001b[0m\u001b[1;33m,\u001b[0m\u001b[0maxis\u001b[0m\u001b[1;33m=\u001b[0m\u001b[1;36m1\u001b[0m\u001b[1;33m)\u001b[0m\u001b[1;33m\u001b[0m\u001b[0m\n",
      "\u001b[1;32m~\\Anaconda3\\lib\\site-packages\\scipy\\integrate\\_ivp\\ivp.py\u001b[0m in \u001b[0;36msolve_ivp\u001b[1;34m(fun, t_span, y0, method, t_eval, dense_output, events, vectorized, **options)\u001b[0m\n\u001b[0;32m    473\u001b[0m     \u001b[0mstatus\u001b[0m \u001b[1;33m=\u001b[0m \u001b[1;32mNone\u001b[0m\u001b[1;33m\u001b[0m\u001b[0m\n\u001b[0;32m    474\u001b[0m     \u001b[1;32mwhile\u001b[0m \u001b[0mstatus\u001b[0m \u001b[1;32mis\u001b[0m \u001b[1;32mNone\u001b[0m\u001b[1;33m:\u001b[0m\u001b[1;33m\u001b[0m\u001b[0m\n\u001b[1;32m--> 475\u001b[1;33m         \u001b[0mmessage\u001b[0m \u001b[1;33m=\u001b[0m \u001b[0msolver\u001b[0m\u001b[1;33m.\u001b[0m\u001b[0mstep\u001b[0m\u001b[1;33m(\u001b[0m\u001b[1;33m)\u001b[0m\u001b[1;33m\u001b[0m\u001b[0m\n\u001b[0m\u001b[0;32m    476\u001b[0m \u001b[1;33m\u001b[0m\u001b[0m\n\u001b[0;32m    477\u001b[0m         \u001b[1;32mif\u001b[0m \u001b[0msolver\u001b[0m\u001b[1;33m.\u001b[0m\u001b[0mstatus\u001b[0m \u001b[1;33m==\u001b[0m \u001b[1;34m'finished'\u001b[0m\u001b[1;33m:\u001b[0m\u001b[1;33m\u001b[0m\u001b[0m\n",
      "\u001b[1;32m~\\Anaconda3\\lib\\site-packages\\scipy\\integrate\\_ivp\\base.py\u001b[0m in \u001b[0;36mstep\u001b[1;34m(self)\u001b[0m\n\u001b[0;32m    180\u001b[0m         \u001b[1;32melse\u001b[0m\u001b[1;33m:\u001b[0m\u001b[1;33m\u001b[0m\u001b[0m\n\u001b[0;32m    181\u001b[0m             \u001b[0mt\u001b[0m \u001b[1;33m=\u001b[0m \u001b[0mself\u001b[0m\u001b[1;33m.\u001b[0m\u001b[0mt\u001b[0m\u001b[1;33m\u001b[0m\u001b[0m\n\u001b[1;32m--> 182\u001b[1;33m             \u001b[0msuccess\u001b[0m\u001b[1;33m,\u001b[0m \u001b[0mmessage\u001b[0m \u001b[1;33m=\u001b[0m \u001b[0mself\u001b[0m\u001b[1;33m.\u001b[0m\u001b[0m_step_impl\u001b[0m\u001b[1;33m(\u001b[0m\u001b[1;33m)\u001b[0m\u001b[1;33m\u001b[0m\u001b[0m\n\u001b[0m\u001b[0;32m    183\u001b[0m \u001b[1;33m\u001b[0m\u001b[0m\n\u001b[0;32m    184\u001b[0m             \u001b[1;32mif\u001b[0m \u001b[1;32mnot\u001b[0m \u001b[0msuccess\u001b[0m\u001b[1;33m:\u001b[0m\u001b[1;33m\u001b[0m\u001b[0m\n",
      "\u001b[1;32m~\\Anaconda3\\lib\\site-packages\\scipy\\integrate\\_ivp\\rk.py\u001b[0m in \u001b[0;36m_step_impl\u001b[1;34m(self)\u001b[0m\n\u001b[0;32m    137\u001b[0m \u001b[1;33m\u001b[0m\u001b[0m\n\u001b[0;32m    138\u001b[0m             y_new, f_new, error = rk_step(self.fun, t, y, self.f, h, self.A,\n\u001b[1;32m--> 139\u001b[1;33m                                           self.B, self.C, self.E, self.K)\n\u001b[0m\u001b[0;32m    140\u001b[0m             \u001b[0mscale\u001b[0m \u001b[1;33m=\u001b[0m \u001b[0matol\u001b[0m \u001b[1;33m+\u001b[0m \u001b[0mnp\u001b[0m\u001b[1;33m.\u001b[0m\u001b[0mmaximum\u001b[0m\u001b[1;33m(\u001b[0m\u001b[0mnp\u001b[0m\u001b[1;33m.\u001b[0m\u001b[0mabs\u001b[0m\u001b[1;33m(\u001b[0m\u001b[0my\u001b[0m\u001b[1;33m)\u001b[0m\u001b[1;33m,\u001b[0m \u001b[0mnp\u001b[0m\u001b[1;33m.\u001b[0m\u001b[0mabs\u001b[0m\u001b[1;33m(\u001b[0m\u001b[0my_new\u001b[0m\u001b[1;33m)\u001b[0m\u001b[1;33m)\u001b[0m \u001b[1;33m*\u001b[0m \u001b[0mrtol\u001b[0m\u001b[1;33m\u001b[0m\u001b[0m\n\u001b[0;32m    141\u001b[0m             \u001b[0merror_norm\u001b[0m \u001b[1;33m=\u001b[0m \u001b[0mnorm\u001b[0m\u001b[1;33m(\u001b[0m\u001b[0merror\u001b[0m \u001b[1;33m/\u001b[0m \u001b[0mscale\u001b[0m\u001b[1;33m)\u001b[0m\u001b[1;33m\u001b[0m\u001b[0m\n",
      "\u001b[1;32m~\\Anaconda3\\lib\\site-packages\\scipy\\integrate\\_ivp\\rk.py\u001b[0m in \u001b[0;36mrk_step\u001b[1;34m(fun, t, y, f, h, A, B, C, E, K)\u001b[0m\n\u001b[0;32m     68\u001b[0m     \u001b[1;32mfor\u001b[0m \u001b[0ms\u001b[0m\u001b[1;33m,\u001b[0m \u001b[1;33m(\u001b[0m\u001b[0ma\u001b[0m\u001b[1;33m,\u001b[0m \u001b[0mc\u001b[0m\u001b[1;33m)\u001b[0m \u001b[1;32min\u001b[0m \u001b[0menumerate\u001b[0m\u001b[1;33m(\u001b[0m\u001b[0mzip\u001b[0m\u001b[1;33m(\u001b[0m\u001b[0mA\u001b[0m\u001b[1;33m,\u001b[0m \u001b[0mC\u001b[0m\u001b[1;33m)\u001b[0m\u001b[1;33m)\u001b[0m\u001b[1;33m:\u001b[0m\u001b[1;33m\u001b[0m\u001b[0m\n\u001b[0;32m     69\u001b[0m         \u001b[0mdy\u001b[0m \u001b[1;33m=\u001b[0m \u001b[0mnp\u001b[0m\u001b[1;33m.\u001b[0m\u001b[0mdot\u001b[0m\u001b[1;33m(\u001b[0m\u001b[0mK\u001b[0m\u001b[1;33m[\u001b[0m\u001b[1;33m:\u001b[0m\u001b[0ms\u001b[0m \u001b[1;33m+\u001b[0m \u001b[1;36m1\u001b[0m\u001b[1;33m]\u001b[0m\u001b[1;33m.\u001b[0m\u001b[0mT\u001b[0m\u001b[1;33m,\u001b[0m \u001b[0ma\u001b[0m\u001b[1;33m)\u001b[0m \u001b[1;33m*\u001b[0m \u001b[0mh\u001b[0m\u001b[1;33m\u001b[0m\u001b[0m\n\u001b[1;32m---> 70\u001b[1;33m         \u001b[0mK\u001b[0m\u001b[1;33m[\u001b[0m\u001b[0ms\u001b[0m \u001b[1;33m+\u001b[0m \u001b[1;36m1\u001b[0m\u001b[1;33m]\u001b[0m \u001b[1;33m=\u001b[0m \u001b[0mfun\u001b[0m\u001b[1;33m(\u001b[0m\u001b[0mt\u001b[0m \u001b[1;33m+\u001b[0m \u001b[0mc\u001b[0m \u001b[1;33m*\u001b[0m \u001b[0mh\u001b[0m\u001b[1;33m,\u001b[0m \u001b[0my\u001b[0m \u001b[1;33m+\u001b[0m \u001b[0mdy\u001b[0m\u001b[1;33m)\u001b[0m\u001b[1;33m\u001b[0m\u001b[0m\n\u001b[0m\u001b[0;32m     71\u001b[0m \u001b[1;33m\u001b[0m\u001b[0m\n\u001b[0;32m     72\u001b[0m     \u001b[0my_new\u001b[0m \u001b[1;33m=\u001b[0m \u001b[0my\u001b[0m \u001b[1;33m+\u001b[0m \u001b[0mh\u001b[0m \u001b[1;33m*\u001b[0m \u001b[0mnp\u001b[0m\u001b[1;33m.\u001b[0m\u001b[0mdot\u001b[0m\u001b[1;33m(\u001b[0m\u001b[0mK\u001b[0m\u001b[1;33m[\u001b[0m\u001b[1;33m:\u001b[0m\u001b[1;33m-\u001b[0m\u001b[1;36m1\u001b[0m\u001b[1;33m]\u001b[0m\u001b[1;33m.\u001b[0m\u001b[0mT\u001b[0m\u001b[1;33m,\u001b[0m \u001b[0mB\u001b[0m\u001b[1;33m)\u001b[0m\u001b[1;33m\u001b[0m\u001b[0m\n",
      "\u001b[1;32m~\\Anaconda3\\lib\\site-packages\\scipy\\integrate\\_ivp\\base.py\u001b[0m in \u001b[0;36mfun\u001b[1;34m(t, y)\u001b[0m\n\u001b[0;32m    137\u001b[0m         \u001b[1;32mdef\u001b[0m \u001b[0mfun\u001b[0m\u001b[1;33m(\u001b[0m\u001b[0mt\u001b[0m\u001b[1;33m,\u001b[0m \u001b[0my\u001b[0m\u001b[1;33m)\u001b[0m\u001b[1;33m:\u001b[0m\u001b[1;33m\u001b[0m\u001b[0m\n\u001b[0;32m    138\u001b[0m             \u001b[0mself\u001b[0m\u001b[1;33m.\u001b[0m\u001b[0mnfev\u001b[0m \u001b[1;33m+=\u001b[0m \u001b[1;36m1\u001b[0m\u001b[1;33m\u001b[0m\u001b[0m\n\u001b[1;32m--> 139\u001b[1;33m             \u001b[1;32mreturn\u001b[0m \u001b[0mself\u001b[0m\u001b[1;33m.\u001b[0m\u001b[0mfun_single\u001b[0m\u001b[1;33m(\u001b[0m\u001b[0mt\u001b[0m\u001b[1;33m,\u001b[0m \u001b[0my\u001b[0m\u001b[1;33m)\u001b[0m\u001b[1;33m\u001b[0m\u001b[0m\n\u001b[0m\u001b[0;32m    140\u001b[0m \u001b[1;33m\u001b[0m\u001b[0m\n\u001b[0;32m    141\u001b[0m         \u001b[0mself\u001b[0m\u001b[1;33m.\u001b[0m\u001b[0mfun\u001b[0m \u001b[1;33m=\u001b[0m \u001b[0mfun\u001b[0m\u001b[1;33m\u001b[0m\u001b[0m\n",
      "\u001b[1;32m~\\Anaconda3\\lib\\site-packages\\scipy\\integrate\\_ivp\\base.py\u001b[0m in \u001b[0;36mfun_wrapped\u001b[1;34m(t, y)\u001b[0m\n\u001b[0;32m     19\u001b[0m \u001b[1;33m\u001b[0m\u001b[0m\n\u001b[0;32m     20\u001b[0m     \u001b[1;32mdef\u001b[0m \u001b[0mfun_wrapped\u001b[0m\u001b[1;33m(\u001b[0m\u001b[0mt\u001b[0m\u001b[1;33m,\u001b[0m \u001b[0my\u001b[0m\u001b[1;33m)\u001b[0m\u001b[1;33m:\u001b[0m\u001b[1;33m\u001b[0m\u001b[0m\n\u001b[1;32m---> 21\u001b[1;33m         \u001b[1;32mreturn\u001b[0m \u001b[0mnp\u001b[0m\u001b[1;33m.\u001b[0m\u001b[0masarray\u001b[0m\u001b[1;33m(\u001b[0m\u001b[0mfun\u001b[0m\u001b[1;33m(\u001b[0m\u001b[0mt\u001b[0m\u001b[1;33m,\u001b[0m \u001b[0my\u001b[0m\u001b[1;33m)\u001b[0m\u001b[1;33m,\u001b[0m \u001b[0mdtype\u001b[0m\u001b[1;33m=\u001b[0m\u001b[0mdtype\u001b[0m\u001b[1;33m)\u001b[0m\u001b[1;33m\u001b[0m\u001b[0m\n\u001b[0m\u001b[0;32m     22\u001b[0m \u001b[1;33m\u001b[0m\u001b[0m\n\u001b[0;32m     23\u001b[0m     \u001b[1;32mreturn\u001b[0m \u001b[0mfun_wrapped\u001b[0m\u001b[1;33m,\u001b[0m \u001b[0my0\u001b[0m\u001b[1;33m\u001b[0m\u001b[0m\n",
      "\u001b[1;32m<ipython-input-6-65dde064900d>\u001b[0m in \u001b[0;36mmainode\u001b[1;34m(t, x)\u001b[0m\n\u001b[0;32m     15\u001b[0m             \u001b[0mxj\u001b[0m \u001b[1;33m=\u001b[0m \u001b[0mx_fire\u001b[0m\u001b[1;33m[\u001b[0m\u001b[0mj\u001b[0m\u001b[1;33m]\u001b[0m\u001b[1;33m[\u001b[0m\u001b[1;33m-\u001b[0m\u001b[1;36m1\u001b[0m\u001b[1;33m]\u001b[0m \u001b[1;31m# we need the last firing phase\u001b[0m\u001b[1;33m\u001b[0m\u001b[0m\n\u001b[0;32m     16\u001b[0m             \u001b[0mdxij\u001b[0m \u001b[1;33m=\u001b[0m \u001b[0mx\u001b[0m\u001b[1;33m-\u001b[0m\u001b[0mxj\u001b[0m \u001b[1;31m# phase difference between neurons\u001b[0m\u001b[1;33m\u001b[0m\u001b[0m\n\u001b[1;32m---> 17\u001b[1;33m             \u001b[0mH\u001b[0m\u001b[1;33m[\u001b[0m\u001b[1;33m:\u001b[0m\u001b[1;33m,\u001b[0m\u001b[0mj\u001b[0m\u001b[1;33m]\u001b[0m \u001b[1;33m=\u001b[0m \u001b[0mW\u001b[0m\u001b[1;33m[\u001b[0m\u001b[1;33m:\u001b[0m\u001b[1;33m,\u001b[0m\u001b[0mj\u001b[0m\u001b[1;33m]\u001b[0m \u001b[1;33m*\u001b[0m \u001b[0mdomega\u001b[0m\u001b[1;33m(\u001b[0m\u001b[0mdxij\u001b[0m\u001b[1;33m)\u001b[0m \u001b[1;31m# phase interaction\u001b[0m\u001b[1;33m\u001b[0m\u001b[0m\n\u001b[0m\u001b[0;32m     18\u001b[0m                                            \u001b[1;31m# from neuron j\u001b[0m\u001b[1;33m\u001b[0m\u001b[1;33m\u001b[0m\u001b[0m\n\u001b[0;32m     19\u001b[0m                                            \u001b[1;31m# to neuron i\u001b[0m\u001b[1;33m\u001b[0m\u001b[1;33m\u001b[0m\u001b[0m\n",
      "\u001b[1;31mKeyboardInterrupt\u001b[0m: "
     ]
    }
   ],
   "source": [
    "while tNow < tf:\n",
    "        sol = solve_ivp(mainode,(tNow,tf),xNow,events=event)\n",
    "        t = np.append(t,sol.t)\n",
    "        x = np.append(x,sol.y,axis=1)\n",
    "        tNow = t[-1]\n",
    "        xNow = x[:,-1]\n",
    "        for j,te in enumerate(sol.t_events):\n",
    "                event[j].terminal = True\n",
    "                if te.size>0:\n",
    "                        x_fire[j] += list(te)  # update x_fire for calculating H\n",
    "                        event[j].terminal = False\n",
    "        print(sol.message)\n",
    "        print(tNow)\n",
    "        \n",
    "\n",
    "\n",
    "\n"
   ]
  },
  {
   "cell_type": "code",
   "execution_count": 37,
   "metadata": {},
   "outputs": [
    {
     "name": "stdout",
     "output_type": "stream",
     "text": [
      "0\n",
      "A termination event occurred.\n",
      "0.041329166569770356\n"
     ]
    }
   ],
   "source": [
    "for func in event: \n",
    "        func.terminal = True\n",
    "\n",
    "tf = 4*np.pi # end of simulation, unit in LFP phase\n",
    "sol = solve_ivp(mainode,(0,tf),x_0,events=event) # integrate\n",
    "                                # until a neuron fire\n",
    "t = sol.t.copy(); tNow = t[-1]         # record time\n",
    "x = sol.y.copy(); xNow = x[:,-1]       # state\n",
    "for j,te in enumerate(sol.t_events):\n",
    "        if te.size>0:\n",
    "                print(j)\n",
    "                x_fire[j] += list(te)      # update x_fire for calculating H\n",
    "                event[j].terminal = False\n",
    "print(sol.message)\n",
    "print(tNow)\n",
    "# print(len(xNow))"
   ]
  },
  {
   "cell_type": "code",
   "execution_count": 38,
   "metadata": {},
   "outputs": [
    {
     "name": "stdout",
     "output_type": "stream",
     "text": [
      "200\n",
      "A termination event occurred.\n",
      "6.25265695689237\n",
      "0\n",
      "127\n"
     ]
    }
   ],
   "source": [
    "sol = solve_ivp(mainode,(tNow,tf),xNow,events=event)\n",
    "print(len(sol.t_events))\n",
    "t = np.append(t,sol.t)\n",
    "x = np.append(x,sol.y,axis=1)\n",
    "tNow = t[-1]\n",
    "xNow = x[:,-1]\n",
    "print(sol.message)\n",
    "print(tNow)\n",
    "for j,te in enumerate(sol.t_events):\n",
    "        if te.size>0:\n",
    "                print(j)"
   ]
  },
  {
   "cell_type": "code",
   "execution_count": 39,
   "metadata": {},
   "outputs": [
    {
     "name": "stdout",
     "output_type": "stream",
     "text": [
      "[6.25265695689237]\n"
     ]
    },
    {
     "data": {
      "image/png": "[encoded data removed]",
      "text/plain": [
       "<Figure size 432x288 with 1 Axes>"
      ]
     },
     "metadata": {},
     "output_type": "display_data"
    }
   ],
   "source": [
    "p=0\n",
    "plt.plot(t,x[p,:])\n",
    "print(list(sol.t_events[p]))\n",
    "\n",
    "# print(sol.t_events)"
   ]
  },
  {
   "cell_type": "code",
   "execution_count": 40,
   "metadata": {},
   "outputs": [
    {
     "name": "stdout",
     "output_type": "stream",
     "text": [
      "0\n",
      "A termination event occurred.\n",
      "0.04132426148311323\n"
     ]
    }
   ],
   "source": [
    "for func in event: \n",
    "        func.terminal = True\n",
    "\n",
    "tf = 4*np.pi # end of simulation, unit in LFP phase\n",
    "sol = solve_ivp(mainode,(0,tf),x_0,events=event) # integrate\n",
    "                                # until a neuron fire\n",
    "t = sol.t; tNow = t[-1]         # record time\n",
    "x = sol.y; xNow = x[:,-1]       # state\n",
    "for j,te in enumerate(sol.t_events):\n",
    "        if te.size>0:\n",
    "                print(j)\n",
    "                x_fire[j] += list(te)      # update x_fire for calculating H\n",
    "                event[j].terminal = False\n",
    "print(sol.message)\n",
    "print(tNow)\n",
    "# print(len(xNow))"
   ]
  },
  {
   "cell_type": "code",
   "execution_count": 41,
   "metadata": {},
   "outputs": [
    {
     "name": "stdout",
     "output_type": "stream",
     "text": [
      "200\n",
      "A termination event occurred.\n",
      "6.252656974543995\n",
      "0\n",
      "127\n"
     ]
    }
   ],
   "source": [
    "sol = solve_ivp(mainode,(tNow,tf),xNow,events=event)\n",
    "print(len(sol.t_events))\n",
    "t = np.append(t,sol.t)\n",
    "x = np.append(x,sol.y,axis=1)\n",
    "tNow = t[-1]\n",
    "xNow = x[:,-1]\n",
    "print(sol.message)\n",
    "print(tNow)\n",
    "for j,te in enumerate(sol.t_events):\n",
    "        if te.size>0:\n",
    "                print(j)"
   ]
  },
  {
   "cell_type": "code",
   "execution_count": 42,
   "metadata": {},
   "outputs": [
    {
     "name": "stdout",
     "output_type": "stream",
     "text": [
      "[6.252656974543995]\n"
     ]
    },
    {
     "data": {
      "image/png": "[encoded data removed]",
      "text/plain": [
       "<Figure size 432x288 with 1 Axes>"
      ]
     },
     "metadata": {},
     "output_type": "display_data"
    }
   ],
   "source": [
    "p=127\n",
    "plt.plot(t,x[p,:])\n",
    "print(list(sol.t_events[p]))\n",
    "\n",
    "# print(sol.t_events)"
   ]
  },
  {
   "cell_type": "code",
   "execution_count": 43,
   "metadata": {},
   "outputs": [
    {
     "name": "stdout",
     "output_type": "stream",
     "text": [
      "[0.00000000e+00 6.30204697e-04 6.19117419e-03 1.18238583e-02\n",
      " 1.75064848e-02 2.43867664e-02 3.26953300e-02 4.10038936e-02\n",
      " 4.13242615e-02 4.13242615e-02 5.23576208e-02 6.33909800e-02\n",
      " 7.59755877e-02 8.72064575e-02 9.84373272e-02 1.09668197e-01\n",
      " 1.24447055e-01 1.37067485e-01 1.49687915e-01 1.66205421e-01\n",
      " 1.82840453e-01 1.95907268e-01 2.07507562e-01 2.19413706e-01\n",
      " 2.31319850e-01 2.41899285e-01 2.52680831e-01 2.64581486e-01\n",
      " 2.77180047e-01 2.87734247e-01 2.98418718e-01 3.10282647e-01\n",
      " 3.22928115e-01 3.33510596e-01 3.44231776e-01 3.56090495e-01\n",
      " 3.68714669e-01 3.79286656e-01 3.89995360e-01 4.01856018e-01\n",
      " 4.14498769e-01 4.25070802e-01 4.35772336e-01 4.47628081e-01\n",
      " 4.60275791e-01 4.70850048e-01 4.81553993e-01 4.93406143e-01\n",
      " 5.06046205e-01 5.16621864e-01 5.27331694e-01 5.39189358e-01\n",
      " 5.51829378e-01 5.62402835e-01 5.73108965e-01 5.84966845e-01\n",
      " 5.97610428e-01 6.08183574e-01 6.18887062e-01 6.30743039e-01\n",
      " 6.43388355e-01 6.53962393e-01 6.64666889e-01 6.76522565e-01\n",
      " 6.89166244e-01 6.99740347e-01 7.10445626e-01 7.22301835e-01\n",
      " 7.34942989e-01 7.45517469e-01 7.56224502e-01 7.68081650e-01\n",
      " 7.80723236e-01 7.91296586e-01 8.02001201e-01 8.13857806e-01\n",
      " 8.26502138e-01 8.37075852e-01 8.47780084e-01 8.59635942e-01\n",
      " 8.72280151e-01 8.82854189e-01 8.93559118e-01 9.05415136e-01\n",
      " 9.18058554e-01 9.28632486e-01 9.39337523e-01 9.51193755e-01\n",
      " 9.63837211e-01 9.74411050e-01 9.85115886e-01 9.96972072e-01\n",
      " 1.00961576e+00 1.02018963e+00 1.03089443e+00 1.04275055e+00\n",
      " 1.05539423e+00 1.06596812e+00 1.07667299e+00 1.08852912e+00\n",
      " 1.10117273e+00 1.11174662e+00 1.12245149e+00 1.13430765e+00\n",
      " 1.14695126e+00 1.15752514e+00 1.16822999e+00 1.18008614e+00\n",
      " 1.19272977e+00 1.20330365e+00 1.21400851e+00 1.22586465e+00\n",
      " 1.23850828e+00 1.24908217e+00 1.25978702e+00 1.27164317e+00\n",
      " 1.28428679e+00 1.29486068e+00 1.30556554e+00 1.31742169e+00\n",
      " 1.33006531e+00 1.34063919e+00 1.35134405e+00 1.36320020e+00\n",
      " 1.37584382e+00 1.38641770e+00 1.39712256e+00 1.40897871e+00\n",
      " 1.42162233e+00 1.43219622e+00 1.44290108e+00 1.45475722e+00\n",
      " 1.46740085e+00 1.47797473e+00 1.48867959e+00 1.50053574e+00\n",
      " 1.51317936e+00 1.52375324e+00 1.53445810e+00 1.54631425e+00\n",
      " 1.55895787e+00 1.56953176e+00 1.58023661e+00 1.59209276e+00\n",
      " 1.60473639e+00 1.61531027e+00 1.62601513e+00 1.63787128e+00\n",
      " 1.65051490e+00 1.66108878e+00 1.67179364e+00 1.68364979e+00\n",
      " 1.69629341e+00 1.70686730e+00 1.71757215e+00 1.72942830e+00\n",
      " 1.74207193e+00 1.75264581e+00 1.76335067e+00 1.77520682e+00\n",
      " 1.78785044e+00 1.79842432e+00 1.80912918e+00 1.82098533e+00\n",
      " 1.83362895e+00 1.84420284e+00 1.85490769e+00 1.86676384e+00\n",
      " 1.87940747e+00 1.88998135e+00 1.90068621e+00 1.91254235e+00\n",
      " 1.92518598e+00 1.93575986e+00 1.94646472e+00 1.95832087e+00\n",
      " 1.97096449e+00 1.98153838e+00 1.99224323e+00 2.00409938e+00\n",
      " 2.01674300e+00 2.02731689e+00 2.03802175e+00 2.04987789e+00\n",
      " 2.06252152e+00 2.07309540e+00 2.08380026e+00 2.09565641e+00\n",
      " 2.10830003e+00 2.11887391e+00 2.12957877e+00 2.14143492e+00\n",
      " 2.15407854e+00 2.16465243e+00 2.17535728e+00 2.18721343e+00\n",
      " 2.19985706e+00 2.21043094e+00 2.22113580e+00 2.23299195e+00\n",
      " 2.24563557e+00 2.25620945e+00 2.26691431e+00 2.27877046e+00\n",
      " 2.29141408e+00 2.30198797e+00 2.31269282e+00 2.32454897e+00\n",
      " 2.33719260e+00 2.34776648e+00 2.35847134e+00 2.37032749e+00\n",
      " 2.38297111e+00 2.39354499e+00 2.40424985e+00 2.41610600e+00\n",
      " 2.42874962e+00 2.43932351e+00 2.45002836e+00 2.46188451e+00\n",
      " 2.47452814e+00 2.48510202e+00 2.49580688e+00 2.50766302e+00\n",
      " 2.52030665e+00 2.53088053e+00 2.54158539e+00 2.55344154e+00\n",
      " 2.56608516e+00 2.57665905e+00 2.58736390e+00 2.59922005e+00\n",
      " 2.61186368e+00 2.62243756e+00 2.63314242e+00 2.64499856e+00\n",
      " 2.65764219e+00 2.66821607e+00 2.67892093e+00 2.69077708e+00\n",
      " 2.70342070e+00 2.71399458e+00 2.72469944e+00 2.73655559e+00\n",
      " 2.74919921e+00 2.75977310e+00 2.77047796e+00 2.78233410e+00\n",
      " 2.79497773e+00 2.80555161e+00 2.81625647e+00 2.82811262e+00\n",
      " 2.84075624e+00 2.85133012e+00 2.86203498e+00 2.87389113e+00\n",
      " 2.88653475e+00 2.89710864e+00 2.90781349e+00 2.91966964e+00\n",
      " 2.93231327e+00 2.94288715e+00 2.95359201e+00 2.96544816e+00\n",
      " 2.97809178e+00 2.98866566e+00 2.99937052e+00 3.01122667e+00\n",
      " 3.02387029e+00 3.03444418e+00 3.04514903e+00 3.05700518e+00\n",
      " 3.06964881e+00 3.08022269e+00 3.09092755e+00 3.10278370e+00\n",
      " 3.11542732e+00 3.12600120e+00 3.13670606e+00 3.14856221e+00\n",
      " 3.16120583e+00 3.17177972e+00 3.18248457e+00 3.19434072e+00\n",
      " 3.20698435e+00 3.21755823e+00 3.22826309e+00 3.24011923e+00\n",
      " 3.25276286e+00 3.26333674e+00 3.27404160e+00 3.28589775e+00\n",
      " 3.29854137e+00 3.30911525e+00 3.31982011e+00 3.33167626e+00\n",
      " 3.34431988e+00 3.35489377e+00 3.36559863e+00 3.37745477e+00\n",
      " 3.39009840e+00 3.40067228e+00 3.41137714e+00 3.42323329e+00\n",
      " 3.43587691e+00 3.44645079e+00 3.45715565e+00 3.46901180e+00\n",
      " 3.48165542e+00 3.49222931e+00 3.50293416e+00 3.51479031e+00\n",
      " 3.52743394e+00 3.53800782e+00 3.54871268e+00 3.56056883e+00\n",
      " 3.57321245e+00 3.58378633e+00 3.59449119e+00 3.60634734e+00\n",
      " 3.61899096e+00 3.62956485e+00 3.64026970e+00 3.65212585e+00\n",
      " 3.66476948e+00 3.67534336e+00 3.68604822e+00 3.69790437e+00\n",
      " 3.71054799e+00 3.72112187e+00 3.73182673e+00 3.74368288e+00\n",
      " 3.75632650e+00 3.76690039e+00 3.77760524e+00 3.78946139e+00\n",
      " 3.80210502e+00 3.81267890e+00 3.82338376e+00 3.83523990e+00\n",
      " 3.84788353e+00 3.85845741e+00 3.86916227e+00 3.88101842e+00\n",
      " 3.89366204e+00 3.90423593e+00 3.91494078e+00 3.92679693e+00\n",
      " 3.93944056e+00 3.95001444e+00 3.96071930e+00 3.97257544e+00\n",
      " 3.98521907e+00 3.99579295e+00 4.00649781e+00 4.01835396e+00\n",
      " 4.03099758e+00 4.04157146e+00 4.05227632e+00 4.06413247e+00\n",
      " 4.07677609e+00 4.08734998e+00 4.09805483e+00 4.10991098e+00\n",
      " 4.12255461e+00 4.13312849e+00 4.14383335e+00 4.15568950e+00\n",
      " 4.16833312e+00 4.17890700e+00 4.18961186e+00 4.20146801e+00\n",
      " 4.21411163e+00 4.22468552e+00 4.23539037e+00 4.24724652e+00\n",
      " 4.25989015e+00 4.27046403e+00 4.28116889e+00 4.29302504e+00\n",
      " 4.30566866e+00 4.31624254e+00 4.32694740e+00 4.33880355e+00\n",
      " 4.35144717e+00 4.36202106e+00 4.37272591e+00 4.38458206e+00\n",
      " 4.39722569e+00 4.40779957e+00 4.41850443e+00 4.43036057e+00\n",
      " 4.44300420e+00 4.45357808e+00 4.46428294e+00 4.47613909e+00\n",
      " 4.48878271e+00 4.49935660e+00 4.51006145e+00 4.52191760e+00\n",
      " 4.53456123e+00 4.54513511e+00 4.55583997e+00 4.56769611e+00\n",
      " 4.58033974e+00 4.59091362e+00 4.60161848e+00 4.61347463e+00\n",
      " 4.62611825e+00 4.63669213e+00 4.64739699e+00 4.65925314e+00\n",
      " 4.67189676e+00 4.68247065e+00 4.69317551e+00 4.70503165e+00\n",
      " 4.71767528e+00 4.72824916e+00 4.73895402e+00 4.75081017e+00\n",
      " 4.76345379e+00 4.77402767e+00 4.78473253e+00 4.79658868e+00\n",
      " 4.80923230e+00 4.81980619e+00 4.83051104e+00 4.84236719e+00\n",
      " 4.85501082e+00 4.86558470e+00 4.87628956e+00 4.88814571e+00\n",
      " 4.90078933e+00 4.91136321e+00 4.92206807e+00 4.93392422e+00\n",
      " 4.94656784e+00 4.95714173e+00 4.96784658e+00 4.97970273e+00\n",
      " 4.99234636e+00 5.00292024e+00 5.01362510e+00 5.02548125e+00\n",
      " 5.03812487e+00 5.04869875e+00 5.05940361e+00 5.07125976e+00\n",
      " 5.08390338e+00 5.09447727e+00 5.10518212e+00 5.11703827e+00\n",
      " 5.12968190e+00 5.14025578e+00 5.15096064e+00 5.16281678e+00\n",
      " 5.17546041e+00 5.18603429e+00 5.19673915e+00 5.20859530e+00\n",
      " 5.22123892e+00 5.23181281e+00 5.24251766e+00 5.25437381e+00\n",
      " 5.26701743e+00 5.27759132e+00 5.28829618e+00 5.30015232e+00\n",
      " 5.31279595e+00 5.32336983e+00 5.33407469e+00 5.34593084e+00\n",
      " 5.35857446e+00 5.36914834e+00 5.37985320e+00 5.39170935e+00\n",
      " 5.40435297e+00 5.41492686e+00 5.42563171e+00 5.43748786e+00\n",
      " 5.45013149e+00 5.46070537e+00 5.47141023e+00 5.48326638e+00\n",
      " 5.49591000e+00 5.50648388e+00 5.51718874e+00 5.52904489e+00\n",
      " 5.54168851e+00 5.55226240e+00 5.56296725e+00 5.57482340e+00\n",
      " 5.58746703e+00 5.59804091e+00 5.60874577e+00 5.62060192e+00\n",
      " 5.63324554e+00 5.64381942e+00 5.65452428e+00 5.66638043e+00\n",
      " 5.67902405e+00 5.68959794e+00 5.70030279e+00 5.71215894e+00\n",
      " 5.72480257e+00 5.73537645e+00 5.74608131e+00 5.75793745e+00\n",
      " 5.77058108e+00 5.78115496e+00 5.79185982e+00 5.80371597e+00\n",
      " 5.81635959e+00 5.82693348e+00 5.83763833e+00 5.84949448e+00\n",
      " 5.86213811e+00 5.87271199e+00 5.88341685e+00 5.89527299e+00\n",
      " 5.90791662e+00 5.91849050e+00 5.92919536e+00 5.94105151e+00\n",
      " 5.95369513e+00 5.96426901e+00 5.97497387e+00 5.98683002e+00\n",
      " 5.99947364e+00 6.01004753e+00 6.02075239e+00 6.03260853e+00\n",
      " 6.04525216e+00 6.05582604e+00 6.06653090e+00 6.07838705e+00\n",
      " 6.09103067e+00 6.10160455e+00 6.11230941e+00 6.12416556e+00\n",
      " 6.13680918e+00 6.14738307e+00 6.15808792e+00 6.16994407e+00\n",
      " 6.18258770e+00 6.19316158e+00 6.20386644e+00 6.21572259e+00\n",
      " 6.22836621e+00 6.23894009e+00 6.24964495e+00 6.25265697e+00]\n"
     ]
    }
   ],
   "source": [
    "print(t)\n",
    "# print(sol.t_events)"
   ]
  },
  {
   "cell_type": "code",
   "execution_count": 44,
   "metadata": {},
   "outputs": [
    {
     "ename": "SyntaxError",
     "evalue": "invalid syntax (<ipython-input-47-8b65865efaec>, line 3)",
     "output_type": "error",
     "traceback": [
      "\u001b[1;36m  File \u001b[1;32m\"<ipython-input-47-8b65865efaec>\"\u001b[1;36m, line \u001b[1;32m3\u001b[0m\n\u001b[1;33m    print(x[])\u001b[0m\n\u001b[1;37m            ^\u001b[0m\n\u001b[1;31mSyntaxError\u001b[0m\u001b[1;31m:\u001b[0m invalid syntax\n"
     ]
    }
   ],
   "source": [
    "print(t[-5:])\n",
    "print(x[])\n",
    "# print(sol.t_events)"
   ]
  },
  {
   "cell_type": "code",
   "execution_count": 45,
   "metadata": {},
   "outputs": [
    {
     "name": "stdout",
     "output_type": "stream",
     "text": [
      "[6.21572259 6.22836621 6.23894009 6.24964495 6.25265697]\n",
      "[[ 0.06358486  0.09483217  0.28668381 ...  0.4134614   0.4134614\n",
      "   0.4134614 ]\n",
      " [-0.52472668 -0.49503181 -0.05898816 ...  0.41039211  0.41039211\n",
      "   0.41039211]\n",
      " [ 1.65521339  1.65930877  1.69629055 ...  4.01805406  4.01805406\n",
      "   4.01805406]\n",
      " [-0.75204392 -0.74473647 -0.69936832 ... -0.6563855  -0.6563855\n",
      "  -0.6563855 ]\n",
      " [ 0.42915844  0.41943141  0.33675189 ... -0.03052833 -0.03052833\n",
      "  -0.03052833]]\n"
     ]
    },
    {
     "data": {
      "text/plain": [
       "[<matplotlib.lines.Line2D at 0x23452bee710>]"
      ]
     },
     "execution_count": 48,
     "metadata": {},
     "output_type": "execute_result"
    },
    {
     "data": {
      "image/png": "[encoded data removed]",
      "text/plain": [
       "<Figure size 432x288 with 1 Axes>"
      ]
     },
     "metadata": {},
     "output_type": "display_data"
    }
   ],
   "source": [
    "print(t[-5:])\n",
    "print(x[-5:])\n",
    "plt.plot(t[t>0.5],x[p,t>0.5])\n",
    "# print(sol.t_events)"
   ]
  },
  {
   "cell_type": "code",
   "execution_count": 46,
   "metadata": {},
   "outputs": [
    {
     "name": "stdout",
     "output_type": "stream",
     "text": [
      "6.252656974543995\n"
     ]
    }
   ],
   "source": [
    "print(tNow%(2*np.pi))\n",
    "# print(sol.t_events)"
   ]
  },
  {
   "cell_type": "code",
   "execution_count": 47,
   "metadata": {},
   "outputs": [
    {
     "name": "stdout",
     "output_type": "stream",
     "text": [
      "[6.21572259 6.22836621 6.23894009 6.24964495 6.25265697]\n",
      "[[ 0.06358486  0.09483217  0.28668381 ...  0.4134614   0.4134614\n",
      "   0.4134614 ]\n",
      " [-0.52472668 -0.49503181 -0.05898816 ...  0.41039211  0.41039211\n",
      "   0.41039211]\n",
      " [ 1.65521339  1.65930877  1.69629055 ...  4.01805406  4.01805406\n",
      "   4.01805406]\n",
      " [-0.75204392 -0.74473647 -0.69936832 ... -0.6563855  -0.6563855\n",
      "  -0.6563855 ]\n",
      " [ 0.42915844  0.41943141  0.33675189 ... -0.03052833 -0.03052833\n",
      "  -0.03052833]]\n"
     ]
    },
    {
     "name": "stderr",
     "output_type": "stream",
     "text": [
      "C:\\Users\\golde\\Anaconda3\\lib\\site-packages\\matplotlib\\ticker.py:2198: UserWarning: Data has no positive values, and therefore cannot be log-scaled.\n",
      "  \"Data has no positive values, and therefore cannot be \"\n"
     ]
    },
    {
     "data": {
      "text/plain": [
       "[<matplotlib.lines.Line2D at 0x23452c380f0>]"
      ]
     },
     "execution_count": 50,
     "metadata": {},
     "output_type": "execute_result"
    },
    {
     "data": {
      "image/png": "[encoded data removed]",
      "text/plain": [
       "<Figure size 432x288 with 1 Axes>"
      ]
     },
     "metadata": {},
     "output_type": "display_data"
    }
   ],
   "source": [
    "print(t[-5:])\n",
    "print(x[-5:])\n",
    "plt.semilogy(t[t>0.5],x[p,t>0.5]-tNow+2*np.pi)\n",
    "\n",
    "# print(sol.t_events)"
   ]
  },
  {
   "cell_type": "code",
   "execution_count": 48,
   "metadata": {},
   "outputs": [
    {
     "name": "stdout",
     "output_type": "stream",
     "text": [
      "[6.21572259 6.22836621 6.23894009 6.24964495 6.25265697]\n",
      "[[ 9.41131931e-02  1.25360498e-01  3.17212142e-01 ...  4.43989737e-01\n",
      "   4.43989737e-01  4.43989737e-01]\n",
      " [-4.94198347e-01 -4.64503479e-01 -2.84598274e-02 ...  4.40920445e-01\n",
      "   4.40920445e-01  4.40920445e-01]\n",
      " [ 1.68574172e+00  1.68983711e+00  1.72681888e+00 ...  4.04858239e+00\n",
      "   4.04858239e+00  4.04858239e+00]\n",
      " [-7.21515589e-01 -7.14208133e-01 -6.68839985e-01 ... -6.25857165e-01\n",
      "  -6.25857165e-01 -6.25857165e-01]\n",
      " [ 4.59686769e-01  4.49959740e-01  3.67280221e-01 ... -1.77635684e-15\n",
      "  -1.77635684e-15 -1.77635684e-15]]\n"
     ]
    }
   ],
   "source": [
    "print(t[-5:])\n",
    "print(x[-5:]-tNow+2*np.pi)\n",
    "# plt.semilogy(t[t>0.5],x[p,t>0.5]-tNow+2*np.pi)\n",
    "\n",
    "# print(sol.t_events)"
   ]
  },
  {
   "cell_type": "code",
   "execution_count": 49,
   "metadata": {},
   "outputs": [
    {
     "name": "stdout",
     "output_type": "stream",
     "text": [
      "[6.21572259 6.22836621 6.23894009 6.24964495 6.25265697]\n",
      "[[ 9.41131931e-02  1.25360498e-01  3.17212142e-01 ...  4.43989737e-01\n",
      "   4.43989737e-01  4.43989737e-01]\n",
      " [-4.94198347e-01 -4.64503479e-01 -2.84598274e-02 ...  4.40920445e-01\n",
      "   4.40920445e-01  4.40920445e-01]\n",
      " [ 1.68574172e+00  1.68983711e+00  1.72681888e+00 ...  4.04858239e+00\n",
      "   4.04858239e+00  4.04858239e+00]\n",
      " [-7.21515589e-01 -7.14208133e-01 -6.68839985e-01 ... -6.25857165e-01\n",
      "  -6.25857165e-01 -6.25857165e-01]\n",
      " [ 4.59686769e-01  4.49959740e-01  3.67280221e-01 ... -1.77635684e-15\n",
      "  -1.77635684e-15 -1.77635684e-15]]\n"
     ]
    },
    {
     "name": "stderr",
     "output_type": "stream",
     "text": [
      "C:\\Users\\golde\\Anaconda3\\lib\\site-packages\\ipykernel_launcher.py:4: RuntimeWarning: invalid value encountered in log\n",
      "  after removing the cwd from sys.path.\n"
     ]
    },
    {
     "data": {
      "text/plain": [
       "[<matplotlib.lines.Line2D at 0x23452daafd0>]"
      ]
     },
     "execution_count": 52,
     "metadata": {},
     "output_type": "execute_result"
    },
    {
     "data": {
      "image/png": "[encoded data removed]",
      "text/plain": [
       "<Figure size 432x288 with 1 Axes>"
      ]
     },
     "metadata": {},
     "output_type": "display_data"
    }
   ],
   "source": [
    "print(t[-5:])\n",
    "print(x[-5:]-tNow+2*np.pi)\n",
    "plt.plot(t[t>0.5],np.log(x[p,t>0.5]-tNow+2*np.pi))"
   ]
  },
  {
   "cell_type": "code",
   "execution_count": 50,
   "metadata": {},
   "outputs": [
    {
     "name": "stdout",
     "output_type": "stream",
     "text": [
      "[6.21572259 6.22836621 6.23894009 6.24964495 6.25265697]\n",
      "[[ 9.41131931e-02  1.25360498e-01  3.17212142e-01 ...  4.43989737e-01\n",
      "   4.43989737e-01  4.43989737e-01]\n",
      " [-4.94198347e-01 -4.64503479e-01 -2.84598274e-02 ...  4.40920445e-01\n",
      "   4.40920445e-01  4.40920445e-01]\n",
      " [ 1.68574172e+00  1.68983711e+00  1.72681888e+00 ...  4.04858239e+00\n",
      "   4.04858239e+00  4.04858239e+00]\n",
      " [-7.21515589e-01 -7.14208133e-01 -6.68839985e-01 ... -6.25857165e-01\n",
      "  -6.25857165e-01 -6.25857165e-01]\n",
      " [ 4.59686769e-01  4.49959740e-01  3.67280221e-01 ... -1.77635684e-15\n",
      "  -1.77635684e-15 -1.77635684e-15]]\n"
     ]
    },
    {
     "name": "stderr",
     "output_type": "stream",
     "text": [
      "C:\\Users\\golde\\Anaconda3\\lib\\site-packages\\ipykernel_launcher.py:4: RuntimeWarning: invalid value encountered in log\n",
      "  after removing the cwd from sys.path.\n"
     ]
    },
    {
     "data": {
      "text/plain": [
       "[<matplotlib.lines.Line2D at 0x23452d17080>]"
      ]
     },
     "execution_count": 53,
     "metadata": {},
     "output_type": "execute_result"
    },
    {
     "data": {
      "image/png": "[encoded data removed]",
      "text/plain": [
       "<Figure size 432x288 with 1 Axes>"
      ]
     },
     "metadata": {},
     "output_type": "display_data"
    }
   ],
   "source": [
    "print(t[-5:])\n",
    "print(x[-5:]-tNow+2*np.pi)\n",
    "plt.plot(t[:-1],np.log(x[p,:-1]-tNow+2*np.pi))"
   ]
  },
  {
   "cell_type": "code",
   "execution_count": 51,
   "metadata": {},
   "outputs": [
    {
     "name": "stdout",
     "output_type": "stream",
     "text": [
      "[6.252656974543995]\n"
     ]
    },
    {
     "data": {
      "image/png": "[encoded data removed]",
      "text/plain": [
       "<Figure size 432x288 with 1 Axes>"
      ]
     },
     "metadata": {},
     "output_type": "display_data"
    }
   ],
   "source": [
    "p=0\n",
    "plt.plot(t,x[p,:])\n",
    "print(list(sol.t_events[p]))"
   ]
  },
  {
   "cell_type": "code",
   "execution_count": 52,
   "metadata": {},
   "outputs": [
    {
     "name": "stdout",
     "output_type": "stream",
     "text": [
      "[6.21572259 6.22836621 6.23894009 6.24964495 6.25265697]\n",
      "[[ 9.41131931e-02  1.25360498e-01  3.17212142e-01 ...  4.43989737e-01\n",
      "   4.43989737e-01  4.43989737e-01]\n",
      " [-4.94198347e-01 -4.64503479e-01 -2.84598274e-02 ...  4.40920445e-01\n",
      "   4.40920445e-01  4.40920445e-01]\n",
      " [ 1.68574172e+00  1.68983711e+00  1.72681888e+00 ...  4.04858239e+00\n",
      "   4.04858239e+00  4.04858239e+00]\n",
      " [-7.21515589e-01 -7.14208133e-01 -6.68839985e-01 ... -6.25857165e-01\n",
      "  -6.25857165e-01 -6.25857165e-01]\n",
      " [ 4.59686769e-01  4.49959740e-01  3.67280221e-01 ... -1.77635684e-15\n",
      "  -1.77635684e-15 -1.77635684e-15]]\n"
     ]
    },
    {
     "data": {
      "text/plain": [
       "[<matplotlib.lines.Line2D at 0x23450a1e748>]"
      ]
     },
     "execution_count": 55,
     "metadata": {},
     "output_type": "execute_result"
    },
    {
     "data": {
      "image/png": "[encoded data removed]",
      "text/plain": [
       "<Figure size 432x288 with 1 Axes>"
      ]
     },
     "metadata": {},
     "output_type": "display_data"
    }
   ],
   "source": [
    "print(t[-5:])\n",
    "print(x[-5:]-tNow+2*np.pi)\n",
    "plt.plot(t[:-1],(x[p,:-1]-tNow+2*np.pi))"
   ]
  },
  {
   "cell_type": "code",
   "execution_count": 53,
   "metadata": {},
   "outputs": [
    {
     "name": "stdout",
     "output_type": "stream",
     "text": [
      "0\n",
      "A termination event occurred.\n",
      "0.04132425711623757\n"
     ]
    }
   ],
   "source": [
    "for func in event: \n",
    "        func.terminal = True\n",
    "\n",
    "tf = 4*np.pi # end of simulation, unit in LFP phase\n",
    "sol = solve_ivp(mainode,(0,tf),x_0,events=event) # integrate\n",
    "                                # until a neuron fire\n",
    "t = sol.t; tNow = t[-1]         # record time\n",
    "x = sol.y; xNow = x[:,-1]       # state\n",
    "for j,te in enumerate(sol.t_events):\n",
    "        if te.size>0:\n",
    "                print(j)\n",
    "                x_fire[j] += list(te)      # update x_fire for calculating H\n",
    "                event[j].terminal = False\n",
    "print(sol.message)\n",
    "print(tNow)\n",
    "# print(len(xNow))"
   ]
  },
  {
   "cell_type": "code",
   "execution_count": 54,
   "metadata": {},
   "outputs": [
    {
     "name": "stdout",
     "output_type": "stream",
     "text": [
      "200\n",
      "A termination event occurred.\n",
      "6.2526569745597085\n",
      "0\n",
      "127\n"
     ]
    }
   ],
   "source": [
    "sol = solve_ivp(mainode,(tNow,tf),xNow,events=event)\n",
    "print(len(sol.t_events))\n",
    "t = np.append(t,sol.t)\n",
    "x = np.append(x,sol.y,axis=1)\n",
    "tNow = t[-1]\n",
    "xNow = x[:,-1]\n",
    "print(sol.message)\n",
    "print(tNow)\n",
    "for j,te in enumerate(sol.t_events):\n",
    "        if te.size>0:\n",
    "                print(j)"
   ]
  },
  {
   "cell_type": "code",
   "execution_count": 55,
   "metadata": {},
   "outputs": [
    {
     "name": "stdout",
     "output_type": "stream",
     "text": [
      "[6.2526569745597085]\n"
     ]
    },
    {
     "data": {
      "image/png": "[encoded data removed]",
      "text/plain": [
       "<Figure size 432x288 with 1 Axes>"
      ]
     },
     "metadata": {},
     "output_type": "display_data"
    }
   ],
   "source": [
    "p=0\n",
    "plt.plot(t,x[p,:])\n",
    "print(list(sol.t_events[p]))"
   ]
  },
  {
   "cell_type": "code",
   "execution_count": 56,
   "metadata": {},
   "outputs": [
    {
     "name": "stdout",
     "output_type": "stream",
     "text": [
      "[6.2526569745597085]\n"
     ]
    },
    {
     "data": {
      "image/png": "[encoded data removed]",
      "text/plain": [
       "<Figure size 432x288 with 1 Axes>"
      ]
     },
     "metadata": {},
     "output_type": "display_data"
    }
   ],
   "source": [
    "p=127\n",
    "plt.plot(t,x[p,:])\n",
    "print(list(sol.t_events[p]))"
   ]
  },
  {
   "cell_type": "code",
   "execution_count": 57,
   "metadata": {},
   "outputs": [
    {
     "name": "stdout",
     "output_type": "stream",
     "text": [
      "[6.2526569745597085]\n"
     ]
    },
    {
     "ename": "IndexError",
     "evalue": "index 199 is out of bounds for axis 0 with size 1",
     "output_type": "error",
     "traceback": [
      "\u001b[1;31m---------------------------------------------------------------------------\u001b[0m",
      "\u001b[1;31mIndexError\u001b[0m                                Traceback (most recent call last)",
      "\u001b[1;32m<ipython-input-60-7903f119af29>\u001b[0m in \u001b[0;36m<module>\u001b[1;34m()\u001b[0m\n\u001b[0;32m      5\u001b[0m \u001b[0mprint\u001b[0m\u001b[1;33m(\u001b[0m\u001b[0mte\u001b[0m\u001b[1;33m)\u001b[0m\u001b[1;33m\u001b[0m\u001b[0m\n\u001b[0;32m      6\u001b[0m \u001b[0mtFire\u001b[0m \u001b[1;33m=\u001b[0m \u001b[0mte\u001b[0m\u001b[1;33m[\u001b[0m\u001b[1;33m-\u001b[0m\u001b[1;36m1\u001b[0m\u001b[1;33m]\u001b[0m\u001b[1;33m\u001b[0m\u001b[0m\n\u001b[1;32m----> 7\u001b[1;33m \u001b[0mevent\u001b[0m\u001b[1;33m[\u001b[0m\u001b[0mp\u001b[0m\u001b[1;33m]\u001b[0m\u001b[1;33m(\u001b[0m\u001b[0mtFire\u001b[0m\u001b[1;33m,\u001b[0m\u001b[0mx\u001b[0m\u001b[1;33m[\u001b[0m\u001b[0mp\u001b[0m\u001b[1;33m,\u001b[0m\u001b[0mt\u001b[0m\u001b[1;33m==\u001b[0m\u001b[0mtFire\u001b[0m\u001b[1;33m]\u001b[0m\u001b[1;33m)\u001b[0m\u001b[1;33m\u001b[0m\u001b[0m\n\u001b[0m",
      "\u001b[1;32m<ipython-input-7-5a0ff1663c52>\u001b[0m in \u001b[0;36m<lambda>\u001b[1;34m(t, x)\u001b[0m\n\u001b[0;32m      2\u001b[0m \u001b[0mN\u001b[0m \u001b[1;33m=\u001b[0m \u001b[1;36m200\u001b[0m \u001b[1;31m# number of neurons\u001b[0m\u001b[1;33m\u001b[0m\u001b[0m\n\u001b[0;32m      3\u001b[0m event = [lambda t,x:            # event[i](t,x)\n\u001b[1;32m----> 4\u001b[1;33m         \u001b[0mnp\u001b[0m\u001b[1;33m.\u001b[0m\u001b[0msin\u001b[0m\u001b[1;33m(\u001b[0m\u001b[1;33m(\u001b[0m\u001b[0mx\u001b[0m\u001b[1;33m[\u001b[0m\u001b[0mj\u001b[0m\u001b[1;33m]\u001b[0m\u001b[1;33m-\u001b[0m\u001b[0mt\u001b[0m\u001b[1;33m)\u001b[0m\u001b[1;33m/\u001b[0m\u001b[1;36m2\u001b[0m\u001b[1;33m)\u001b[0m      \u001b[1;31m# equals 0 when firing phase\u001b[0m\u001b[1;33m\u001b[0m\u001b[0m\n\u001b[0m\u001b[0;32m      5\u001b[0m         for j in range(N)]      # of neuron i matches current LFP \n\u001b[0;32m      6\u001b[0m                                 \u001b[1;31m# i.e. (x[i]-t) mod 2pi ==0\u001b[0m\u001b[1;33m\u001b[0m\u001b[1;33m\u001b[0m\u001b[0m\n",
      "\u001b[1;31mIndexError\u001b[0m: index 199 is out of bounds for axis 0 with size 1"
     ]
    }
   ],
   "source": [
    "p=127\n",
    "# plt.plot(t,x[p,:])\n",
    "te = list(sol.t_events[p])\n",
    "print(te)\n",
    "tFire = te[-1]\n",
    "event[p](tFire,x[p,t==tFire])"
   ]
  },
  {
   "cell_type": "code",
   "execution_count": 58,
   "metadata": {},
   "outputs": [
    {
     "name": "stdout",
     "output_type": "stream",
     "text": [
      "[6.2526569745597085]\n"
     ]
    },
    {
     "data": {
      "text/plain": [
       "array([7.6571374e-16])"
      ]
     },
     "execution_count": 61,
     "metadata": {},
     "output_type": "execute_result"
    }
   ],
   "source": [
    "p=127\n",
    "# plt.plot(t,x[p,:])\n",
    "te = list(sol.t_events[p])\n",
    "print(te)\n",
    "tFire = te[-1]\n",
    "event[p](tFire,x[:,t==tFire])"
   ]
  },
  {
   "cell_type": "code",
   "execution_count": 59,
   "metadata": {},
   "outputs": [
    {
     "name": "stdout",
     "output_type": "stream",
     "text": [
      "[6.2526569745597085]\n"
     ]
    },
    {
     "data": {
      "text/plain": [
       "array([7.6571374e-16])"
      ]
     },
     "execution_count": 62,
     "metadata": {},
     "output_type": "execute_result"
    }
   ],
   "source": [
    "p=0\n",
    "# plt.plot(t,x[p,:])\n",
    "te = list(sol.t_events[p])\n",
    "print(te)\n",
    "tFire = te[-1]\n",
    "event[p](tFire,x[:,t==tFire])"
   ]
  },
  {
   "cell_type": "code",
   "execution_count": 60,
   "metadata": {},
   "outputs": [
    {
     "name": "stdout",
     "output_type": "stream",
     "text": [
      "[6.2526569745597085]\n",
      "[0.35222468]\n"
     ]
    }
   ],
   "source": [
    "p=0\n",
    "# plt.plot(t,x[p,:])\n",
    "te = list(sol.t_events[p])\n",
    "print(te)\n",
    "tFire = te[-1]\n",
    "event[p](tFire,x[:,t==tFire])\n",
    "print(x[p,t==tFire])"
   ]
  },
  {
   "cell_type": "code",
   "execution_count": 61,
   "metadata": {},
   "outputs": [
    {
     "name": "stdout",
     "output_type": "stream",
     "text": [
      "[6.2526569745597085]\n",
      "[-0.29714625]\n"
     ]
    }
   ],
   "source": [
    "p=127\n",
    "# plt.plot(t,x[p,:])\n",
    "te = list(sol.t_events[p])\n",
    "print(te)\n",
    "tFire = te[-1]\n",
    "event[p](tFire,x[:,t==tFire])\n",
    "print(x[p,t==tFire])"
   ]
  },
  {
   "cell_type": "code",
   "execution_count": 62,
   "metadata": {},
   "outputs": [
    {
     "name": "stdout",
     "output_type": "stream",
     "text": [
      "[5.4983618]\n"
     ]
    }
   ],
   "source": [
    "p=1\n",
    "event[p](tFire,x[:,t==tFire])\n",
    "print(x[p,t==tFire])"
   ]
  },
  {
   "cell_type": "code",
   "execution_count": 63,
   "metadata": {},
   "outputs": [
    {
     "name": "stdout",
     "output_type": "stream",
     "text": [
      "[6.2526569745597085]\n",
      "[7.6571374e-16]\n",
      "[-0.29714625]\n"
     ]
    }
   ],
   "source": [
    "p=127\n",
    "# plt.plot(t,x[p,:])\n",
    "te = list(sol.t_events[p])\n",
    "print(te)\n",
    "tFire = te[-1]\n",
    "print(event[p](tFire,x[:,t==tFire]))\n",
    "print(x[p,t==tFire])"
   ]
  },
  {
   "cell_type": "code",
   "execution_count": 64,
   "metadata": {},
   "outputs": [
    {
     "data": {
      "text/plain": [
       "1.0"
      ]
     },
     "execution_count": 67,
     "metadata": {},
     "output_type": "execute_result"
    }
   ],
   "source": [
    "p = 1\n",
    "event[p](0,np.linspace(0,np.pi,N))\n",
    "\n",
    "\n"
   ]
  },
  {
   "cell_type": "code",
   "execution_count": 65,
   "metadata": {},
   "outputs": [
    {
     "name": "stdout",
     "output_type": "stream",
     "text": [
      "1.0\n"
     ]
    }
   ],
   "source": [
    "p = 0\n",
    "print(event[p](0,np.linspace(0,np.pi,N)))\n",
    "\n",
    "\n"
   ]
  },
  {
   "cell_type": "code",
   "execution_count": 66,
   "metadata": {},
   "outputs": [
    {
     "name": "stdout",
     "output_type": "stream",
     "text": [
      "1.0\n"
     ]
    }
   ],
   "source": [
    "p = 10\n",
    "print(event[p](0,np.linspace(0,np.pi,N)))\n",
    "\n",
    "\n"
   ]
  },
  {
   "cell_type": "code",
   "execution_count": 67,
   "metadata": {},
   "outputs": [
    {
     "ename": "SyntaxError",
     "evalue": "invalid syntax (<ipython-input-70-9812ff43810a>, line 5)",
     "output_type": "error",
     "traceback": [
      "\u001b[1;36m  File \u001b[1;32m\"<ipython-input-70-9812ff43810a>\"\u001b[1;36m, line \u001b[1;32m5\u001b[0m\n\u001b[1;33m    event[j] = lambda t,x:  # event[i](t,x)\u001b[0m\n\u001b[1;37m                                           ^\u001b[0m\n\u001b[1;31mSyntaxError\u001b[0m\u001b[1;31m:\u001b[0m invalid syntax\n"
     ]
    }
   ],
   "source": [
    "N = 200\t# number of neurons\n",
    "event = [None] * N\n",
    "for j in range(N):\n",
    "        event[j] = lambda t,x:  # event[i](t,x)\n",
    "        np.sin((x[j]-t)/2)      # equals 0 when firing phase\n",
    "                                # of neuron i matches current LFP \n",
    "                                # i.e. (x[i]-t) mod 2pi ==0 \n"
   ]
  },
  {
   "cell_type": "code",
   "execution_count": 68,
   "metadata": {},
   "outputs": [],
   "source": [
    "N = 200\t# number of neurons\n",
    "event = [None] * N\n",
    "for j in range(N):\n",
    "        event[j] = lambda t,x: np.sin((x[j]-t)/2)      \n",
    "                # event[i](t,x)\n",
    "                # equals 0 when firing phase\n",
    "                # of neuron i matches current LFP\n",
    "                # i.e. (x[i]-t) mod 2pi ==0                                  \n",
    "                                \n"
   ]
  },
  {
   "cell_type": "code",
   "execution_count": 69,
   "metadata": {},
   "outputs": [
    {
     "name": "stdout",
     "output_type": "stream",
     "text": [
      "1.0\n"
     ]
    }
   ],
   "source": [
    "p = 10\n",
    "print(event[p](0,np.linspace(0,np.pi,N)))\n",
    "\n",
    "\n"
   ]
  },
  {
   "cell_type": "code",
   "execution_count": 70,
   "metadata": {},
   "outputs": [
    {
     "name": "stdout",
     "output_type": "stream",
     "text": [
      "1.0\n"
     ]
    }
   ],
   "source": [
    "p = 10\n",
    "func = event[p]\n",
    "print(func(0,np.linspace(0,np.pi,N)))"
   ]
  },
  {
   "cell_type": "code",
   "execution_count": 71,
   "metadata": {},
   "outputs": [
    {
     "name": "stdout",
     "output_type": "stream",
     "text": [
      "1.0\n"
     ]
    }
   ],
   "source": [
    "p = 0\n",
    "func = event[p]\n",
    "print(func(0,np.linspace(0,np.pi,N)))"
   ]
  },
  {
   "cell_type": "code",
   "execution_count": 72,
   "metadata": {},
   "outputs": [],
   "source": [
    "N = 200\t# number of neurons\n",
    "event = [None] * N\n",
    "for j in range(N):\n",
    "        event[j] = lambda t,x: np.sin((x[j]-t)/2)      \n",
    "                # event[i](t,x)\n",
    "                # equals 0 when firing phase\n",
    "                # of neuron i matches current LFP\n",
    "                # i.e. (x[i]-t) mod 2pi ==0                                  \n",
    "                                \n"
   ]
  },
  {
   "cell_type": "code",
   "execution_count": 73,
   "metadata": {},
   "outputs": [
    {
     "name": "stdout",
     "output_type": "stream",
     "text": [
      "<function <lambda> at 0x0000023452D73730>\n"
     ]
    }
   ],
   "source": [
    "print(event[0])                               \n"
   ]
  },
  {
   "cell_type": "code",
   "execution_count": 74,
   "metadata": {},
   "outputs": [
    {
     "name": "stdout",
     "output_type": "stream",
     "text": [
      "<function <lambda> at 0x0000023452D73E18>\n"
     ]
    }
   ],
   "source": [
    "print(event[1])                               \n"
   ]
  },
  {
   "cell_type": "code",
   "execution_count": 75,
   "metadata": {},
   "outputs": [
    {
     "name": "stdout",
     "output_type": "stream",
     "text": [
      "<function <lambda> at 0x00000234509E1048>\n"
     ]
    }
   ],
   "source": [
    "print(event[2])                               \n"
   ]
  },
  {
   "cell_type": "code",
   "execution_count": 76,
   "metadata": {},
   "outputs": [
    {
     "ename": "NameError",
     "evalue": "name 'xx' is not defined",
     "output_type": "error",
     "traceback": [
      "\u001b[1;31m---------------------------------------------------------------------------\u001b[0m",
      "\u001b[1;31mNameError\u001b[0m                                 Traceback (most recent call last)",
      "\u001b[1;32m<ipython-input-79-e0a4606ba5d3>\u001b[0m in \u001b[0;36m<module>\u001b[1;34m()\u001b[0m\n\u001b[0;32m      2\u001b[0m \u001b[0mp\u001b[0m \u001b[1;33m=\u001b[0m \u001b[1;36m0\u001b[0m\u001b[1;33m\u001b[0m\u001b[0m\n\u001b[0;32m      3\u001b[0m \u001b[0mfunc\u001b[0m \u001b[1;33m=\u001b[0m \u001b[0mevent\u001b[0m\u001b[1;33m[\u001b[0m\u001b[0mp\u001b[0m\u001b[1;33m]\u001b[0m\u001b[1;33m\u001b[0m\u001b[0m\n\u001b[1;32m----> 4\u001b[1;33m \u001b[0mxx\u001b[0m\u001b[1;33m\u001b[0m\u001b[0m\n\u001b[0m\u001b[0;32m      5\u001b[0m \u001b[0mprint\u001b[0m\u001b[1;33m(\u001b[0m\u001b[0mxx\u001b[0m\u001b[1;33m[\u001b[0m\u001b[1;33m:\u001b[0m\u001b[1;36m10\u001b[0m\u001b[1;33m]\u001b[0m\u001b[1;33m)\u001b[0m\u001b[1;33m\u001b[0m\u001b[0m\n\u001b[0;32m      6\u001b[0m \u001b[0mprint\u001b[0m\u001b[1;33m(\u001b[0m\u001b[0mfunc\u001b[0m\u001b[1;33m(\u001b[0m\u001b[1;36m0\u001b[0m\u001b[1;33m,\u001b[0m\u001b[0mxx\u001b[0m\u001b[1;33m)\u001b[0m\u001b[1;33m)\u001b[0m\u001b[1;33m\u001b[0m\u001b[0m\n",
      "\u001b[1;31mNameError\u001b[0m: name 'xx' is not defined"
     ]
    }
   ],
   "source": [
    "p = 0\n",
    "func = event[p]\n",
    "xx\n",
    "print(xx[:10])\n",
    "print(func(0,xx))"
   ]
  },
  {
   "cell_type": "code",
   "execution_count": 77,
   "metadata": {},
   "outputs": [
    {
     "ename": "SyntaxError",
     "evalue": "invalid syntax (<ipython-input-80-780a11763d05>, line 4)",
     "output_type": "error",
     "traceback": [
      "\u001b[1;36m  File \u001b[1;32m\"<ipython-input-80-780a11763d05>\"\u001b[1;36m, line \u001b[1;32m4\u001b[0m\n\u001b[1;33m    xx=np.linspace(0,np.pi,N)k\u001b[0m\n\u001b[1;37m                             ^\u001b[0m\n\u001b[1;31mSyntaxError\u001b[0m\u001b[1;31m:\u001b[0m invalid syntax\n"
     ]
    }
   ],
   "source": [
    "p = 0\n",
    "func = event[p]\n",
    "xx=np.linspace(0,np.pi,N)k\n",
    "print(xx[:10])\n",
    "print(func(0,xx))"
   ]
  },
  {
   "cell_type": "code",
   "execution_count": 78,
   "metadata": {},
   "outputs": [
    {
     "name": "stdout",
     "output_type": "stream",
     "text": [
      "[0.         0.0157869  0.0315738  0.04736069 0.06314759 0.07893449\n",
      " 0.09472139 0.11050828 0.12629518 0.14208208]\n",
      "1.0\n"
     ]
    }
   ],
   "source": [
    "p = 0\n",
    "func = event[p]\n",
    "xx=np.linspace(0,np.pi,N)\n",
    "print(xx[:10])\n",
    "print(func(0,xx))"
   ]
  },
  {
   "cell_type": "code",
   "execution_count": 79,
   "metadata": {},
   "outputs": [],
   "source": [
    "N = 200\t# number of neurons\n",
    "event = [lambda t,x: np.sin((x[j]-t)/2) for j in range(N)]      \n",
    "        # event[i](t,x)\n",
    "        # equals 0 when firing phase\n",
    "        # of neuron i matches current LFP \n",
    "        # i.e. (x[i]-t) mod 2pi ==0                                 "
   ]
  },
  {
   "cell_type": "code",
   "execution_count": 80,
   "metadata": {},
   "outputs": [
    {
     "name": "stdout",
     "output_type": "stream",
     "text": [
      "1.0\n"
     ]
    }
   ],
   "source": [
    "p = 0\n",
    "print(event[p](0,np.linspace(0,np.pi,N)))\n"
   ]
  },
  {
   "cell_type": "code",
   "execution_count": 81,
   "metadata": {},
   "outputs": [
    {
     "name": "stdout",
     "output_type": "stream",
     "text": [
      "0.0\n"
     ]
    }
   ],
   "source": [
    "p = 0\n",
    "print(event[p](0,np.zeros(N)))\n"
   ]
  },
  {
   "cell_type": "code",
   "execution_count": 82,
   "metadata": {},
   "outputs": [
    {
     "name": "stdout",
     "output_type": "stream",
     "text": [
      "1.0\n"
     ]
    }
   ],
   "source": [
    "p = 0\n",
    "xx = np.zeros(N)\n",
    "xx[-1] = np.pi\n",
    "print(event[p](0,xx))\n"
   ]
  },
  {
   "cell_type": "code",
   "execution_count": 83,
   "metadata": {},
   "outputs": [
    {
     "name": "stdout",
     "output_type": "stream",
     "text": [
      "0.0\n"
     ]
    }
   ],
   "source": [
    "p = 0\n",
    "xx = np.zeros(N)\n",
    "xx[-2] = np.pi\n",
    "print(event[p](0,xx))\n"
   ]
  },
  {
   "cell_type": "code",
   "execution_count": 84,
   "metadata": {},
   "outputs": [
    {
     "name": "stdout",
     "output_type": "stream",
     "text": [
      "-1.0\n"
     ]
    }
   ],
   "source": [
    "p = 0\n",
    "xx = np.zeros(N)\n",
    "xx[-1] = -np.pi\n",
    "print(event[p](0,xx))\n"
   ]
  },
  {
   "cell_type": "code",
   "execution_count": 85,
   "metadata": {},
   "outputs": [
    {
     "name": "stdout",
     "output_type": "stream",
     "text": [
      "-1.0\n"
     ]
    }
   ],
   "source": [
    "j=N-2\n",
    "p = 0\n",
    "xx = np.zeros(N)\n",
    "xx[-1] = -np.pi\n",
    "print(event[p](0,xx))\n"
   ]
  },
  {
   "cell_type": "code",
   "execution_count": 86,
   "metadata": {},
   "outputs": [],
   "source": [
    "N = 200\t# number of neurons\n",
    "event = [lambda t,x: np.sin((x[j]-t)/2) for j in range(N)]      \n",
    "        # event[i](t,x)\n",
    "        # equals 0 when firing phase\n",
    "        # of neuron i matches current LFP \n",
    "        # i.e. (x[i]-t) mod 2pi ==0                                 "
   ]
  },
  {
   "cell_type": "code",
   "execution_count": 87,
   "metadata": {},
   "outputs": [
    {
     "name": "stdout",
     "output_type": "stream",
     "text": [
      "-1.0\n"
     ]
    }
   ],
   "source": [
    "j=N-2\n",
    "p = 0\n",
    "xx = np.zeros(N)\n",
    "xx[-1] = -np.pi\n",
    "print(event[p](0,xx))\n"
   ]
  },
  {
   "cell_type": "code",
   "execution_count": 88,
   "metadata": {},
   "outputs": [
    {
     "name": "stdout",
     "output_type": "stream",
     "text": [
      "0.0\n"
     ]
    }
   ],
   "source": [
    "j=N-2\n",
    "p = 0\n",
    "xx = np.zeros(N)\n",
    "xx[-2] = -np.pi\n",
    "print(event[p](0,xx))\n"
   ]
  },
  {
   "cell_type": "code",
   "execution_count": 89,
   "metadata": {},
   "outputs": [],
   "source": [
    "N = 200\t# number of neurons\n",
    "event = [lambda t,x,j=j: np.sin((x[j]-t)/2) for j in range(N)]      \n",
    "        # event[i](t,x)\n",
    "        # equals 0 when firing phase\n",
    "        # of neuron i matches current LFP \n",
    "        # i.e. (x[i]-t) mod 2pi ==0                                 "
   ]
  },
  {
   "cell_type": "code",
   "execution_count": 90,
   "metadata": {},
   "outputs": [
    {
     "name": "stdout",
     "output_type": "stream",
     "text": [
      "0.0\n"
     ]
    }
   ],
   "source": [
    "j=N-2\n",
    "p = 0\n",
    "xx = np.zeros(N)\n",
    "xx[-2] = -np.pi\n",
    "print(event[p](0,xx))\n"
   ]
  },
  {
   "cell_type": "code",
   "execution_count": 91,
   "metadata": {},
   "outputs": [
    {
     "name": "stdout",
     "output_type": "stream",
     "text": [
      "0.0\n"
     ]
    }
   ],
   "source": [
    "j=N-2\n",
    "p = 0\n",
    "xx = np.zeros(N)\n",
    "xx[-1] = -np.pi\n",
    "print(event[p](0,xx))\n"
   ]
  },
  {
   "cell_type": "code",
   "execution_count": 92,
   "metadata": {},
   "outputs": [
    {
     "name": "stdout",
     "output_type": "stream",
     "text": [
      "0.007893366909713283\n"
     ]
    }
   ],
   "source": [
    "p = 1\n",
    "xx = np.linspace(0,np.pi,N)\n",
    "print(event[p](0,xx))\n"
   ]
  },
  {
   "cell_type": "code",
   "execution_count": 93,
   "metadata": {},
   "outputs": [
    {
     "name": "stdout",
     "output_type": "stream",
     "text": [
      "1.0\n"
     ]
    }
   ],
   "source": [
    "p = N-1\n",
    "xx = np.linspace(0,np.pi,N)\n",
    "print(event[p](0,xx))\n"
   ]
  },
  {
   "cell_type": "code",
   "execution_count": 94,
   "metadata": {},
   "outputs": [
    {
     "ename": "TypeError",
     "evalue": "list indices must be integers or slices, not float",
     "output_type": "error",
     "traceback": [
      "\u001b[1;31m---------------------------------------------------------------------------\u001b[0m",
      "\u001b[1;31mTypeError\u001b[0m                                 Traceback (most recent call last)",
      "\u001b[1;32m<ipython-input-97-e162d57a4d22>\u001b[0m in \u001b[0;36m<module>\u001b[1;34m()\u001b[0m\n\u001b[0;32m      2\u001b[0m \u001b[0mp\u001b[0m \u001b[1;33m=\u001b[0m \u001b[0mN\u001b[0m\u001b[1;33m/\u001b[0m\u001b[1;36m2\u001b[0m\u001b[1;33m-\u001b[0m\u001b[1;36m1\u001b[0m\u001b[1;33m\u001b[0m\u001b[0m\n\u001b[0;32m      3\u001b[0m \u001b[0mxx\u001b[0m \u001b[1;33m=\u001b[0m \u001b[0mnp\u001b[0m\u001b[1;33m.\u001b[0m\u001b[0mlinspace\u001b[0m\u001b[1;33m(\u001b[0m\u001b[1;36m0\u001b[0m\u001b[1;33m,\u001b[0m\u001b[0mnp\u001b[0m\u001b[1;33m.\u001b[0m\u001b[0mpi\u001b[0m\u001b[1;33m,\u001b[0m\u001b[0mN\u001b[0m\u001b[1;33m)\u001b[0m\u001b[1;33m\u001b[0m\u001b[0m\n\u001b[1;32m----> 4\u001b[1;33m \u001b[0mprint\u001b[0m\u001b[1;33m(\u001b[0m\u001b[0mevent\u001b[0m\u001b[1;33m[\u001b[0m\u001b[0mp\u001b[0m\u001b[1;33m]\u001b[0m\u001b[1;33m(\u001b[0m\u001b[1;36m0\u001b[0m\u001b[1;33m,\u001b[0m\u001b[0mxx\u001b[0m\u001b[1;33m)\u001b[0m\u001b[1;33m)\u001b[0m\u001b[1;33m\u001b[0m\u001b[0m\n\u001b[0m",
      "\u001b[1;31mTypeError\u001b[0m: list indices must be integers or slices, not float"
     ]
    }
   ],
   "source": [
    "p = N/2-1\n",
    "xx = np.linspace(0,np.pi,N)\n",
    "print(event[p](0,xx))\n"
   ]
  },
  {
   "cell_type": "code",
   "execution_count": 95,
   "metadata": {},
   "outputs": [
    {
     "ename": "TypeError",
     "evalue": "list indices must be integers or slices, not float",
     "output_type": "error",
     "traceback": [
      "\u001b[1;31m---------------------------------------------------------------------------\u001b[0m",
      "\u001b[1;31mTypeError\u001b[0m                                 Traceback (most recent call last)",
      "\u001b[1;32m<ipython-input-98-e162d57a4d22>\u001b[0m in \u001b[0;36m<module>\u001b[1;34m()\u001b[0m\n\u001b[0;32m      2\u001b[0m \u001b[0mp\u001b[0m \u001b[1;33m=\u001b[0m \u001b[0mN\u001b[0m\u001b[1;33m/\u001b[0m\u001b[1;36m2\u001b[0m\u001b[1;33m-\u001b[0m\u001b[1;36m1\u001b[0m\u001b[1;33m\u001b[0m\u001b[0m\n\u001b[0;32m      3\u001b[0m \u001b[0mxx\u001b[0m \u001b[1;33m=\u001b[0m \u001b[0mnp\u001b[0m\u001b[1;33m.\u001b[0m\u001b[0mlinspace\u001b[0m\u001b[1;33m(\u001b[0m\u001b[1;36m0\u001b[0m\u001b[1;33m,\u001b[0m\u001b[0mnp\u001b[0m\u001b[1;33m.\u001b[0m\u001b[0mpi\u001b[0m\u001b[1;33m,\u001b[0m\u001b[0mN\u001b[0m\u001b[1;33m)\u001b[0m\u001b[1;33m\u001b[0m\u001b[0m\n\u001b[1;32m----> 4\u001b[1;33m \u001b[0mprint\u001b[0m\u001b[1;33m(\u001b[0m\u001b[0mevent\u001b[0m\u001b[1;33m[\u001b[0m\u001b[0mp\u001b[0m\u001b[1;33m]\u001b[0m\u001b[1;33m(\u001b[0m\u001b[1;36m0\u001b[0m\u001b[1;33m,\u001b[0m\u001b[0mxx\u001b[0m\u001b[1;33m)\u001b[0m\u001b[1;33m)\u001b[0m\u001b[1;33m\u001b[0m\u001b[0m\n\u001b[0m",
      "\u001b[1;31mTypeError\u001b[0m: list indices must be integers or slices, not float"
     ]
    }
   ],
   "source": [
    "p = N/2-1\n",
    "xx = np.linspace(0,np.pi,N)\n",
    "print(event[p](0,xx))\n"
   ]
  },
  {
   "cell_type": "code",
   "execution_count": 96,
   "metadata": {},
   "outputs": [
    {
     "name": "stdout",
     "output_type": "stream",
     "text": [
      "0.7043105256526722\n"
     ]
    }
   ],
   "source": [
    "p = int(N/2-1)\n",
    "xx = np.linspace(0,np.pi,N)\n",
    "print(event[p](0,xx))\n"
   ]
  },
  {
   "cell_type": "code",
   "execution_count": 97,
   "metadata": {},
   "outputs": [
    {
     "name": "stdout",
     "output_type": "stream",
     "text": [
      "0.4908579070575937\n"
     ]
    }
   ],
   "source": [
    "p = int(N/3-1)\n",
    "xx = np.linspace(0,np.pi,N)\n",
    "print(event[p](0,xx))\n"
   ]
  },
  {
   "cell_type": "code",
   "execution_count": 98,
   "metadata": {},
   "outputs": [
    {
     "name": "stdout",
     "output_type": "stream",
     "text": [
      "0.4908579070575937\n"
     ]
    }
   ],
   "source": [
    "p = int(N/3)-1\n",
    "xx = np.linspace(0,np.pi,N)\n",
    "print(event[p](0,xx))\n"
   ]
  },
  {
   "cell_type": "code",
   "execution_count": 99,
   "metadata": {},
   "outputs": [
    {
     "name": "stdout",
     "output_type": "stream",
     "text": [
      "1.4086210513053443\n"
     ]
    }
   ],
   "source": [
    "p = int(N/2)-1\n",
    "xx = np.linspace(0,np.pi,N)\n",
    "print(event[p](0,xx)*2)\n"
   ]
  },
  {
   "cell_type": "code",
   "execution_count": 100,
   "metadata": {},
   "outputs": [
    {
     "data": {
      "text/plain": [
       "[<matplotlib.lines.Line2D at 0x23452e1eba8>]"
      ]
     },
     "execution_count": 103,
     "metadata": {},
     "output_type": "execute_result"
    },
    {
     "data": {
      "image/png": "[encoded data removed]",
      "text/plain": [
       "<Figure size 432x288 with 1 Axes>"
      ]
     },
     "metadata": {},
     "output_type": "display_data"
    }
   ],
   "source": [
    "xx = np.linspace(0,np.pi,N)\n",
    "yy=[]\n",
    "for p in range(N):\n",
    "        y = event[p](0,xx)*2\n",
    "        yy += [y]\n",
    "plt.plot(yy)"
   ]
  },
  {
   "cell_type": "code",
   "execution_count": 101,
   "metadata": {},
   "outputs": [
    {
     "data": {
      "text/plain": [
       "[<matplotlib.lines.Line2D at 0x23452e80588>]"
      ]
     },
     "execution_count": 104,
     "metadata": {},
     "output_type": "execute_result"
    },
    {
     "data": {
      "image/png": "[encoded data removed]",
      "text/plain": [
       "<Figure size 432x288 with 1 Axes>"
      ]
     },
     "metadata": {},
     "output_type": "display_data"
    }
   ],
   "source": [
    "xx = np.linspace(0,np.pi*4,N)\n",
    "yy=[]\n",
    "for p in range(N):\n",
    "        y = event[p](0,xx)*2\n",
    "        yy += [y]\n",
    "plt.plot(yy)"
   ]
  },
  {
   "cell_type": "code",
   "execution_count": 102,
   "metadata": {},
   "outputs": [
    {
     "name": "stdout",
     "output_type": "stream",
     "text": [
      "102\n",
      "A termination event occurred.\n",
      "9.500914713373855e-05\n"
     ]
    }
   ],
   "source": [
    "for func in event: \n",
    "        func.terminal = True\n",
    "\n",
    "tf = 4*np.pi # end of simulation, unit in LFP phase\n",
    "sol = solve_ivp(mainode,(0,tf),x_0,events=event) # integrate\n",
    "                                # until a neuron fire\n",
    "t = sol.t; tNow = t[-1]         # record time\n",
    "x = sol.y; xNow = x[:,-1]       # state\n",
    "for j,te in enumerate(sol.t_events):\n",
    "        if te.size>0:\n",
    "                print(j)\n",
    "                x_fire[j] += list(te)      # update x_fire for calculating H\n",
    "                event[j].terminal = False\n",
    "print(sol.message)\n",
    "print(tNow)\n",
    "# print(len(xNow))"
   ]
  },
  {
   "cell_type": "code",
   "execution_count": 103,
   "metadata": {},
   "outputs": [
    {
     "name": "stdout",
     "output_type": "stream",
     "text": [
      "0.3089137920113165\n",
      "0.007976000276099349\n"
     ]
    }
   ],
   "source": [
    "p=np.argmin(np.mod(x_tilde,2*np.pi))\n",
    "print(x_target[p])\n",
    "print(x_tilde[p])"
   ]
  },
  {
   "cell_type": "code",
   "execution_count": 104,
   "metadata": {},
   "outputs": [
    {
     "name": "stdout",
     "output_type": "stream",
     "text": [
      "0.00033775312337480656\n",
      "-1.896655757319409\n",
      "-1.9789018372596745\n"
     ]
    }
   ],
   "source": [
    "p=np.argmin(np.mod(x_0,2*np.pi))\n",
    "print(x_0[p])\n",
    "print(x_target[p])\n",
    "print(x_tilde[p])"
   ]
  },
  {
   "cell_type": "code",
   "execution_count": 105,
   "metadata": {},
   "outputs": [
    {
     "name": "stdout",
     "output_type": "stream",
     "text": [
      "[9.500914713373855e-05]\n",
      "[-6.77626358e-20]\n",
      "[9.50091471e-05]\n"
     ]
    },
    {
     "data": {
      "image/png": "[encoded data removed]",
      "text/plain": [
       "<Figure size 432x288 with 1 Axes>"
      ]
     },
     "metadata": {},
     "output_type": "display_data"
    }
   ],
   "source": [
    "p=102\n",
    "plt.plot(t,x[p,:])\n",
    "te = list(sol.t_events[p])\n",
    "print(te)\n",
    "tFire = te[-1]\n",
    "print(event[p](tFire,x[:,t==tFire]))\n",
    "print(x[p,t==tFire])"
   ]
  },
  {
   "cell_type": "code",
   "execution_count": 106,
   "metadata": {},
   "outputs": [
    {
     "name": "stdout",
     "output_type": "stream",
     "text": [
      "[9.500914713373855e-05]\n",
      "[-6.77626358e-20]\n",
      "[[ 0.56336514]\n",
      " [ 1.35992894]\n",
      " [-0.35826796]\n",
      " [ 0.42016635]\n",
      " [-0.75991889]]\n"
     ]
    }
   ],
   "source": [
    "p=102\n",
    "# plt.plot(t,x[p,:])\n",
    "te = list(sol.t_events[p])\n",
    "print(te)\n",
    "tFire = te[-1]\n",
    "print(event[p](tFire,x[:,t==tFire]))\n",
    "print(x[:5,t==tFire])"
   ]
  },
  {
   "cell_type": "code",
   "execution_count": 107,
   "metadata": {},
   "outputs": [
    {
     "name": "stdout",
     "output_type": "stream",
     "text": [
      "[9.500914713373855e-05]\n"
     ]
    },
    {
     "ename": "IndexError",
     "evalue": "index 102 is out of bounds for axis 0 with size 1",
     "output_type": "error",
     "traceback": [
      "\u001b[1;31m---------------------------------------------------------------------------\u001b[0m",
      "\u001b[1;31mIndexError\u001b[0m                                Traceback (most recent call last)",
      "\u001b[1;32m<ipython-input-110-05254fc51179>\u001b[0m in \u001b[0;36m<module>\u001b[1;34m()\u001b[0m\n\u001b[0;32m      5\u001b[0m \u001b[0mprint\u001b[0m\u001b[1;33m(\u001b[0m\u001b[0mte\u001b[0m\u001b[1;33m)\u001b[0m\u001b[1;33m\u001b[0m\u001b[0m\n\u001b[0;32m      6\u001b[0m \u001b[0mtFire\u001b[0m \u001b[1;33m=\u001b[0m \u001b[0mte\u001b[0m\u001b[1;33m[\u001b[0m\u001b[1;33m-\u001b[0m\u001b[1;36m1\u001b[0m\u001b[1;33m]\u001b[0m\u001b[1;33m\u001b[0m\u001b[0m\n\u001b[1;32m----> 7\u001b[1;33m \u001b[0mprint\u001b[0m\u001b[1;33m(\u001b[0m\u001b[0mevent\u001b[0m\u001b[1;33m[\u001b[0m\u001b[0mp\u001b[0m\u001b[1;33m]\u001b[0m\u001b[1;33m(\u001b[0m\u001b[0mtFire\u001b[0m\u001b[1;33m,\u001b[0m\u001b[0mx\u001b[0m\u001b[1;33m[\u001b[0m\u001b[1;33m:\u001b[0m\u001b[1;33m,\u001b[0m\u001b[0mt\u001b[0m\u001b[1;33m==\u001b[0m\u001b[0mtFire\u001b[0m\u001b[1;33m]\u001b[0m\u001b[1;33m[\u001b[0m\u001b[1;36m0\u001b[0m\u001b[1;33m]\u001b[0m\u001b[1;33m)\u001b[0m\u001b[1;33m)\u001b[0m\u001b[1;33m\u001b[0m\u001b[0m\n\u001b[0m\u001b[0;32m      8\u001b[0m \u001b[0mprint\u001b[0m\u001b[1;33m(\u001b[0m\u001b[0mx\u001b[0m\u001b[1;33m[\u001b[0m\u001b[1;33m:\u001b[0m\u001b[1;36m5\u001b[0m\u001b[1;33m,\u001b[0m\u001b[0mt\u001b[0m\u001b[1;33m==\u001b[0m\u001b[0mtFire\u001b[0m\u001b[1;33m]\u001b[0m\u001b[1;33m[\u001b[0m\u001b[1;36m0\u001b[0m\u001b[1;33m]\u001b[0m\u001b[1;33m)\u001b[0m\u001b[1;33m\u001b[0m\u001b[0m\n",
      "\u001b[1;32m<ipython-input-92-a2d772313a5f>\u001b[0m in \u001b[0;36m<lambda>\u001b[1;34m(t, x, j)\u001b[0m\n\u001b[0;32m      1\u001b[0m \u001b[1;31m#%% Define firing events\u001b[0m\u001b[1;33m\u001b[0m\u001b[1;33m\u001b[0m\u001b[0m\n\u001b[0;32m      2\u001b[0m \u001b[0mN\u001b[0m \u001b[1;33m=\u001b[0m \u001b[1;36m200\u001b[0m \u001b[1;31m# number of neurons\u001b[0m\u001b[1;33m\u001b[0m\u001b[0m\n\u001b[1;32m----> 3\u001b[1;33m \u001b[0mevent\u001b[0m \u001b[1;33m=\u001b[0m \u001b[1;33m[\u001b[0m\u001b[1;32mlambda\u001b[0m \u001b[0mt\u001b[0m\u001b[1;33m,\u001b[0m\u001b[0mx\u001b[0m\u001b[1;33m,\u001b[0m\u001b[0mj\u001b[0m\u001b[1;33m=\u001b[0m\u001b[0mj\u001b[0m\u001b[1;33m:\u001b[0m \u001b[0mnp\u001b[0m\u001b[1;33m.\u001b[0m\u001b[0msin\u001b[0m\u001b[1;33m(\u001b[0m\u001b[1;33m(\u001b[0m\u001b[0mx\u001b[0m\u001b[1;33m[\u001b[0m\u001b[0mj\u001b[0m\u001b[1;33m]\u001b[0m\u001b[1;33m-\u001b[0m\u001b[0mt\u001b[0m\u001b[1;33m)\u001b[0m\u001b[1;33m/\u001b[0m\u001b[1;36m2\u001b[0m\u001b[1;33m)\u001b[0m \u001b[1;32mfor\u001b[0m \u001b[0mj\u001b[0m \u001b[1;32min\u001b[0m \u001b[0mrange\u001b[0m\u001b[1;33m(\u001b[0m\u001b[0mN\u001b[0m\u001b[1;33m)\u001b[0m\u001b[1;33m]\u001b[0m\u001b[1;33m\u001b[0m\u001b[0m\n\u001b[0m\u001b[0;32m      4\u001b[0m         \u001b[1;31m# event[i](t,x)\u001b[0m\u001b[1;33m\u001b[0m\u001b[1;33m\u001b[0m\u001b[0m\n\u001b[0;32m      5\u001b[0m         \u001b[1;31m# equals 0 when firing phase\u001b[0m\u001b[1;33m\u001b[0m\u001b[1;33m\u001b[0m\u001b[0m\n",
      "\u001b[1;31mIndexError\u001b[0m: index 102 is out of bounds for axis 0 with size 1"
     ]
    }
   ],
   "source": [
    "p=102\n",
    "plt.plot(t,x[p,:])\n",
    "te = list(sol.t_events[p])\n",
    "print(te)\n",
    "tFire = te[-1]\n",
    "print(event[p](tFire,x[:,t==tFire][0]))\n",
    "print(x[:5,t==tFire][0])"
   ]
  },
  {
   "cell_type": "code",
   "execution_count": 108,
   "metadata": {},
   "outputs": [
    {
     "name": "stdout",
     "output_type": "stream",
     "text": [
      "[9.500914713373855e-05]\n",
      "9.500914713373842e-05\n"
     ]
    },
    {
     "data": {
      "image/png": "[encoded data removed]",
      "text/plain": [
       "<Figure size 432x288 with 1 Axes>"
      ]
     },
     "metadata": {},
     "output_type": "display_data"
    }
   ],
   "source": [
    "p=102\n",
    "plt.plot(t,x[p,:])\n",
    "te = list(sol.t_events[p])\n",
    "print(te)\n",
    "tFire = te[-1]\n",
    "# print(event[p](tFire,x[:,t==tFire][0]))\n",
    "print(x[p,t==tFire][0])"
   ]
  },
  {
   "cell_type": "code",
   "execution_count": 109,
   "metadata": {},
   "outputs": [
    {
     "name": "stdout",
     "output_type": "stream",
     "text": [
      "[9.500914713373855e-05]\n"
     ]
    },
    {
     "ename": "IndexError",
     "evalue": "index 102 is out of bounds for axis 0 with size 1",
     "output_type": "error",
     "traceback": [
      "\u001b[1;31m---------------------------------------------------------------------------\u001b[0m",
      "\u001b[1;31mIndexError\u001b[0m                                Traceback (most recent call last)",
      "\u001b[1;32m<ipython-input-112-01d78ffb13c9>\u001b[0m in \u001b[0;36m<module>\u001b[1;34m()\u001b[0m\n\u001b[0;32m      5\u001b[0m \u001b[0mprint\u001b[0m\u001b[1;33m(\u001b[0m\u001b[0mte\u001b[0m\u001b[1;33m)\u001b[0m\u001b[1;33m\u001b[0m\u001b[0m\n\u001b[0;32m      6\u001b[0m \u001b[0mtFire\u001b[0m \u001b[1;33m=\u001b[0m \u001b[0mte\u001b[0m\u001b[1;33m[\u001b[0m\u001b[1;33m-\u001b[0m\u001b[1;36m1\u001b[0m\u001b[1;33m]\u001b[0m\u001b[1;33m\u001b[0m\u001b[0m\n\u001b[1;32m----> 7\u001b[1;33m \u001b[0mprint\u001b[0m\u001b[1;33m(\u001b[0m\u001b[0mevent\u001b[0m\u001b[1;33m[\u001b[0m\u001b[0mp\u001b[0m\u001b[1;33m]\u001b[0m\u001b[1;33m(\u001b[0m\u001b[0mtFire\u001b[0m\u001b[1;33m,\u001b[0m\u001b[0mx\u001b[0m\u001b[1;33m[\u001b[0m\u001b[1;33m:\u001b[0m\u001b[1;33m,\u001b[0m\u001b[0mt\u001b[0m\u001b[1;33m==\u001b[0m\u001b[0mtFire\u001b[0m\u001b[1;33m]\u001b[0m\u001b[1;33m[\u001b[0m\u001b[1;36m0\u001b[0m\u001b[1;33m]\u001b[0m\u001b[1;33m)\u001b[0m\u001b[1;33m)\u001b[0m\u001b[1;33m\u001b[0m\u001b[0m\n\u001b[0m\u001b[0;32m      8\u001b[0m \u001b[0mprint\u001b[0m\u001b[1;33m(\u001b[0m\u001b[0mx\u001b[0m\u001b[1;33m[\u001b[0m\u001b[0mp\u001b[0m\u001b[1;33m,\u001b[0m\u001b[0mt\u001b[0m\u001b[1;33m==\u001b[0m\u001b[0mtFire\u001b[0m\u001b[1;33m]\u001b[0m\u001b[1;33m[\u001b[0m\u001b[1;36m0\u001b[0m\u001b[1;33m]\u001b[0m\u001b[1;33m)\u001b[0m\u001b[1;33m\u001b[0m\u001b[0m\n",
      "\u001b[1;32m<ipython-input-92-a2d772313a5f>\u001b[0m in \u001b[0;36m<lambda>\u001b[1;34m(t, x, j)\u001b[0m\n\u001b[0;32m      1\u001b[0m \u001b[1;31m#%% Define firing events\u001b[0m\u001b[1;33m\u001b[0m\u001b[1;33m\u001b[0m\u001b[0m\n\u001b[0;32m      2\u001b[0m \u001b[0mN\u001b[0m \u001b[1;33m=\u001b[0m \u001b[1;36m200\u001b[0m \u001b[1;31m# number of neurons\u001b[0m\u001b[1;33m\u001b[0m\u001b[0m\n\u001b[1;32m----> 3\u001b[1;33m \u001b[0mevent\u001b[0m \u001b[1;33m=\u001b[0m \u001b[1;33m[\u001b[0m\u001b[1;32mlambda\u001b[0m \u001b[0mt\u001b[0m\u001b[1;33m,\u001b[0m\u001b[0mx\u001b[0m\u001b[1;33m,\u001b[0m\u001b[0mj\u001b[0m\u001b[1;33m=\u001b[0m\u001b[0mj\u001b[0m\u001b[1;33m:\u001b[0m \u001b[0mnp\u001b[0m\u001b[1;33m.\u001b[0m\u001b[0msin\u001b[0m\u001b[1;33m(\u001b[0m\u001b[1;33m(\u001b[0m\u001b[0mx\u001b[0m\u001b[1;33m[\u001b[0m\u001b[0mj\u001b[0m\u001b[1;33m]\u001b[0m\u001b[1;33m-\u001b[0m\u001b[0mt\u001b[0m\u001b[1;33m)\u001b[0m\u001b[1;33m/\u001b[0m\u001b[1;36m2\u001b[0m\u001b[1;33m)\u001b[0m \u001b[1;32mfor\u001b[0m \u001b[0mj\u001b[0m \u001b[1;32min\u001b[0m \u001b[0mrange\u001b[0m\u001b[1;33m(\u001b[0m\u001b[0mN\u001b[0m\u001b[1;33m)\u001b[0m\u001b[1;33m]\u001b[0m\u001b[1;33m\u001b[0m\u001b[0m\n\u001b[0m\u001b[0;32m      4\u001b[0m         \u001b[1;31m# event[i](t,x)\u001b[0m\u001b[1;33m\u001b[0m\u001b[1;33m\u001b[0m\u001b[0m\n\u001b[0;32m      5\u001b[0m         \u001b[1;31m# equals 0 when firing phase\u001b[0m\u001b[1;33m\u001b[0m\u001b[1;33m\u001b[0m\u001b[0m\n",
      "\u001b[1;31mIndexError\u001b[0m: index 102 is out of bounds for axis 0 with size 1"
     ]
    }
   ],
   "source": [
    "p=102\n",
    "# plt.plot(t,x[p,:])\n",
    "te = list(sol.t_events[p])\n",
    "print(te)\n",
    "tFire = te[-1]\n",
    "print(event[p](tFire,x[:,t==tFire][0]))\n",
    "print(x[p,t==tFire][0])"
   ]
  },
  {
   "cell_type": "code",
   "execution_count": 110,
   "metadata": {},
   "outputs": [
    {
     "name": "stdout",
     "output_type": "stream",
     "text": [
      "[9.500914713373855e-05]\n",
      "[-6.77626358e-20]\n",
      "9.500914713373842e-05\n"
     ]
    }
   ],
   "source": [
    "p=102\n",
    "# plt.plot(t,x[p,:])\n",
    "te = list(sol.t_events[p])\n",
    "print(te)\n",
    "tFire = te[-1]\n",
    "print(event[p](tFire,x[:,t==tFire]))\n",
    "print(x[p,t==tFire][0])"
   ]
  },
  {
   "cell_type": "code",
   "execution_count": 111,
   "metadata": {},
   "outputs": [
    {
     "name": "stdout",
     "output_type": "stream",
     "text": [
      "[9.500914713373855e-05]\n",
      "-6.776263578034403e-20\n",
      "9.500914713373842e-05\n"
     ]
    }
   ],
   "source": [
    "p=102\n",
    "# plt.plot(t,x[p,:])\n",
    "te = list(sol.t_events[p])\n",
    "print(te)\n",
    "tFire = te[-1]\n",
    "print(event[p](tFire,x[:,t==tFire][:,0]))\n",
    "print(x[p,t==tFire][0])"
   ]
  },
  {
   "cell_type": "code",
   "execution_count": 112,
   "metadata": {},
   "outputs": [
    {
     "name": "stdout",
     "output_type": "stream",
     "text": [
      "0.00033775312337480656\n",
      "-1.896655757319409\n",
      "-1.9789018372596745\n"
     ]
    }
   ],
   "source": [
    "p=np.argmin(np.mod(x_0,2*np.pi))\n",
    "print(x_0[p])\n",
    "print(x_target[p])\n",
    "print(x_tilde[p])"
   ]
  },
  {
   "cell_type": "code",
   "execution_count": 113,
   "metadata": {},
   "outputs": [
    {
     "name": "stdout",
     "output_type": "stream",
     "text": [
      "59\n",
      "0.00033775312337480656\n",
      "-1.896655757319409\n",
      "-1.9789018372596745\n"
     ]
    }
   ],
   "source": [
    "p=np.argmin(np.mod(x_0,2*np.pi))\n",
    "print(p)\n",
    "print(x_0[p])\n",
    "print(x_target[p])\n",
    "print(x_tilde[p])"
   ]
  },
  {
   "cell_type": "code",
   "execution_count": 114,
   "metadata": {},
   "outputs": [
    {
     "name": "stdout",
     "output_type": "stream",
     "text": [
      "[]\n"
     ]
    },
    {
     "ename": "IndexError",
     "evalue": "list index out of range",
     "output_type": "error",
     "traceback": [
      "\u001b[1;31m---------------------------------------------------------------------------\u001b[0m",
      "\u001b[1;31mIndexError\u001b[0m                                Traceback (most recent call last)",
      "\u001b[1;32m<ipython-input-117-3e32eb274b70>\u001b[0m in \u001b[0;36m<module>\u001b[1;34m()\u001b[0m\n\u001b[0;32m      4\u001b[0m \u001b[0mte\u001b[0m \u001b[1;33m=\u001b[0m \u001b[0mlist\u001b[0m\u001b[1;33m(\u001b[0m\u001b[0msol\u001b[0m\u001b[1;33m.\u001b[0m\u001b[0mt_events\u001b[0m\u001b[1;33m[\u001b[0m\u001b[0mp\u001b[0m\u001b[1;33m]\u001b[0m\u001b[1;33m)\u001b[0m\u001b[1;33m\u001b[0m\u001b[0m\n\u001b[0;32m      5\u001b[0m \u001b[0mprint\u001b[0m\u001b[1;33m(\u001b[0m\u001b[0mte\u001b[0m\u001b[1;33m)\u001b[0m\u001b[1;33m\u001b[0m\u001b[0m\n\u001b[1;32m----> 6\u001b[1;33m \u001b[0mtFire\u001b[0m \u001b[1;33m=\u001b[0m \u001b[0mte\u001b[0m\u001b[1;33m[\u001b[0m\u001b[1;33m-\u001b[0m\u001b[1;36m1\u001b[0m\u001b[1;33m]\u001b[0m\u001b[1;33m\u001b[0m\u001b[0m\n\u001b[0m\u001b[0;32m      7\u001b[0m \u001b[0mprint\u001b[0m\u001b[1;33m(\u001b[0m\u001b[0mevent\u001b[0m\u001b[1;33m[\u001b[0m\u001b[0mp\u001b[0m\u001b[1;33m]\u001b[0m\u001b[1;33m(\u001b[0m\u001b[0mtFire\u001b[0m\u001b[1;33m,\u001b[0m\u001b[0mx\u001b[0m\u001b[1;33m[\u001b[0m\u001b[1;33m:\u001b[0m\u001b[1;33m,\u001b[0m\u001b[0mt\u001b[0m\u001b[1;33m==\u001b[0m\u001b[0mtFire\u001b[0m\u001b[1;33m]\u001b[0m\u001b[1;33m[\u001b[0m\u001b[1;33m:\u001b[0m\u001b[1;33m,\u001b[0m\u001b[1;36m0\u001b[0m\u001b[1;33m]\u001b[0m\u001b[1;33m)\u001b[0m\u001b[1;33m)\u001b[0m\u001b[1;33m\u001b[0m\u001b[0m\n\u001b[0;32m      8\u001b[0m \u001b[0mprint\u001b[0m\u001b[1;33m(\u001b[0m\u001b[0mx\u001b[0m\u001b[1;33m[\u001b[0m\u001b[0mp\u001b[0m\u001b[1;33m,\u001b[0m\u001b[0mt\u001b[0m\u001b[1;33m==\u001b[0m\u001b[0mtFire\u001b[0m\u001b[1;33m]\u001b[0m\u001b[1;33m[\u001b[0m\u001b[1;36m0\u001b[0m\u001b[1;33m]\u001b[0m\u001b[1;33m)\u001b[0m\u001b[1;33m\u001b[0m\u001b[0m\n",
      "\u001b[1;31mIndexError\u001b[0m: list index out of range"
     ]
    }
   ],
   "source": [
    "p=59\n",
    "# plt.plot(t,x[p,:])\n",
    "te = list(sol.t_events[p])\n",
    "print(te)\n",
    "tFire = te[-1]\n",
    "print(event[p](tFire,x[:,t==tFire][:,0]))\n",
    "print(x[p,t==tFire][0])"
   ]
  },
  {
   "cell_type": "code",
   "execution_count": 115,
   "metadata": {},
   "outputs": [
    {
     "data": {
      "text/plain": [
       "[<matplotlib.lines.Line2D at 0x23453008940>]"
      ]
     },
     "execution_count": 118,
     "metadata": {},
     "output_type": "execute_result"
    },
    {
     "data": {
      "image/png": "[encoded data removed]",
      "text/plain": [
       "<Figure size 432x288 with 1 Axes>"
      ]
     },
     "metadata": {},
     "output_type": "display_data"
    }
   ],
   "source": [
    "p=59\n",
    "plt.plot(t,x[p,:])"
   ]
  },
  {
   "cell_type": "code",
   "execution_count": 116,
   "metadata": {},
   "outputs": [
    {
     "name": "stdout",
     "output_type": "stream",
     "text": [
      "200\n",
      "A termination event occurred.\n",
      "0.0015971117312915362\n",
      "65\n"
     ]
    }
   ],
   "source": [
    "sol = solve_ivp(mainode,(tNow,tf),xNow,events=event)\n",
    "print(len(sol.t_events))\n",
    "t = np.append(t,sol.t)\n",
    "x = np.append(x,sol.y,axis=1)\n",
    "tNow = t[-1]\n",
    "xNow = x[:,-1]\n",
    "print(sol.message)\n",
    "print(tNow)\n",
    "for j,te in enumerate(sol.t_events):\n",
    "        if te.size>0:\n",
    "                print(j)"
   ]
  },
  {
   "cell_type": "code",
   "execution_count": 117,
   "metadata": {},
   "outputs": [
    {
     "data": {
      "text/plain": [
       "[<matplotlib.lines.Line2D at 0x234530641d0>]"
      ]
     },
     "execution_count": 120,
     "metadata": {},
     "output_type": "execute_result"
    },
    {
     "data": {
      "image/png": "[encoded data removed]",
      "text/plain": [
       "<Figure size 432x288 with 1 Axes>"
      ]
     },
     "metadata": {},
     "output_type": "display_data"
    }
   ],
   "source": [
    "p=65\n",
    "plt.plot(t,x[p,:])"
   ]
  },
  {
   "cell_type": "code",
   "execution_count": 118,
   "metadata": {},
   "outputs": [
    {
     "name": "stdout",
     "output_type": "stream",
     "text": [
      "102\n",
      "A termination event occurred.\n",
      "9.500914714305008e-05\n"
     ]
    }
   ],
   "source": [
    "for func in event: \n",
    "        func.terminal = True # stop integration when any neuron fires\n",
    "# first round\n",
    "tf = 4*np.pi # end of simulation, unit in LFP phase\n",
    "sol = solve_ivp(mainode,(0,tf),x_0,events=event) # integrate\n",
    "                                # until a neuron fire\n",
    "t = sol.t; tNow = t[-1]         # record time\n",
    "x = sol.y; xNow = x[:,-1]       # state\n",
    "for j,te in enumerate(sol.t_events):\n",
    "        if te.size>0:\n",
    "                print(j)\n",
    "                x_fire[j] += list(te)      # update x_fire for calculating H\n",
    "print(sol.message)\n",
    "print(tNow)\n",
    "# print(len(xNow))"
   ]
  },
  {
   "cell_type": "code",
   "execution_count": 119,
   "metadata": {},
   "outputs": [
    {
     "name": "stdout",
     "output_type": "stream",
     "text": [
      "200\n",
      "A termination event occurred.\n",
      "0.0015972064713912866\n",
      "65\n"
     ]
    }
   ],
   "source": [
    "sol = solve_ivp(mainode,(tNow,tf),xNow,events=event)\n",
    "print(len(sol.t_events))\n",
    "t = np.append(t,sol.t)\n",
    "x = np.append(x,sol.y,axis=1)\n",
    "tNow = t[-1]\n",
    "xNow = x[:,-1]\n",
    "print(sol.message)\n",
    "print(tNow)\n",
    "for j,te in enumerate(sol.t_events):\n",
    "        if te.size>0:\n",
    "                print(j)"
   ]
  },
  {
   "cell_type": "code",
   "execution_count": 120,
   "metadata": {},
   "outputs": [
    {
     "name": "stdout",
     "output_type": "stream",
     "text": [
      "102\n",
      "A termination event occurred.\n",
      "9.500914714305008e-05\n"
     ]
    }
   ],
   "source": [
    "for func in event: \n",
    "        func.terminal = True # stop integration when any neuron fires\n",
    "# first round\n",
    "tf = 4*np.pi # end of simulation, unit in LFP phase\n",
    "sol = solve_ivp(mainode,(0,tf),x_0,events=event) # integrate\n",
    "                                # until a neuron fire\n",
    "t = sol.t; tNow = t[-1]         # record time\n",
    "x = sol.y; xNow = x[:,-1]       # state\n",
    "for j,te in enumerate(sol.t_events):\n",
    "        if te.size>0:\n",
    "                print(j)\n",
    "                x_fire[j] += list(te)      # update x_fire for calculating H\n",
    "print(sol.message)\n",
    "print(tNow)\n",
    "# print(len(xNow))"
   ]
  },
  {
   "cell_type": "code",
   "execution_count": 122,
   "metadata": {},
   "outputs": [
    {
     "name": "stdout",
     "output_type": "stream",
     "text": [
      "102\n",
      "A termination event occurred.\n",
      "0.00010765393351171302\n"
     ]
    }
   ],
   "source": [
    "for func in event: \n",
    "        func.terminal = True # stop integration when any neuron fires\n",
    "# first round\n",
    "tf = 4*np.pi # end of simulation, unit in LFP phase\n",
    "sol = solve_ivp(mainode,(0,tf),x_0,events=event) # integrate\n",
    "                                # until a neuron fire\n",
    "t = sol.t; tNow = t[-1]         # record time\n",
    "x = sol.y; xNow = x[:,-1]       # state\n",
    "for j,te in enumerate(sol.t_events):\n",
    "        if te.size>0:\n",
    "                print(j)\n",
    "                x_fire[j] += list(te)      # update x_fire for calculating H\n",
    "print(sol.message)\n",
    "print(tNow)\n",
    "# print(len(xNow))"
   ]
  },
  {
   "cell_type": "code",
   "execution_count": 123,
   "metadata": {},
   "outputs": [
    {
     "name": "stdout",
     "output_type": "stream",
     "text": [
      "A termination event occurred.\n",
      "0.0015962515098685611\n",
      "A termination event occurred.\n",
      "0.0018677777951298148\n",
      "A termination event occurred.\n",
      "0.002685363156043531\n",
      "A termination event occurred.\n",
      "0.003206173439267229\n",
      "A termination event occurred.\n",
      "0.004211496565823273\n",
      "A termination event occurred.\n",
      "0.004455832187495316\n",
      "A termination event occurred.\n",
      "0.005685062812213559\n",
      "A termination event occurred.\n",
      "0.005983980924149852\n",
      "A termination event occurred.\n",
      "0.006808465519482958\n",
      "A termination event occurred.\n",
      "0.006949583242168529\n",
      "A termination event occurred.\n",
      "0.00790909603757428\n",
      "A termination event occurred.\n",
      "0.008360800900892293\n",
      "A termination event occurred.\n",
      "0.011518390595077787\n",
      "A termination event occurred.\n",
      "0.014521947654822932\n",
      "A termination event occurred.\n",
      "0.017250834756905815\n",
      "A termination event occurred.\n",
      "0.02699588484997697\n",
      "A termination event occurred.\n",
      "0.02980546969876851\n",
      "A termination event occurred.\n",
      "0.03323787202311135\n",
      "A termination event occurred.\n",
      "0.036444435732925155\n",
      "A termination event occurred.\n",
      "0.03999118374828576\n",
      "A termination event occurred.\n",
      "0.06529356955150324\n",
      "A termination event occurred.\n",
      "0.09173308171063645\n",
      "A termination event occurred.\n",
      "0.11037942553901364\n",
      "A termination event occurred.\n",
      "0.11168467136900978\n",
      "A termination event occurred.\n",
      "0.15676524525181787\n",
      "A termination event occurred.\n",
      "0.16253791686147467\n",
      "A termination event occurred.\n",
      "0.17238341887877393\n",
      "A termination event occurred.\n",
      "0.1769937478103194\n",
      "A termination event occurred.\n",
      "0.1908398911952737\n",
      "A termination event occurred.\n",
      "0.1952755452840096\n",
      "A termination event occurred.\n",
      "0.20840724094453772\n",
      "A termination event occurred.\n",
      "0.22629603020731082\n",
      "A termination event occurred.\n",
      "0.22662707159985113\n",
      "A termination event occurred.\n",
      "0.22763346775993526\n",
      "A termination event occurred.\n",
      "0.23307967771057317\n",
      "A termination event occurred.\n",
      "0.2338076633110918\n",
      "A termination event occurred.\n",
      "0.2367593206205562\n",
      "A termination event occurred.\n",
      "0.23677662766822286\n",
      "A termination event occurred.\n",
      "0.23830845944834608\n",
      "A termination event occurred.\n",
      "0.2568514483031657\n",
      "A termination event occurred.\n",
      "0.25876437087657106\n",
      "A termination event occurred.\n",
      "0.2689814097387296\n",
      "A termination event occurred.\n",
      "0.2848729474766037\n",
      "A termination event occurred.\n",
      "0.2855111826261616\n",
      "A termination event occurred.\n",
      "0.28580297076173605\n",
      "A termination event occurred.\n",
      "0.2860704453752594\n",
      "A termination event occurred.\n",
      "0.29016804976638744\n",
      "A termination event occurred.\n",
      "0.30120482319294656\n",
      "A termination event occurred.\n",
      "0.30241796009421273\n",
      "A termination event occurred.\n",
      "0.3026566958805347\n",
      "A termination event occurred.\n",
      "0.30351131173696694\n",
      "A termination event occurred.\n",
      "0.30501494602242385\n",
      "A termination event occurred.\n",
      "0.3050966344436302\n",
      "A termination event occurred.\n",
      "0.3068782280690854\n",
      "A termination event occurred.\n",
      "0.31022886088031326\n",
      "A termination event occurred.\n",
      "0.3110438578989699\n",
      "A termination event occurred.\n",
      "0.3139646116969906\n",
      "A termination event occurred.\n",
      "0.316802221479501\n",
      "A termination event occurred.\n",
      "0.3223786400298637\n",
      "A termination event occurred.\n",
      "0.32281312743214624\n",
      "A termination event occurred.\n",
      "0.3241492012235393\n",
      "A termination event occurred.\n",
      "0.32702691428675795\n",
      "A termination event occurred.\n",
      "0.34133897990949985\n",
      "A termination event occurred.\n",
      "0.34164232532975003\n",
      "A termination event occurred.\n",
      "0.3445191995763621\n",
      "A termination event occurred.\n",
      "0.347686946906266\n",
      "A termination event occurred.\n",
      "0.3606225756812747\n",
      "A termination event occurred.\n",
      "0.36103619661151465\n",
      "A termination event occurred.\n",
      "0.3668328156445658\n",
      "A termination event occurred.\n",
      "0.3739590535119944\n",
      "A termination event occurred.\n",
      "0.37672821936154877\n",
      "A termination event occurred.\n",
      "0.3771983987505979\n",
      "A termination event occurred.\n",
      "0.3801590306112709\n",
      "A termination event occurred.\n",
      "0.38555969626088754\n",
      "A termination event occurred.\n",
      "0.38865098626050154\n",
      "A termination event occurred.\n",
      "0.3984208845655272\n",
      "A termination event occurred.\n",
      "0.4030670498472908\n",
      "A termination event occurred.\n",
      "0.40321013747756396\n",
      "A termination event occurred.\n",
      "0.4108009416523098\n",
      "A termination event occurred.\n",
      "0.41960117558712134\n",
      "A termination event occurred.\n",
      "0.4198820791478387\n",
      "A termination event occurred.\n",
      "0.4207916832035092\n",
      "A termination event occurred.\n",
      "0.4253515457252509\n",
      "A termination event occurred.\n",
      "0.42931062916180396\n",
      "A termination event occurred.\n",
      "0.42989858457996755\n",
      "A termination event occurred.\n",
      "0.4307318172686754\n",
      "A termination event occurred.\n",
      "0.4316120728599393\n",
      "A termination event occurred.\n",
      "0.43213319821541735\n",
      "A termination event occurred.\n",
      "0.43224819435979067\n",
      "A termination event occurred.\n",
      "0.4332727720067876\n",
      "A termination event occurred.\n",
      "0.4354739523346384\n",
      "A termination event occurred.\n",
      "0.43913708809506147\n",
      "A termination event occurred.\n",
      "0.4399123864546892\n",
      "A termination event occurred.\n",
      "0.44772476451134374\n",
      "A termination event occurred.\n",
      "0.46043199822825914\n",
      "A termination event occurred.\n",
      "0.4679689991387593\n",
      "A termination event occurred.\n",
      "0.47332623402591895\n",
      "A termination event occurred.\n",
      "0.47629575397336826\n",
      "A termination event occurred.\n",
      "0.4964875597249458\n",
      "A termination event occurred.\n",
      "0.5018588844181344\n",
      "A termination event occurred.\n",
      "0.5078925871014477\n",
      "A termination event occurred.\n",
      "0.5080584843571189\n",
      "A termination event occurred.\n",
      "0.5198150933647652\n",
      "A termination event occurred.\n",
      "0.5214243606155833\n",
      "A termination event occurred.\n",
      "0.5338724753907543\n",
      "A termination event occurred.\n",
      "0.5450775636352968\n",
      "A termination event occurred.\n",
      "0.5691250256994067\n",
      "A termination event occurred.\n",
      "0.6195313974267616\n",
      "A termination event occurred.\n",
      "0.6258874937868832\n",
      "A termination event occurred.\n",
      "0.6749571488905941\n",
      "A termination event occurred.\n",
      "0.6777720814209758\n",
      "A termination event occurred.\n",
      "0.6802483057660244\n",
      "A termination event occurred.\n",
      "0.6829964303625639\n",
      "A termination event occurred.\n",
      "0.6852731487689011\n",
      "A termination event occurred.\n",
      "0.6947354067386886\n",
      "A termination event occurred.\n",
      "0.704574755205153\n",
      "A termination event occurred.\n",
      "0.7055985830355438\n",
      "A termination event occurred.\n",
      "0.709316537195035\n",
      "A termination event occurred.\n",
      "0.7335709549255148\n",
      "A termination event occurred.\n",
      "0.7361225715961992\n",
      "A termination event occurred.\n",
      "0.7513885335940502\n",
      "A termination event occurred.\n",
      "0.7578169332014578\n",
      "A termination event occurred.\n",
      "0.7608467209073257\n",
      "A termination event occurred.\n",
      "0.7704740914942273\n",
      "A termination event occurred.\n",
      "0.8009021708662144\n",
      "A termination event occurred.\n",
      "0.8024326120977103\n",
      "A termination event occurred.\n",
      "0.8064672584801531\n",
      "A termination event occurred.\n",
      "0.854122477689067\n",
      "A termination event occurred.\n",
      "0.8574579639779555\n",
      "A termination event occurred.\n",
      "0.8619049722164083\n",
      "A termination event occurred.\n",
      "0.8794526198986953\n",
      "A termination event occurred.\n",
      "0.8851163310046712\n",
      "A termination event occurred.\n",
      "0.9563516170962107\n",
      "A termination event occurred.\n",
      "0.9734700923467854\n",
      "A termination event occurred.\n",
      "0.9930470960320388\n",
      "A termination event occurred.\n",
      "1.0159262700063427\n",
      "A termination event occurred.\n",
      "1.0372380596891928\n",
      "A termination event occurred.\n",
      "1.0516426902970748\n",
      "A termination event occurred.\n",
      "1.2423515951882769\n",
      "A termination event occurred.\n",
      "1.3873109071989904\n",
      "A termination event occurred.\n",
      "1.4072599079924868\n",
      "A termination event occurred.\n",
      "1.4339652851952387\n",
      "A termination event occurred.\n",
      "1.4431338559769697\n",
      "A termination event occurred.\n",
      "1.5013004602040116\n",
      "A termination event occurred.\n",
      "1.5162389973059276\n",
      "A termination event occurred.\n",
      "1.516472477741672\n",
      "A termination event occurred.\n",
      "1.520094003856029\n",
      "A termination event occurred.\n",
      "1.5263698609140657\n",
      "A termination event occurred.\n",
      "1.5363420366387401\n",
      "A termination event occurred.\n",
      "1.5802048975502783\n",
      "A termination event occurred.\n",
      "1.59054570654619\n",
      "A termination event occurred.\n",
      "1.592049103183793\n",
      "A termination event occurred.\n",
      "1.5952651475035091\n",
      "A termination event occurred.\n",
      "1.5960358113282707\n",
      "A termination event occurred.\n",
      "1.5975625949850436\n",
      "A termination event occurred.\n",
      "1.6114665182650476\n",
      "A termination event occurred.\n",
      "1.6355635051008457\n",
      "A termination event occurred.\n",
      "1.680952805855639\n",
      "A termination event occurred.\n",
      "1.6825592636954374\n",
      "A termination event occurred.\n",
      "1.6890786938021902\n",
      "A termination event occurred.\n",
      "1.697134288665305\n",
      "A termination event occurred.\n",
      "1.7137561895122941\n",
      "A termination event occurred.\n",
      "1.7698835313633714\n",
      "A termination event occurred.\n",
      "1.7939069218939512\n",
      "A termination event occurred.\n",
      "1.8090448373817198\n",
      "A termination event occurred.\n",
      "1.852287323037401\n"
     ]
    },
    {
     "name": "stdout",
     "output_type": "stream",
     "text": [
      "A termination event occurred.\n",
      "1.8625295953583136\n",
      "A termination event occurred.\n",
      "1.866619123168084\n",
      "A termination event occurred.\n",
      "1.8682677166616781\n",
      "A termination event occurred.\n",
      "1.8712796156817775\n",
      "A termination event occurred.\n",
      "1.8712937564878496\n",
      "A termination event occurred.\n",
      "1.883689292102802\n",
      "A termination event occurred.\n",
      "1.8846893150831598\n",
      "A termination event occurred.\n",
      "1.8885184983255048\n",
      "A termination event occurred.\n",
      "1.893028128090568\n",
      "A termination event occurred.\n",
      "1.893836063836473\n",
      "A termination event occurred.\n",
      "1.936191455730874\n",
      "A termination event occurred.\n",
      "1.9447868633466547\n",
      "A termination event occurred.\n",
      "2.0434774302756895\n",
      "A termination event occurred.\n",
      "2.0544805214327266\n",
      "A termination event occurred.\n",
      "2.0824500524422462\n",
      "A termination event occurred.\n",
      "2.0847506634836654\n",
      "A termination event occurred.\n",
      "2.1092539331763795\n",
      "A termination event occurred.\n",
      "2.1584909872545026\n",
      "A termination event occurred.\n",
      "2.1594792084257453\n",
      "A termination event occurred.\n",
      "2.164463701554694\n",
      "A termination event occurred.\n",
      "2.168658993383466\n",
      "A termination event occurred.\n",
      "2.1710521774630966\n",
      "A termination event occurred.\n",
      "2.177338078284476\n",
      "A termination event occurred.\n",
      "2.198693193033342\n",
      "A termination event occurred.\n",
      "2.2012266761552555\n",
      "A termination event occurred.\n",
      "2.2257909491644594\n",
      "A termination event occurred.\n",
      "2.2310269977503956\n",
      "A termination event occurred.\n",
      "2.2676029924408216\n",
      "A termination event occurred.\n",
      "2.2973390804109046\n",
      "A termination event occurred.\n",
      "2.3066882080647924\n",
      "A termination event occurred.\n",
      "2.3455218534763578\n",
      "A termination event occurred.\n",
      "2.3653573332096673\n",
      "A termination event occurred.\n",
      "2.39157369949698\n",
      "A termination event occurred.\n",
      "2.3953444300692706\n",
      "A termination event occurred.\n",
      "2.455637961681419\n",
      "A termination event occurred.\n",
      "2.462669509839845\n",
      "A termination event occurred.\n",
      "2.479494231184304\n",
      "A termination event occurred.\n",
      "2.483453806509408\n",
      "A termination event occurred.\n",
      "2.484104938311539\n",
      "A termination event occurred.\n",
      "2.514619967464224\n",
      "A termination event occurred.\n",
      "2.6226477662439196\n",
      "A termination event occurred.\n",
      "2.6289557935360497\n",
      "A termination event occurred.\n",
      "2.7655558738521058\n",
      "A termination event occurred.\n",
      "2.8360216775588185\n",
      "A termination event occurred.\n",
      "2.9251106017352226\n",
      "A termination event occurred.\n",
      "2.9958601211734965\n",
      "A termination event occurred.\n",
      "3.037146103030969\n",
      "A termination event occurred.\n",
      "3.0559046249651005\n",
      "A termination event occurred.\n",
      "3.225173472954928\n",
      "A termination event occurred.\n",
      "3.4801731018463804\n",
      "A termination event occurred.\n",
      "3.499092977555844\n",
      "A termination event occurred.\n",
      "3.5159199983167575\n",
      "A termination event occurred.\n",
      "3.529955883860355\n",
      "A termination event occurred.\n",
      "3.54969397624895\n",
      "A termination event occurred.\n",
      "3.6439737766465474\n",
      "A termination event occurred.\n",
      "3.7283244685780357\n",
      "A termination event occurred.\n",
      "4.060571790852102\n",
      "A termination event occurred.\n",
      "4.107693720550946\n",
      "A termination event occurred.\n",
      "4.145566532413736\n",
      "A termination event occurred.\n",
      "4.248576361542032\n",
      "A termination event occurred.\n",
      "4.273039206087417\n",
      "A termination event occurred.\n",
      "4.276728826812811\n",
      "A termination event occurred.\n",
      "4.282661034768703\n",
      "A termination event occurred.\n",
      "4.2972907510393155\n",
      "A termination event occurred.\n",
      "4.457951051771008\n",
      "A termination event occurred.\n",
      "4.460178555153434\n",
      "A termination event occurred.\n",
      "4.502166642087654\n",
      "A termination event occurred.\n",
      "4.5544960846270435\n",
      "A termination event occurred.\n",
      "4.575445542027301\n",
      "A termination event occurred.\n",
      "4.59724563757761\n",
      "A termination event occurred.\n",
      "4.6106438654699184\n",
      "A termination event occurred.\n",
      "4.674634238273952\n",
      "A termination event occurred.\n",
      "4.701862676711587\n",
      "A termination event occurred.\n",
      "4.75814456153556\n",
      "A termination event occurred.\n",
      "4.8100904590499205\n",
      "A termination event occurred.\n",
      "4.823272648315382\n",
      "A termination event occurred.\n",
      "4.8485509803457205\n",
      "A termination event occurred.\n",
      "4.849057090207576\n",
      "A termination event occurred.\n",
      "4.861560021722852\n",
      "A termination event occurred.\n",
      "4.921653911367141\n",
      "A termination event occurred.\n",
      "5.00646008788229\n",
      "A termination event occurred.\n",
      "5.02639006598545\n",
      "A termination event occurred.\n",
      "5.24813939264317\n",
      "A termination event occurred.\n",
      "5.488148116746043\n",
      "A termination event occurred.\n",
      "5.524434514440623\n",
      "A termination event occurred.\n",
      "5.5659491790947735\n",
      "A termination event occurred.\n",
      "5.604538876069451\n",
      "A termination event occurred.\n",
      "5.636612843178409\n",
      "A termination event occurred.\n",
      "5.695573147341012\n",
      "A termination event occurred.\n",
      "5.713214870022212\n",
      "A termination event occurred.\n",
      "5.744770306744679\n",
      "A termination event occurred.\n",
      "5.746614076480691\n",
      "A termination event occurred.\n",
      "5.758385083436725\n",
      "A termination event occurred.\n",
      "5.773599031737809\n",
      "A termination event occurred.\n",
      "5.776253857343703\n",
      "A termination event occurred.\n",
      "5.776535333896633\n",
      "A termination event occurred.\n",
      "5.785222808231709\n",
      "A termination event occurred.\n",
      "5.7867206651092\n",
      "A termination event occurred.\n",
      "5.796171459075603\n",
      "A termination event occurred.\n",
      "5.814572963465532\n",
      "A termination event occurred.\n",
      "5.842924957871701\n",
      "A termination event occurred.\n",
      "5.8505127553888965\n",
      "A termination event occurred.\n",
      "5.85605528873626\n",
      "A termination event occurred.\n",
      "5.858058120382121\n",
      "A termination event occurred.\n",
      "5.86526269972304\n",
      "A termination event occurred.\n",
      "5.868141865544202\n",
      "A termination event occurred.\n",
      "5.879316597633872\n",
      "A termination event occurred.\n",
      "5.893129330956169\n",
      "A termination event occurred.\n",
      "5.899553643523412\n",
      "A termination event occurred.\n",
      "5.929558229064949\n",
      "A termination event occurred.\n",
      "5.945676385641448\n",
      "A termination event occurred.\n",
      "5.97474273892963\n",
      "A termination event occurred.\n",
      "6.0061629909202425\n",
      "A termination event occurred.\n",
      "6.01918563667728\n",
      "A termination event occurred.\n",
      "6.025516364317183\n",
      "A termination event occurred.\n",
      "6.028785147565051\n",
      "A termination event occurred.\n",
      "6.030529683561963\n",
      "A termination event occurred.\n",
      "6.042061156509305\n",
      "A termination event occurred.\n",
      "6.047902122852409\n",
      "A termination event occurred.\n",
      "6.054782759143404\n",
      "A termination event occurred.\n",
      "6.066276244521174\n",
      "A termination event occurred.\n",
      "6.068916476386917\n",
      "A termination event occurred.\n",
      "6.076470921352922\n",
      "A termination event occurred.\n",
      "6.081961723359956\n",
      "A termination event occurred.\n",
      "6.084771307032681\n",
      "A termination event occurred.\n",
      "6.088138387269163\n",
      "A termination event occurred.\n",
      "6.111916599942378\n",
      "A termination event occurred.\n",
      "6.1179114493926745\n",
      "A termination event occurred.\n",
      "6.11961944198639\n",
      "A termination event occurred.\n",
      "6.129606208885096\n",
      "A termination event occurred.\n",
      "6.137300476001969\n",
      "A termination event occurred.\n",
      "6.170485809696585\n",
      "A termination event occurred.\n",
      "6.18572467252144\n",
      "A termination event occurred.\n",
      "6.195954620402262\n",
      "A termination event occurred.\n",
      "6.205847985393921\n",
      "A termination event occurred.\n",
      "6.211274080820076\n",
      "A termination event occurred.\n",
      "6.213145980696222\n",
      "A termination event occurred.\n",
      "6.234492588665582\n",
      "A termination event occurred.\n",
      "6.242180667978982\n",
      "A termination event occurred.\n",
      "6.2555365723849645\n",
      "A termination event occurred.\n",
      "6.262294993389296\n",
      "A termination event occurred.\n",
      "6.263363925347528\n",
      "A termination event occurred.\n",
      "6.264255175436957\n",
      "A termination event occurred.\n",
      "6.264826222690802\n",
      "A termination event occurred.\n",
      "6.268605575194966\n",
      "A termination event occurred.\n",
      "6.28485535545484\n",
      "A termination event occurred.\n",
      "6.2897039609619805\n",
      "A termination event occurred.\n",
      "6.302745493212485\n",
      "A termination event occurred.\n",
      "6.30307730575352\n",
      "A termination event occurred.\n",
      "6.30955312153809\n",
      "A termination event occurred.\n",
      "6.322812684790251\n",
      "A termination event occurred.\n",
      "6.323670359992836\n",
      "A termination event occurred.\n",
      "6.329626235575162\n",
      "A termination event occurred.\n",
      "6.329714589111963\n",
      "A termination event occurred.\n",
      "6.338247468516809\n",
      "A termination event occurred.\n",
      "6.346969029078827\n",
      "A termination event occurred.\n",
      "6.3515698066528\n",
      "A termination event occurred.\n",
      "6.36112116839192\n",
      "A termination event occurred.\n",
      "6.369000727860118\n",
      "A termination event occurred.\n",
      "6.390704503314444\n",
      "A termination event occurred.\n",
      "6.395461395512466\n",
      "A termination event occurred.\n",
      "6.400118932723748\n",
      "A termination event occurred.\n",
      "6.40444840340311\n",
      "A termination event occurred.\n",
      "6.421605162345852\n",
      "A termination event occurred.\n",
      "6.4294149559593174\n",
      "A termination event occurred.\n",
      "6.456905147416029\n",
      "A termination event occurred.\n",
      "6.47082674232673\n",
      "A termination event occurred.\n",
      "6.475568452578945\n",
      "A termination event occurred.\n",
      "6.478432256158807\n",
      "A termination event occurred.\n",
      "6.4920840330950345\n",
      "A termination event occurred.\n",
      "6.50669390722125\n"
     ]
    },
    {
     "name": "stdout",
     "output_type": "stream",
     "text": [
      "A termination event occurred.\n",
      "6.510808956330065\n",
      "A termination event occurred.\n",
      "6.513938552492875\n",
      "A termination event occurred.\n",
      "6.513956553641467\n",
      "A termination event occurred.\n",
      "6.522250105678546\n",
      "A termination event occurred.\n",
      "6.52946316863891\n",
      "A termination event occurred.\n",
      "6.5556865727641105\n",
      "A termination event occurred.\n",
      "6.561152860997\n",
      "A termination event occurred.\n",
      "6.566145757514933\n",
      "A termination event occurred.\n",
      "6.579306631052849\n",
      "A termination event occurred.\n",
      "6.587444198103344\n",
      "A termination event occurred.\n",
      "6.5875401080816784\n",
      "A termination event occurred.\n",
      "6.602026457026271\n",
      "A termination event occurred.\n",
      "6.60538123931396\n",
      "A termination event occurred.\n",
      "6.608888629314365\n",
      "A termination event occurred.\n",
      "6.621635453743533\n",
      "A termination event occurred.\n",
      "6.624925363416706\n",
      "A termination event occurred.\n",
      "6.635616546454763\n",
      "A termination event occurred.\n",
      "6.64891571002215\n",
      "A termination event occurred.\n",
      "6.6639594265822515\n",
      "A termination event occurred.\n",
      "6.696806934536583\n",
      "A termination event occurred.\n",
      "6.714408505212359\n",
      "A termination event occurred.\n",
      "6.718407607986211\n",
      "A termination event occurred.\n",
      "6.723607581183309\n",
      "A termination event occurred.\n",
      "6.746014904375611\n",
      "A termination event occurred.\n",
      "6.753077790941613\n",
      "A termination event occurred.\n",
      "6.754021763192186\n",
      "A termination event occurred.\n",
      "6.769992954809283\n",
      "A termination event occurred.\n",
      "6.790460369490575\n",
      "A termination event occurred.\n",
      "6.801719258870564\n",
      "A termination event occurred.\n",
      "6.803985815244713\n",
      "A termination event occurred.\n",
      "6.809265309070305\n",
      "A termination event occurred.\n",
      "6.818167296742013\n",
      "A termination event occurred.\n",
      "6.828153256401262\n",
      "A termination event occurred.\n",
      "6.858168420327551\n",
      "A termination event occurred.\n",
      "6.864005229195782\n",
      "A termination event occurred.\n",
      "6.872200674379739\n",
      "A termination event occurred.\n",
      "6.902142246121433\n",
      "A termination event occurred.\n",
      "6.915650430707732\n",
      "A termination event occurred.\n",
      "6.916967470739799\n",
      "A termination event occurred.\n",
      "6.933409914207617\n",
      "A termination event occurred.\n",
      "6.959401890429101\n",
      "A termination event occurred.\n",
      "6.9618113226801395\n",
      "A termination event occurred.\n",
      "6.976834467015843\n",
      "A termination event occurred.\n",
      "7.010351211921739\n",
      "A termination event occurred.\n",
      "7.028373630925664\n",
      "A termination event occurred.\n",
      "7.045886322968062\n",
      "A termination event occurred.\n",
      "7.063186521396612\n",
      "A termination event occurred.\n",
      "7.107809998307967\n",
      "A termination event occurred.\n",
      "7.140294508215665\n",
      "A termination event occurred.\n",
      "7.179684192370648\n",
      "A termination event occurred.\n",
      "7.187548545625181\n",
      "A termination event occurred.\n",
      "7.194635933496764\n",
      "A termination event occurred.\n",
      "7.240560281627827\n",
      "A termination event occurred.\n",
      "7.36152459335815\n",
      "A termination event occurred.\n",
      "7.394104721369549\n",
      "A termination event occurred.\n",
      "7.4722163140594455\n",
      "A termination event occurred.\n",
      "7.615544719231594\n",
      "A termination event occurred.\n",
      "7.661391564701632\n",
      "A termination event occurred.\n",
      "7.7940321918589515\n",
      "A termination event occurred.\n",
      "7.86728140534309\n",
      "A termination event occurred.\n",
      "7.880403254251521\n",
      "A termination event occurred.\n",
      "7.880639493519479\n",
      "A termination event occurred.\n",
      "7.941783889674377\n",
      "A termination event occurred.\n",
      "8.030326931815315\n",
      "A termination event occurred.\n",
      "8.06917111237432\n",
      "A termination event occurred.\n",
      "8.115845512459533\n",
      "A termination event occurred.\n",
      "8.123915204162023\n",
      "A termination event occurred.\n",
      "8.128185593603307\n",
      "A termination event occurred.\n",
      "8.13388415876546\n",
      "A termination event occurred.\n",
      "8.14264742324315\n",
      "A termination event occurred.\n",
      "8.155988196019296\n",
      "A termination event occurred.\n",
      "8.156835030414179\n",
      "A termination event occurred.\n",
      "8.28713319807874\n",
      "A termination event occurred.\n",
      "8.30839474662925\n",
      "A termination event occurred.\n",
      "8.36325049010517\n",
      "A termination event occurred.\n",
      "8.385462962200975\n",
      "A termination event occurred.\n",
      "8.391596187708414\n",
      "A termination event occurred.\n",
      "8.465225739273409\n",
      "A termination event occurred.\n",
      "8.467489426704681\n",
      "A termination event occurred.\n",
      "8.473495283805446\n",
      "A termination event occurred.\n",
      "8.476987585645304\n",
      "A termination event occurred.\n",
      "8.492421570921106\n",
      "A termination event occurred.\n",
      "8.563298442853176\n",
      "A termination event occurred.\n",
      "8.585582790651294\n",
      "A termination event occurred.\n",
      "8.644356501737521\n",
      "A termination event occurred.\n",
      "8.652138890952033\n",
      "A termination event occurred.\n",
      "8.685330402158145\n",
      "A termination event occurred.\n",
      "8.708830217145588\n",
      "A termination event occurred.\n",
      "8.728514872413351\n",
      "A termination event occurred.\n",
      "8.82110240845153\n",
      "A termination event occurred.\n",
      "8.85457731947883\n",
      "A termination event occurred.\n",
      "8.89127062090534\n",
      "A termination event occurred.\n",
      "9.138249649455464\n",
      "A termination event occurred.\n",
      "9.181462698899463\n",
      "A termination event occurred.\n",
      "9.182873442137208\n",
      "A termination event occurred.\n",
      "9.266526210777313\n",
      "A termination event occurred.\n",
      "9.280504861598152\n",
      "A termination event occurred.\n",
      "9.390064699526464\n",
      "A termination event occurred.\n",
      "9.513999438546488\n",
      "A termination event occurred.\n",
      "9.787344225388493\n",
      "A termination event occurred.\n",
      "9.897836379937951\n",
      "A termination event occurred.\n",
      "9.979306411369741\n",
      "A termination event occurred.\n",
      "10.146754867802109\n",
      "A termination event occurred.\n",
      "10.175807435625206\n",
      "A termination event occurred.\n",
      "10.25900813314816\n",
      "A termination event occurred.\n",
      "10.36678345146394\n",
      "A termination event occurred.\n",
      "10.380917091414288\n",
      "A termination event occurred.\n",
      "10.447118527978779\n",
      "A termination event occurred.\n",
      "10.533620971485325\n",
      "A termination event occurred.\n",
      "10.634016268529638\n",
      "A termination event occurred.\n",
      "10.702728233070891\n",
      "A termination event occurred.\n",
      "10.758589605044358\n",
      "A termination event occurred.\n",
      "10.765616408790638\n",
      "A termination event occurred.\n",
      "10.786133198429496\n",
      "A termination event occurred.\n",
      "10.893005282479763\n",
      "A termination event occurred.\n",
      "10.94371407115388\n",
      "A termination event occurred.\n",
      "11.000937944032696\n",
      "A termination event occurred.\n",
      "11.036056858501478\n",
      "A termination event occurred.\n",
      "11.047871640112227\n",
      "A termination event occurred.\n",
      "11.087263801784887\n",
      "A termination event occurred.\n",
      "11.208852039984052\n",
      "A termination event occurred.\n",
      "11.224212375353519\n",
      "A termination event occurred.\n",
      "11.276153516242024\n",
      "A termination event occurred.\n",
      "11.373219424969221\n",
      "A termination event occurred.\n",
      "11.63818132318229\n",
      "A termination event occurred.\n",
      "11.68262845417457\n",
      "A termination event occurred.\n",
      "11.898644708819297\n",
      "A termination event occurred.\n",
      "12.026639054618963\n",
      "A termination event occurred.\n",
      "12.042070566398177\n",
      "A termination event occurred.\n",
      "12.045380212431468\n",
      "A termination event occurred.\n",
      "12.059901759301068\n",
      "A termination event occurred.\n",
      "12.063392383823562\n",
      "A termination event occurred.\n",
      "12.080548975226366\n",
      "A termination event occurred.\n",
      "12.091984272970041\n",
      "A termination event occurred.\n",
      "12.097039640557947\n",
      "A termination event occurred.\n",
      "12.126788415364167\n",
      "A termination event occurred.\n",
      "12.1304094320832\n",
      "A termination event occurred.\n",
      "12.133385787181382\n",
      "A termination event occurred.\n",
      "12.133845184361208\n",
      "A termination event occurred.\n",
      "12.141933037168148\n",
      "A termination event occurred.\n",
      "12.152347890347936\n",
      "A termination event occurred.\n",
      "12.153775427517733\n",
      "A termination event occurred.\n",
      "12.208960808460523\n",
      "A termination event occurred.\n",
      "12.221116183036036\n",
      "A termination event occurred.\n",
      "12.223648093299458\n",
      "A termination event occurred.\n",
      "12.226210683588961\n",
      "A termination event occurred.\n",
      "12.230770181832614\n",
      "A termination event occurred.\n",
      "12.238068247755072\n",
      "A termination event occurred.\n",
      "12.244101012372646\n",
      "A termination event occurred.\n",
      "12.25966789691696\n",
      "A termination event occurred.\n",
      "12.308672859584549\n",
      "A termination event occurred.\n",
      "12.319925135085871\n",
      "A termination event occurred.\n",
      "12.338842749602398\n",
      "A termination event occurred.\n",
      "12.35213392649949\n",
      "A termination event occurred.\n",
      "12.354714446567582\n",
      "A termination event occurred.\n",
      "12.369420942800911\n",
      "A termination event occurred.\n",
      "12.376849033483124\n",
      "A termination event occurred.\n",
      "12.394091488991789\n",
      "A termination event occurred.\n",
      "12.399492484727055\n",
      "A termination event occurred.\n",
      "12.399568756464635\n",
      "A termination event occurred.\n",
      "12.41256837868476\n",
      "A termination event occurred.\n",
      "12.431164216298804\n",
      "A termination event occurred.\n",
      "12.44792143509666\n",
      "A termination event occurred.\n",
      "12.45584953437095\n",
      "A termination event occurred.\n",
      "12.46336984659525\n",
      "A termination event occurred.\n",
      "12.469826247799453\n",
      "A termination event occurred.\n",
      "12.475028827575292\n",
      "A termination event occurred.\n",
      "12.483259371007358\n",
      "A termination event occurred.\n",
      "12.497946599433044\n",
      "A termination event occurred.\n",
      "12.501443674245262\n",
      "A termination event occurred.\n",
      "12.513948629901305\n"
     ]
    },
    {
     "name": "stdout",
     "output_type": "stream",
     "text": [
      "A termination event occurred.\n",
      "12.515066464047383\n",
      "A termination event occurred.\n",
      "12.520411987271737\n",
      "A termination event occurred.\n",
      "12.529814582429026\n",
      "A termination event occurred.\n",
      "12.557121902836345\n",
      "The solver successfully reached the end of the integration interval.\n",
      "12.566370614359172\n"
     ]
    }
   ],
   "source": [
    "while tNow < tf:\n",
    "        sol = solve_ivp(mainode,(tNow,tf),xNow,events=event)\n",
    "        t = np.append(t,sol.t)          # integrate until one neuron\n",
    "        x = np.append(x,sol.y,axis=1)   # fires, record time, state,\n",
    "        tNow = t[-1]                    # firing time and neuron\n",
    "        xNow = x[:,-1]                  # index\n",
    "        for j,te in enumerate(sol.t_events): \n",
    "                event[j].terminal = True \n",
    "                if te.size>0:\n",
    "                        x_fire[j] += list(te)  # update x_fire for calculating H\n",
    "                        event[j].terminal = False\n",
    "        print(sol.message)\n",
    "        print(tNow)\n",
    "\n",
    "\n"
   ]
  },
  {
   "cell_type": "code",
   "execution_count": 124,
   "metadata": {},
   "outputs": [
    {
     "ename": "KeyboardInterrupt",
     "evalue": "",
     "output_type": "error",
     "traceback": [
      "\u001b[1;31m---------------------------------------------------------------------------\u001b[0m",
      "\u001b[1;31mKeyboardInterrupt\u001b[0m                         Traceback (most recent call last)",
      "\u001b[1;32m<ipython-input-127-a25e0bd680a3>\u001b[0m in \u001b[0;36m<module>\u001b[1;34m()\u001b[0m\n\u001b[0;32m      9\u001b[0m         \u001b[0mfig\u001b[0m\u001b[1;33m.\u001b[0m\u001b[0mshow\u001b[0m\u001b[1;33m(\u001b[0m\u001b[1;33m)\u001b[0m\u001b[1;33m\u001b[0m\u001b[0m\n\u001b[0;32m     10\u001b[0m         \u001b[1;32mreturn\u001b[0m \u001b[0mfig\u001b[0m\u001b[1;33m\u001b[0m\u001b[0m\n\u001b[1;32m---> 11\u001b[1;33m \u001b[0mraster\u001b[0m\u001b[1;33m(\u001b[0m\u001b[0mx_fire\u001b[0m\u001b[1;33m)\u001b[0m\u001b[1;33m\u001b[0m\u001b[0m\n\u001b[0m\u001b[0;32m     12\u001b[0m \u001b[1;33m\u001b[0m\u001b[0m\n",
      "\u001b[1;32m<ipython-input-127-a25e0bd680a3>\u001b[0m in \u001b[0;36mraster\u001b[1;34m(x_fire)\u001b[0m\n\u001b[0;32m      5\u001b[0m         \u001b[1;32mfor\u001b[0m \u001b[0mi\u001b[0m \u001b[1;32min\u001b[0m \u001b[0mrange\u001b[0m\u001b[1;33m(\u001b[0m\u001b[0mN\u001b[0m\u001b[1;33m)\u001b[0m\u001b[1;33m:\u001b[0m\u001b[1;33m\u001b[0m\u001b[0m\n\u001b[0;32m      6\u001b[0m                 \u001b[1;32mfor\u001b[0m \u001b[0mte\u001b[0m \u001b[1;32min\u001b[0m \u001b[0mx_fire\u001b[0m\u001b[1;33m[\u001b[0m\u001b[0mi\u001b[0m\u001b[1;33m]\u001b[0m\u001b[1;33m:\u001b[0m\u001b[1;33m\u001b[0m\u001b[0m\n\u001b[1;32m----> 7\u001b[1;33m                         \u001b[0max\u001b[0m\u001b[1;33m.\u001b[0m\u001b[0mvlines\u001b[0m\u001b[1;33m(\u001b[0m\u001b[0mte\u001b[0m\u001b[1;33m,\u001b[0m\u001b[0mi\u001b[0m\u001b[1;33m,\u001b[0m\u001b[0mi\u001b[0m\u001b[1;33m+\u001b[0m\u001b[1;36m1\u001b[0m\u001b[1;33m)\u001b[0m\u001b[1;33m\u001b[0m\u001b[0m\n\u001b[0m\u001b[0;32m      8\u001b[0m         \u001b[0max\u001b[0m\u001b[1;33m.\u001b[0m\u001b[0mset_ylim\u001b[0m\u001b[1;33m(\u001b[0m\u001b[1;36m0\u001b[0m\u001b[1;33m,\u001b[0m\u001b[0mN\u001b[0m\u001b[1;33m)\u001b[0m\u001b[1;33m\u001b[0m\u001b[0m\n\u001b[0;32m      9\u001b[0m         \u001b[0mfig\u001b[0m\u001b[1;33m.\u001b[0m\u001b[0mshow\u001b[0m\u001b[1;33m(\u001b[0m\u001b[1;33m)\u001b[0m\u001b[1;33m\u001b[0m\u001b[0m\n",
      "\u001b[1;32m~\\Anaconda3\\lib\\site-packages\\matplotlib\\__init__.py\u001b[0m in \u001b[0;36minner\u001b[1;34m(ax, *args, **kwargs)\u001b[0m\n\u001b[0;32m   1853\u001b[0m                         \u001b[1;34m\"the Matplotlib list!)\"\u001b[0m \u001b[1;33m%\u001b[0m \u001b[1;33m(\u001b[0m\u001b[0mlabel_namer\u001b[0m\u001b[1;33m,\u001b[0m \u001b[0mfunc\u001b[0m\u001b[1;33m.\u001b[0m\u001b[0m__name__\u001b[0m\u001b[1;33m)\u001b[0m\u001b[1;33m,\u001b[0m\u001b[1;33m\u001b[0m\u001b[0m\n\u001b[0;32m   1854\u001b[0m                         RuntimeWarning, stacklevel=2)\n\u001b[1;32m-> 1855\u001b[1;33m             \u001b[1;32mreturn\u001b[0m \u001b[0mfunc\u001b[0m\u001b[1;33m(\u001b[0m\u001b[0max\u001b[0m\u001b[1;33m,\u001b[0m \u001b[1;33m*\u001b[0m\u001b[0margs\u001b[0m\u001b[1;33m,\u001b[0m \u001b[1;33m**\u001b[0m\u001b[0mkwargs\u001b[0m\u001b[1;33m)\u001b[0m\u001b[1;33m\u001b[0m\u001b[0m\n\u001b[0m\u001b[0;32m   1856\u001b[0m \u001b[1;33m\u001b[0m\u001b[0m\n\u001b[0;32m   1857\u001b[0m         inner.__doc__ = _add_data_doc(inner.__doc__,\n",
      "\u001b[1;32m~\\Anaconda3\\lib\\site-packages\\matplotlib\\axes\\_axes.py\u001b[0m in \u001b[0;36mvlines\u001b[1;34m(self, x, ymin, ymax, colors, linestyles, label, **kwargs)\u001b[0m\n\u001b[0;32m   1063\u001b[0m             \u001b[0mcorners\u001b[0m \u001b[1;33m=\u001b[0m \u001b[1;33m(\u001b[0m\u001b[0mminx\u001b[0m\u001b[1;33m,\u001b[0m \u001b[0mminy\u001b[0m\u001b[1;33m)\u001b[0m\u001b[1;33m,\u001b[0m \u001b[1;33m(\u001b[0m\u001b[0mmaxx\u001b[0m\u001b[1;33m,\u001b[0m \u001b[0mmaxy\u001b[0m\u001b[1;33m)\u001b[0m\u001b[1;33m\u001b[0m\u001b[0m\n\u001b[0;32m   1064\u001b[0m             \u001b[0mself\u001b[0m\u001b[1;33m.\u001b[0m\u001b[0mupdate_datalim\u001b[0m\u001b[1;33m(\u001b[0m\u001b[0mcorners\u001b[0m\u001b[1;33m)\u001b[0m\u001b[1;33m\u001b[0m\u001b[0m\n\u001b[1;32m-> 1065\u001b[1;33m             \u001b[0mself\u001b[0m\u001b[1;33m.\u001b[0m\u001b[0mautoscale_view\u001b[0m\u001b[1;33m(\u001b[0m\u001b[1;33m)\u001b[0m\u001b[1;33m\u001b[0m\u001b[0m\n\u001b[0m\u001b[0;32m   1066\u001b[0m \u001b[1;33m\u001b[0m\u001b[0m\n\u001b[0;32m   1067\u001b[0m         \u001b[1;32mreturn\u001b[0m \u001b[0mlines\u001b[0m\u001b[1;33m\u001b[0m\u001b[0m\n",
      "\u001b[1;32m~\\Anaconda3\\lib\\site-packages\\matplotlib\\axes\\_base.py\u001b[0m in \u001b[0;36mautoscale_view\u001b[1;34m(self, tight, scalex, scaley)\u001b[0m\n\u001b[0;32m   2446\u001b[0m \u001b[1;33m\u001b[0m\u001b[0m\n\u001b[0;32m   2447\u001b[0m         \u001b[1;32mif\u001b[0m \u001b[0mself\u001b[0m\u001b[1;33m.\u001b[0m\u001b[0muse_sticky_edges\u001b[0m \u001b[1;32mand\u001b[0m \u001b[1;33m(\u001b[0m\u001b[0mself\u001b[0m\u001b[1;33m.\u001b[0m\u001b[0m_xmargin\u001b[0m \u001b[1;32mor\u001b[0m \u001b[0mself\u001b[0m\u001b[1;33m.\u001b[0m\u001b[0m_ymargin\u001b[0m\u001b[1;33m)\u001b[0m\u001b[1;33m:\u001b[0m\u001b[1;33m\u001b[0m\u001b[0m\n\u001b[1;32m-> 2448\u001b[1;33m             \u001b[0mstickies\u001b[0m \u001b[1;33m=\u001b[0m \u001b[1;33m[\u001b[0m\u001b[0martist\u001b[0m\u001b[1;33m.\u001b[0m\u001b[0msticky_edges\u001b[0m \u001b[1;32mfor\u001b[0m \u001b[0martist\u001b[0m \u001b[1;32min\u001b[0m \u001b[0mself\u001b[0m\u001b[1;33m.\u001b[0m\u001b[0mget_children\u001b[0m\u001b[1;33m(\u001b[0m\u001b[1;33m)\u001b[0m\u001b[1;33m]\u001b[0m\u001b[1;33m\u001b[0m\u001b[0m\n\u001b[0m\u001b[0;32m   2449\u001b[0m             \u001b[0mx_stickies\u001b[0m \u001b[1;33m=\u001b[0m \u001b[0msum\u001b[0m\u001b[1;33m(\u001b[0m\u001b[1;33m[\u001b[0m\u001b[0msticky\u001b[0m\u001b[1;33m.\u001b[0m\u001b[0mx\u001b[0m \u001b[1;32mfor\u001b[0m \u001b[0msticky\u001b[0m \u001b[1;32min\u001b[0m \u001b[0mstickies\u001b[0m\u001b[1;33m]\u001b[0m\u001b[1;33m,\u001b[0m \u001b[1;33m[\u001b[0m\u001b[1;33m]\u001b[0m\u001b[1;33m)\u001b[0m\u001b[1;33m\u001b[0m\u001b[0m\n\u001b[0;32m   2450\u001b[0m             \u001b[0my_stickies\u001b[0m \u001b[1;33m=\u001b[0m \u001b[0msum\u001b[0m\u001b[1;33m(\u001b[0m\u001b[1;33m[\u001b[0m\u001b[0msticky\u001b[0m\u001b[1;33m.\u001b[0m\u001b[0my\u001b[0m \u001b[1;32mfor\u001b[0m \u001b[0msticky\u001b[0m \u001b[1;32min\u001b[0m \u001b[0mstickies\u001b[0m\u001b[1;33m]\u001b[0m\u001b[1;33m,\u001b[0m \u001b[1;33m[\u001b[0m\u001b[1;33m]\u001b[0m\u001b[1;33m)\u001b[0m\u001b[1;33m\u001b[0m\u001b[0m\n",
      "\u001b[1;32m~\\Anaconda3\\lib\\site-packages\\matplotlib\\axes\\_base.py\u001b[0m in \u001b[0;36m<listcomp>\u001b[1;34m(.0)\u001b[0m\n\u001b[0;32m   2446\u001b[0m \u001b[1;33m\u001b[0m\u001b[0m\n\u001b[0;32m   2447\u001b[0m         \u001b[1;32mif\u001b[0m \u001b[0mself\u001b[0m\u001b[1;33m.\u001b[0m\u001b[0muse_sticky_edges\u001b[0m \u001b[1;32mand\u001b[0m \u001b[1;33m(\u001b[0m\u001b[0mself\u001b[0m\u001b[1;33m.\u001b[0m\u001b[0m_xmargin\u001b[0m \u001b[1;32mor\u001b[0m \u001b[0mself\u001b[0m\u001b[1;33m.\u001b[0m\u001b[0m_ymargin\u001b[0m\u001b[1;33m)\u001b[0m\u001b[1;33m:\u001b[0m\u001b[1;33m\u001b[0m\u001b[0m\n\u001b[1;32m-> 2448\u001b[1;33m             \u001b[0mstickies\u001b[0m \u001b[1;33m=\u001b[0m \u001b[1;33m[\u001b[0m\u001b[0martist\u001b[0m\u001b[1;33m.\u001b[0m\u001b[0msticky_edges\u001b[0m \u001b[1;32mfor\u001b[0m \u001b[0martist\u001b[0m \u001b[1;32min\u001b[0m \u001b[0mself\u001b[0m\u001b[1;33m.\u001b[0m\u001b[0mget_children\u001b[0m\u001b[1;33m(\u001b[0m\u001b[1;33m)\u001b[0m\u001b[1;33m]\u001b[0m\u001b[1;33m\u001b[0m\u001b[0m\n\u001b[0m\u001b[0;32m   2449\u001b[0m             \u001b[0mx_stickies\u001b[0m \u001b[1;33m=\u001b[0m \u001b[0msum\u001b[0m\u001b[1;33m(\u001b[0m\u001b[1;33m[\u001b[0m\u001b[0msticky\u001b[0m\u001b[1;33m.\u001b[0m\u001b[0mx\u001b[0m \u001b[1;32mfor\u001b[0m \u001b[0msticky\u001b[0m \u001b[1;32min\u001b[0m \u001b[0mstickies\u001b[0m\u001b[1;33m]\u001b[0m\u001b[1;33m,\u001b[0m \u001b[1;33m[\u001b[0m\u001b[1;33m]\u001b[0m\u001b[1;33m)\u001b[0m\u001b[1;33m\u001b[0m\u001b[0m\n\u001b[0;32m   2450\u001b[0m             \u001b[0my_stickies\u001b[0m \u001b[1;33m=\u001b[0m \u001b[0msum\u001b[0m\u001b[1;33m(\u001b[0m\u001b[1;33m[\u001b[0m\u001b[0msticky\u001b[0m\u001b[1;33m.\u001b[0m\u001b[0my\u001b[0m \u001b[1;32mfor\u001b[0m \u001b[0msticky\u001b[0m \u001b[1;32min\u001b[0m \u001b[0mstickies\u001b[0m\u001b[1;33m]\u001b[0m\u001b[1;33m,\u001b[0m \u001b[1;33m[\u001b[0m\u001b[1;33m]\u001b[0m\u001b[1;33m)\u001b[0m\u001b[1;33m\u001b[0m\u001b[0m\n",
      "\u001b[1;32m~\\Anaconda3\\lib\\site-packages\\matplotlib\\artist.py\u001b[0m in \u001b[0;36msticky_edges\u001b[1;34m(self)\u001b[0m\n\u001b[0;32m    959\u001b[0m \u001b[1;33m\u001b[0m\u001b[0m\n\u001b[0;32m    960\u001b[0m         \"\"\"\n\u001b[1;32m--> 961\u001b[1;33m         \u001b[1;32mreturn\u001b[0m \u001b[0mself\u001b[0m\u001b[1;33m.\u001b[0m\u001b[0m_sticky_edges\u001b[0m\u001b[1;33m\u001b[0m\u001b[0m\n\u001b[0m\u001b[0;32m    962\u001b[0m \u001b[1;33m\u001b[0m\u001b[0m\n\u001b[0;32m    963\u001b[0m     \u001b[1;32mdef\u001b[0m \u001b[0mupdate_from\u001b[0m\u001b[1;33m(\u001b[0m\u001b[0mself\u001b[0m\u001b[1;33m,\u001b[0m \u001b[0mother\u001b[0m\u001b[1;33m)\u001b[0m\u001b[1;33m:\u001b[0m\u001b[1;33m\u001b[0m\u001b[0m\n",
      "\u001b[1;31mKeyboardInterrupt\u001b[0m: "
     ]
    }
   ],
   "source": [
    "def raster(x_fire):\n",
    "        N = len(x_fire)\n",
    "        fig,ax = plt.subplots()\n",
    "        for i in range(N):\n",
    "                for te in x_fire[i]:\n",
    "                        ax.vlines(te,i,i+1)\n",
    "        ax.set_ylim(0,N)\n",
    "        fig.show()\n",
    "        return fig\n",
    "raster(x_fire)\n",
    "\n",
    "\n"
   ]
  },
  {
   "cell_type": "code",
   "execution_count": 125,
   "metadata": {},
   "outputs": [
    {
     "name": "stderr",
     "output_type": "stream",
     "text": [
      "C:\\Users\\golde\\Anaconda3\\lib\\site-packages\\matplotlib\\figure.py:459: UserWarning: matplotlib is currently using a non-GUI backend, so cannot show the figure\n",
      "  \"matplotlib is currently using a non-GUI backend, \"\n"
     ]
    },
    {
     "data": {
      "image/png": "[encoded data removed]",
      "text/plain": [
       "<Figure size 432x288 with 1 Axes>"
      ]
     },
     "execution_count": 128,
     "metadata": {},
     "output_type": "execute_result"
    },
    {
     "data": {
      "image/png": "[encoded data removed]",
      "text/plain": [
       "<Figure size 432x288 with 1 Axes>"
      ]
     },
     "metadata": {},
     "output_type": "display_data"
    }
   ],
   "source": [
    "def raster(x_fire,inds):\n",
    "        N = len(inds)\n",
    "        fig,ax = plt.subplots()\n",
    "        for i in inds:\n",
    "                for te in x_fire[i]:\n",
    "                        ax.vlines(te,i,i+1)\n",
    "        ax.set_ylim(0,N)\n",
    "        ax.set_xlabel('time in LFP phase')\n",
    "        ax.set_ylabel('neuron')\n",
    "        fig.show()\n",
    "        return fig\n",
    "raster(x_fire,range(10))\n",
    "\n",
    "\n"
   ]
  },
  {
   "cell_type": "code",
   "execution_count": 126,
   "metadata": {},
   "outputs": [
    {
     "data": {
      "text/plain": [
       "Text(0,0.5,'neuron')"
      ]
     },
     "execution_count": 129,
     "metadata": {},
     "output_type": "execute_result"
    },
    {
     "data": {
      "image/png": "[encoded data removed]",
      "text/plain": [
       "<Figure size 432x288 with 1 Axes>"
      ]
     },
     "metadata": {},
     "output_type": "display_data"
    }
   ],
   "source": [
    "# def raster(x_fire,inds):\n",
    "#         N = len(inds)\n",
    "#         fig,ax = plt.subplots()\n",
    "#         for i in inds:\n",
    "#                 for te in x_fire[i]:\n",
    "#                         ax.vlines(te,i,i+1)\n",
    "#         ax.set_ylim(0,N)\n",
    "#         ax.set_xlabel('time in LFP phase')\n",
    "#         ax.set_ylabel('neuron')\n",
    "#         fig.show()\n",
    "#         return fig\n",
    "# raster(x_fire,range(10))\n",
    "inds = range(10)\n",
    "N = len(inds)\n",
    "for i in inds:\n",
    "        for te in x_fire[i]:\n",
    "                plt.vlines(te,i,i+1)\n",
    "plt.ylim(0,N)\n",
    "plt.xlabel('time in LFP phase')\n",
    "plt.ylabel('neuron')\n",
    "\n"
   ]
  }
 ],
 "metadata": {
  "file_extension": ".py",
  "kernelspec": {
   "display_name": "Python 3",
   "language": "python",
   "name": "python3"
  },
  "language_info": {
   "codemirror_mode": {
    "name": "ipython",
    "version": 3
   },
   "file_extension": ".py",
   "mimetype": "text/x-python",
   "name": "python",
   "nbconvert_exporter": "python",
   "pygments_lexer": "ipython3",
   "version": "3.6.5"
  },
  "mimetype": "text/x-python",
  "name": "python",
  "npconvert_exporter": "python",
  "pygments_lexer": "ipython3",
  "version": 3
 },
 "nbformat": 4,
 "nbformat_minor": 2
}
